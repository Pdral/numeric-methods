{
  "cells": [
    {
      "cell_type": "code",
      "execution_count": 1,
      "metadata": {
        "id": "pNHTivKOr5Qs"
      },
      "outputs": [],
      "source": [
        "import numpy as np\n",
        "import matplotlib.pyplot as plt\n",
        "import pandas as pd"
      ]
    },
    {
      "cell_type": "markdown",
      "metadata": {
        "id": "eMukEES1uFMi"
      },
      "source": [
        "Primeiramente, vamos definir as funções que serão utilizadas, bem como uma função para esboçar os gráficos das funções"
      ]
    },
    {
      "cell_type": "code",
      "execution_count": 2,
      "metadata": {
        "id": "z9w-PNr-sbuS"
      },
      "outputs": [],
      "source": [
        "# Função responsável por calcular os valores de p e n.\n",
        "def vetor_possibilidades(coeficientes):\n",
        "  v = 0\n",
        "  coefic = [a for a in coeficientes if a != 0]\n",
        "  tamanho = len(coefic)\n",
        "  for i in range(tamanho-1):\n",
        "    if coefic[i]*coefic[i+1]<0:\n",
        "      v += 1\n",
        "  return [i for i in range(v+1) if (v-i)%2==0]"
      ]
    },
    {
      "cell_type": "code",
      "execution_count": null,
      "metadata": {
        "id": "MJMZz4tMsd-j"
      },
      "outputs": [],
      "source": [
        "# Função responsável por calcular o resultado dos coeficientes ao substituir x por -1.\n",
        "def f_inversa(coeficientes):\n",
        "  coeficientes = np.array(coeficientes)[::-1]\n",
        "  coefic = [(-1)**i * coeficientes[i] for i in range(len(coeficientes))]\n",
        "  return np.array(coefic)[::-1]"
      ]
    },
    {
      "cell_type": "code",
      "execution_count": 4,
      "metadata": {
        "id": "_U0SoCUMsf-q"
      },
      "outputs": [],
      "source": [
        "# A função que realiza o método de Descartes propriamente dito.\n",
        "# OBS: a ordem dos coeficientes será decrescente em todas as funções: [an, an-1, ..., a1, a0]\n",
        "def regradesinal(coeficientes):\n",
        "  grau = len(coeficientes)-1\n",
        "\n",
        "  p = vetor_possibilidades(coeficientes)\n",
        "\n",
        "  inv_coefic = f_inversa(coeficientes)\n",
        "  \n",
        "  n = vetor_possibilidades(inv_coefic)\n",
        "\n",
        "  possibilidades = []\n",
        "  for b in p:\n",
        "    for a in n:\n",
        "      possibilidade = [b,a]\n",
        "      possibilidade.append(grau-a-b)\n",
        "      possibilidades.append(possibilidade)\n",
        "  return pd.DataFrame(possibilidades, columns=['Positivas', 'Negativas', 'Complexas conjugadas'])"
      ]
    },
    {
      "cell_type": "code",
      "execution_count": 5,
      "metadata": {
        "id": "LhTK8oYxshbz"
      },
      "outputs": [],
      "source": [
        "# Função para calcular o raio da circunferência na qual encontram-se todas as raízes\n",
        "def calcula_r(coeficientes):\n",
        "  an = coeficientes[0]\n",
        "  coefic = np.array(coeficientes)[1:]\n",
        "  candidatos = [ai/an for ai in coefic]\n",
        "  r = 1 + max(candidatos)\n",
        "  return r"
      ]
    },
    {
      "cell_type": "code",
      "execution_count": 6,
      "metadata": {
        "id": "aOA0B-_ItbRA"
      },
      "outputs": [],
      "source": [
        "# Função para encontrar os b's e c's para os quais |delta_r/r| e |delta_s/s| está dentro da tolerância desejada.\n",
        "def encontra_deltas(coefic, r, s, erromax, grau):\n",
        "  b = [coefic[0],coefic[1] + r*coefic[0]]\n",
        "  for i in range(2, grau+1):\n",
        "    b.append(coefic[i] + r*b[i-1] + s*b[i-2])\n",
        "  c = [b[0], b[1] + r*b[0]]\n",
        "  for i in range(2, grau):\n",
        "    c.append(b[i] + r*c[i-1] + s*c[i-2])\n",
        "  c.append(0)\n",
        "  b_inv = np.array(b)[::-1]\n",
        "  c_inv = np.array(c)[::-1]\n",
        "  if c_inv[3] != 0:\n",
        "    delta_r = (-b_inv[0] + (c_inv[2]*b_inv[1])/c_inv[3])/(c_inv[1]-(c_inv[2]**2/c_inv[3]))\n",
        "    delta_s = (-b_inv[1] - c_inv[2]*delta_r)/c_inv[3]\n",
        "  else:\n",
        "    delta_r = -b_inv[1]/c_inv[2]\n",
        "    delta_s = (-b_inv[0] - c_inv[1]*delta_r)/c_inv[2]\n",
        "  # Se tanto c2 quanto c3 forem iguais a 0, o sistema é indeterminado.\n",
        "  r += delta_r\n",
        "  s += delta_s\n",
        "  if abs(delta_r/r) <= erromax and abs(delta_s/s) <= erromax:\n",
        "    return r, s, b[0:len(b)-2]\n",
        "  return encontra_deltas(coefic, r, s, erromax, grau)"
      ]
    },
    {
      "cell_type": "code",
      "execution_count": 7,
      "metadata": {
        "id": "LhFf7Juft7IC"
      },
      "outputs": [],
      "source": [
        "# Função que realiza o método de Bairstow propriamente dito.\n",
        "def bairstow(coefic, r, s, erromax):\n",
        "  x = []\n",
        "  grau = len(coefic)-1\n",
        "  while(grau>2):\n",
        "    r, s, coefic = encontra_deltas(coefic, r, s, erromax, grau)\n",
        "    delta = r**2 + 4*s\n",
        "    if delta>=0:\n",
        "      raiz_delta = np.sqrt(delta)\n",
        "    else:\n",
        "      raiz_delta = complex(0,np.sqrt(-1*delta))\n",
        "    x.append((r + raiz_delta)/2)\n",
        "    x.append((r - raiz_delta)/2)\n",
        "    grau = len(coefic)-1\n",
        "  if grau == 2:\n",
        "    delta = coefic[1]**2 - 4*coefic[0]*coefic[2]\n",
        "    if delta >= 0:\n",
        "      raiz_delta = np.sqrt(delta)\n",
        "    else:\n",
        "      raiz_delta = complex(0,np.sqrt(-1*delta))\n",
        "    x.append((-coefic[1] + raiz_delta)/2*coefic[0])\n",
        "    x.append((-coefic[1] - raiz_delta)/2*coefic[0])\n",
        "  else:\n",
        "    x.append(-coefic[1]/coefic[0])\n",
        "  return x"
      ]
    },
    {
      "cell_type": "code",
      "execution_count": 8,
      "metadata": {
        "id": "AZCYl-h4uCjX"
      },
      "outputs": [],
      "source": [
        "def plotagrafico(f, xmin, xmax, niter):\n",
        "  x = np.linspace(xmin,xmax,niter)\n",
        "  y = f(x)\n",
        "  plt.grid()\n",
        "  plt.plot(x, y)"
      ]
    },
    {
      "cell_type": "markdown",
      "metadata": {
        "id": "QanykPPsuSzY"
      },
      "source": [
        "Escolhemos o método de Bairstow pois ele é o mais eficiente em encontrar todas as raízes de uma função."
      ]
    },
    {
      "cell_type": "markdown",
      "metadata": {
        "id": "v0c2E0vkuhwp"
      },
      "source": [
        "Com isso, estamos prontos para iniciar."
      ]
    },
    {
      "cell_type": "markdown",
      "metadata": {
        "id": "jKv5gLFUumuu"
      },
      "source": [
        "**ITEM A**"
      ]
    },
    {
      "cell_type": "code",
      "execution_count": 9,
      "metadata": {
        "id": "ixICYaH5uowA"
      },
      "outputs": [],
      "source": [
        "def fa(x):\n",
        "  return x**4 -7.5*x**3 + 14.5*x**2 + 3*x - 20"
      ]
    },
    {
      "cell_type": "code",
      "execution_count": 10,
      "metadata": {
        "id": "MOPnbsDzvJsY"
      },
      "outputs": [],
      "source": [
        "coefic_a = [1, -7.5, 14.5, 3, -20]"
      ]
    },
    {
      "cell_type": "code",
      "execution_count": 11,
      "metadata": {
        "colab": {
          "base_uri": "https://localhost:8080/",
          "height": 112
        },
        "id": "vAcNy_xKvCqC",
        "outputId": "b75b8913-d1b7-4377-edc3-2003b36ca825"
      },
      "outputs": [
        {
          "data": {
            "text/html": [
              "<div>\n",
              "<style scoped>\n",
              "    .dataframe tbody tr th:only-of-type {\n",
              "        vertical-align: middle;\n",
              "    }\n",
              "\n",
              "    .dataframe tbody tr th {\n",
              "        vertical-align: top;\n",
              "    }\n",
              "\n",
              "    .dataframe thead th {\n",
              "        text-align: right;\n",
              "    }\n",
              "</style>\n",
              "<table border=\"1\" class=\"dataframe\">\n",
              "  <thead>\n",
              "    <tr style=\"text-align: right;\">\n",
              "      <th></th>\n",
              "      <th>Positivas</th>\n",
              "      <th>Negativas</th>\n",
              "      <th>Complexas conjugadas</th>\n",
              "    </tr>\n",
              "  </thead>\n",
              "  <tbody>\n",
              "    <tr>\n",
              "      <th>0</th>\n",
              "      <td>1</td>\n",
              "      <td>1</td>\n",
              "      <td>2</td>\n",
              "    </tr>\n",
              "    <tr>\n",
              "      <th>1</th>\n",
              "      <td>3</td>\n",
              "      <td>1</td>\n",
              "      <td>0</td>\n",
              "    </tr>\n",
              "  </tbody>\n",
              "</table>\n",
              "</div>"
            ],
            "text/plain": [
              "   Positivas  Negativas  Complexas conjugadas\n",
              "0          1          1                     2\n",
              "1          3          1                     0"
            ]
          },
          "execution_count": 11,
          "metadata": {},
          "output_type": "execute_result"
        }
      ],
      "source": [
        "regradesinal(coefic_a)"
      ]
    },
    {
      "cell_type": "code",
      "execution_count": 12,
      "metadata": {
        "colab": {
          "base_uri": "https://localhost:8080/"
        },
        "id": "ZqJzCit-vb2V",
        "outputId": "0ceea73e-46e9-4586-a1d6-ea1729dc4a84"
      },
      "outputs": [
        {
          "data": {
            "text/plain": [
              "15.5"
            ]
          },
          "execution_count": 12,
          "metadata": {},
          "output_type": "execute_result"
        }
      ],
      "source": [
        "calcula_r(coefic_a)"
      ]
    },
    {
      "cell_type": "code",
      "execution_count": 13,
      "metadata": {
        "colab": {
          "base_uri": "https://localhost:8080/"
        },
        "id": "-36B2dQYvjpV",
        "outputId": "786f50a6-22e6-4584-cdfb-053ce833a4bd"
      },
      "outputs": [
        {
          "data": {
            "text/plain": [
              "[1.9999999939497293,\n",
              " -1.0000000000820626,\n",
              " 3.999980480541373,\n",
              " 2.5000733018205326]"
            ]
          },
          "execution_count": 13,
          "metadata": {},
          "output_type": "execute_result"
        }
      ],
      "source": [
        "raizes_a = bairstow(coefic_a, 1, 1, 0.0001)\n",
        "raizes_a"
      ]
    },
    {
      "cell_type": "code",
      "execution_count": 14,
      "metadata": {
        "colab": {
          "base_uri": "https://localhost:8080/"
        },
        "id": "BI6YkcVR63cg",
        "outputId": "88c4d53e-9beb-4344-fb43-7eaca82e03e5"
      },
      "outputs": [
        {
          "data": {
            "text/plain": [
              "array([1.99999999, 1.        , 3.99998048, 2.5000733 ])"
            ]
          },
          "execution_count": 14,
          "metadata": {},
          "output_type": "execute_result"
        }
      ],
      "source": [
        "abs(np.array(raizes_a))"
      ]
    },
    {
      "cell_type": "markdown",
      "metadata": {
        "id": "ncC6bgZFvqOE"
      },
      "source": [
        "Segundo o método de Bairstow, temos 3 raízes positivas e 1 negativa, sendo essa a segunda possibilidade identificada pela regra de Descartes. Além disso, o módulo de todas as raízes encontra-se dentro da circunferência de raio r que encontramos. Podemos observar a acertividade do método através de uma visualização gráfica."
      ]
    },
    {
      "cell_type": "code",
      "execution_count": 15,
      "metadata": {
        "colab": {
          "base_uri": "https://localhost:8080/",
          "height": 264
        },
        "id": "-1JtFAy3voaf",
        "outputId": "514f55c3-a173-4ac5-b733-d739372d2515"
      },
      "outputs": [
        {
          "data": {
            "image/png": "[encoded data removed]",
            "text/plain": [
              "<Figure size 432x288 with 1 Axes>"
            ]
          },
          "metadata": {
            "needs_background": "light"
          },
          "output_type": "display_data"
        }
      ],
      "source": [
        "plotagrafico(fa, -2, 4, 1000)"
      ]
    },
    {
      "cell_type": "markdown",
      "metadata": {
        "id": "jPOX4vsn9pPf"
      },
      "source": [
        "Com um zoom maior nas raízes positivas..."
      ]
    },
    {
      "cell_type": "code",
      "execution_count": 16,
      "metadata": {
        "colab": {
          "base_uri": "https://localhost:8080/",
          "height": 264
        },
        "id": "vtBCJbV00dHj",
        "outputId": "c04d0ca6-eaf8-4a3e-807c-b9b389b5a7b9"
      },
      "outputs": [
        {
          "data": {
            "image/png": "[encoded data removed]",
            "text/plain": [
              "<Figure size 432x288 with 1 Axes>"
            ]
          },
          "metadata": {
            "needs_background": "light"
          },
          "output_type": "display_data"
        }
      ],
      "source": [
        "plotagrafico(fa, 1.8, 4.1, 1000)"
      ]
    },
    {
      "cell_type": "markdown",
      "metadata": {
        "id": "rJ9moeK70sK8"
      },
      "source": [
        "**ITEM B**"
      ]
    },
    {
      "cell_type": "code",
      "execution_count": 17,
      "metadata": {
        "id": "3w-Wizz50puX"
      },
      "outputs": [],
      "source": [
        "def fb(x):\n",
        "  return x**5 - 5*x**4 + x**3 - 6*x**2 - 7*x + 10 "
      ]
    },
    {
      "cell_type": "code",
      "execution_count": 18,
      "metadata": {
        "id": "1yZmo01w0629"
      },
      "outputs": [],
      "source": [
        "coefic_b = [1, -5, 1, -6, -7, 10]"
      ]
    },
    {
      "cell_type": "code",
      "execution_count": 19,
      "metadata": {
        "colab": {
          "base_uri": "https://localhost:8080/",
          "height": 143
        },
        "id": "0MSXPFrX1Agn",
        "outputId": "2aa6f65e-f07c-42dd-813e-11557438e5ff"
      },
      "outputs": [
        {
          "data": {
            "text/html": [
              "<div>\n",
              "<style scoped>\n",
              "    .dataframe tbody tr th:only-of-type {\n",
              "        vertical-align: middle;\n",
              "    }\n",
              "\n",
              "    .dataframe tbody tr th {\n",
              "        vertical-align: top;\n",
              "    }\n",
              "\n",
              "    .dataframe thead th {\n",
              "        text-align: right;\n",
              "    }\n",
              "</style>\n",
              "<table border=\"1\" class=\"dataframe\">\n",
              "  <thead>\n",
              "    <tr style=\"text-align: right;\">\n",
              "      <th></th>\n",
              "      <th>Positivas</th>\n",
              "      <th>Negativas</th>\n",
              "      <th>Complexas conjugadas</th>\n",
              "    </tr>\n",
              "  </thead>\n",
              "  <tbody>\n",
              "    <tr>\n",
              "      <th>0</th>\n",
              "      <td>0</td>\n",
              "      <td>1</td>\n",
              "      <td>4</td>\n",
              "    </tr>\n",
              "    <tr>\n",
              "      <th>1</th>\n",
              "      <td>2</td>\n",
              "      <td>1</td>\n",
              "      <td>2</td>\n",
              "    </tr>\n",
              "    <tr>\n",
              "      <th>2</th>\n",
              "      <td>4</td>\n",
              "      <td>1</td>\n",
              "      <td>0</td>\n",
              "    </tr>\n",
              "  </tbody>\n",
              "</table>\n",
              "</div>"
            ],
            "text/plain": [
              "   Positivas  Negativas  Complexas conjugadas\n",
              "0          0          1                     4\n",
              "1          2          1                     2\n",
              "2          4          1                     0"
            ]
          },
          "execution_count": 19,
          "metadata": {},
          "output_type": "execute_result"
        }
      ],
      "source": [
        "regradesinal(coefic_b)"
      ]
    },
    {
      "cell_type": "code",
      "execution_count": 20,
      "metadata": {
        "colab": {
          "base_uri": "https://localhost:8080/"
        },
        "id": "62vIpyCg1CNX",
        "outputId": "610286df-fd27-4ab0-ae69-97daabd773ab"
      },
      "outputs": [
        {
          "data": {
            "text/plain": [
              "11.0"
            ]
          },
          "execution_count": 20,
          "metadata": {},
          "output_type": "execute_result"
        }
      ],
      "source": [
        "calcula_r(coefic_b)"
      ]
    },
    {
      "cell_type": "code",
      "execution_count": 21,
      "metadata": {
        "colab": {
          "base_uri": "https://localhost:8080/"
        },
        "id": "qiYzNDQj1FkX",
        "outputId": "aa045fb4-4cfd-45b1-81de-51b15f68a9b8"
      },
      "outputs": [
        {
          "data": {
            "text/plain": [
              "[0.7710140905449575,\n",
              " -1.1040443698067357,\n",
              " (0.12929787997421885+1.5160306168358473j),\n",
              " (0.12929787997421885-1.5160306168358473j),\n",
              " 5.074434437283866]"
            ]
          },
          "execution_count": 21,
          "metadata": {},
          "output_type": "execute_result"
        }
      ],
      "source": [
        "raizes_b = bairstow(coefic_b, 1, 1, 0.0001)\n",
        "raizes_b"
      ]
    },
    {
      "cell_type": "code",
      "execution_count": 22,
      "metadata": {
        "colab": {
          "base_uri": "https://localhost:8080/"
        },
        "id": "XCtF8Cae7Ff-",
        "outputId": "4cd84323-18b8-42e2-c495-702f59e052a6"
      },
      "outputs": [
        {
          "data": {
            "text/plain": [
              "array([0.77101409, 1.10404437, 1.52153435, 1.52153435, 5.07443444])"
            ]
          },
          "execution_count": 22,
          "metadata": {},
          "output_type": "execute_result"
        }
      ],
      "source": [
        "abs(np.array(raizes_b))"
      ]
    },
    {
      "cell_type": "markdown",
      "metadata": {
        "id": "pF0ZrIdU1KYr"
      },
      "source": [
        "Encontramos 2 raízes positivas, 1 raiz negativa e 2 raízes complexas conjugadas, o que remete à segunda possibilidade encontrada pela regra de sinal de Descartes. Todas as raízes possuem módulo dentro do encontrado pelo método calcula_r. Analisemos o gráfico:"
      ]
    },
    {
      "cell_type": "code",
      "execution_count": 23,
      "metadata": {
        "colab": {
          "base_uri": "https://localhost:8080/",
          "height": 264
        },
        "id": "67ZYHFyv1JDp",
        "outputId": "7d1e6604-12cd-4fc4-cf85-842addd3f4ba"
      },
      "outputs": [
        {
          "data": {
            "image/png": "[encoded data removed]",
            "text/plain": [
              "<Figure size 432x288 with 1 Axes>"
            ]
          },
          "metadata": {
            "needs_background": "light"
          },
          "output_type": "display_data"
        }
      ],
      "source": [
        "plotagrafico(fb, -1.5, 5.2, 1000)"
      ]
    },
    {
      "cell_type": "markdown",
      "metadata": {
        "id": "UQ8gs5kb1_94"
      },
      "source": [
        "Podemos perceber que a curva cortou o eixo das abscissas 3 vezes (já que as outras duas raízes são complexas), nos pontos encontrados pelo método de Bairstow."
      ]
    },
    {
      "cell_type": "markdown",
      "metadata": {
        "id": "_58GaWKB2QUi"
      },
      "source": [
        "**ITEM C**"
      ]
    },
    {
      "cell_type": "code",
      "execution_count": 24,
      "metadata": {
        "id": "qIrVYnKC1mDB"
      },
      "outputs": [],
      "source": [
        "def fc(x):\n",
        "  return x**3 + x**2  - 3*x - 5"
      ]
    },
    {
      "cell_type": "code",
      "execution_count": 25,
      "metadata": {
        "id": "NSQv18bb2Yfz"
      },
      "outputs": [],
      "source": [
        "coefic_c = [1,1,-3,-5]"
      ]
    },
    {
      "cell_type": "code",
      "execution_count": 26,
      "metadata": {
        "colab": {
          "base_uri": "https://localhost:8080/",
          "height": 112
        },
        "id": "5ugaHF1w2d-A",
        "outputId": "06c6ea7d-a061-4245-890c-69f13019b42c"
      },
      "outputs": [
        {
          "data": {
            "text/html": [
              "<div>\n",
              "<style scoped>\n",
              "    .dataframe tbody tr th:only-of-type {\n",
              "        vertical-align: middle;\n",
              "    }\n",
              "\n",
              "    .dataframe tbody tr th {\n",
              "        vertical-align: top;\n",
              "    }\n",
              "\n",
              "    .dataframe thead th {\n",
              "        text-align: right;\n",
              "    }\n",
              "</style>\n",
              "<table border=\"1\" class=\"dataframe\">\n",
              "  <thead>\n",
              "    <tr style=\"text-align: right;\">\n",
              "      <th></th>\n",
              "      <th>Positivas</th>\n",
              "      <th>Negativas</th>\n",
              "      <th>Complexas conjugadas</th>\n",
              "    </tr>\n",
              "  </thead>\n",
              "  <tbody>\n",
              "    <tr>\n",
              "      <th>0</th>\n",
              "      <td>1</td>\n",
              "      <td>0</td>\n",
              "      <td>2</td>\n",
              "    </tr>\n",
              "    <tr>\n",
              "      <th>1</th>\n",
              "      <td>1</td>\n",
              "      <td>2</td>\n",
              "      <td>0</td>\n",
              "    </tr>\n",
              "  </tbody>\n",
              "</table>\n",
              "</div>"
            ],
            "text/plain": [
              "   Positivas  Negativas  Complexas conjugadas\n",
              "0          1          0                     2\n",
              "1          1          2                     0"
            ]
          },
          "execution_count": 26,
          "metadata": {},
          "output_type": "execute_result"
        }
      ],
      "source": [
        "regradesinal(coefic_c)"
      ]
    },
    {
      "cell_type": "code",
      "execution_count": 27,
      "metadata": {
        "colab": {
          "base_uri": "https://localhost:8080/"
        },
        "id": "8hgb6YqR2fN2",
        "outputId": "8e661132-1774-47a4-dd7e-89292390080c"
      },
      "outputs": [
        {
          "data": {
            "text/plain": [
              "2.0"
            ]
          },
          "execution_count": 27,
          "metadata": {},
          "output_type": "execute_result"
        }
      ],
      "source": [
        "calcula_r(coefic_c)"
      ]
    },
    {
      "cell_type": "code",
      "execution_count": 28,
      "metadata": {
        "colab": {
          "base_uri": "https://localhost:8080/"
        },
        "id": "2RrTjhEq2iG7",
        "outputId": "56df7248-20d0-4466-cb53-e62495fea3a9"
      },
      "outputs": [
        {
          "data": {
            "text/plain": [
              "[(-1.4598197828933324+0.688172819710032j),\n",
              " (-1.4598197828933324-0.688172819710032j),\n",
              " 1.9196419921388879]"
            ]
          },
          "execution_count": 28,
          "metadata": {},
          "output_type": "execute_result"
        }
      ],
      "source": [
        "raizes_c = bairstow(coefic_c, 1, 1, 0.0001)\n",
        "raizes_c"
      ]
    },
    {
      "cell_type": "code",
      "execution_count": 29,
      "metadata": {
        "colab": {
          "base_uri": "https://localhost:8080/"
        },
        "id": "nHrzXBm57Jc3",
        "outputId": "9468f4cd-f92b-4918-b45f-dd60fcc470ff"
      },
      "outputs": [
        {
          "data": {
            "text/plain": [
              "array([1.61389455, 1.61389455, 1.91964199])"
            ]
          },
          "execution_count": 29,
          "metadata": {},
          "output_type": "execute_result"
        }
      ],
      "source": [
        "abs(np.array(raizes_c))"
      ]
    },
    {
      "cell_type": "code",
      "execution_count": 30,
      "metadata": {
        "colab": {
          "base_uri": "https://localhost:8080/",
          "height": 264
        },
        "id": "NU_hGEbk2tsm",
        "outputId": "2968a3db-534c-4e29-a376-a85644568178"
      },
      "outputs": [
        {
          "data": {
            "image/png": "[encoded data removed]",
            "text/plain": [
              "<Figure size 432x288 with 1 Axes>"
            ]
          },
          "metadata": {
            "needs_background": "light"
          },
          "output_type": "display_data"
        }
      ],
      "source": [
        "plotagrafico(fc, -3, 3, 1000)"
      ]
    },
    {
      "cell_type": "markdown",
      "metadata": {
        "id": "EY_z_FH93Nu0"
      },
      "source": [
        "O método de Bairstow encontrou 2 raízes complexas conjugadas e 1 raiz positiva, conforme indicado pela primeira possibilidade da regra de sinal. Todas as raízes com módulos dentro da região esperada."
      ]
    },
    {
      "cell_type": "markdown",
      "metadata": {
        "id": "ADVYAZhC3iB1"
      },
      "source": [
        "**ITEM D**"
      ]
    },
    {
      "cell_type": "code",
      "execution_count": 31,
      "metadata": {
        "id": "NvTlg_dH3DuX"
      },
      "outputs": [],
      "source": [
        "def fd(x):\n",
        "  return x**3 - 0.5*x**2 + 4*x -3"
      ]
    },
    {
      "cell_type": "code",
      "execution_count": 32,
      "metadata": {
        "id": "b_WZEAJs3s8u"
      },
      "outputs": [],
      "source": [
        "coefic_d = [1,-0.5,4,-3]"
      ]
    },
    {
      "cell_type": "code",
      "execution_count": 33,
      "metadata": {
        "colab": {
          "base_uri": "https://localhost:8080/",
          "height": 112
        },
        "id": "INmprv343wMT",
        "outputId": "b8d5bf8c-3248-4b78-c253-9a7b42158432"
      },
      "outputs": [
        {
          "data": {
            "text/html": [
              "<div>\n",
              "<style scoped>\n",
              "    .dataframe tbody tr th:only-of-type {\n",
              "        vertical-align: middle;\n",
              "    }\n",
              "\n",
              "    .dataframe tbody tr th {\n",
              "        vertical-align: top;\n",
              "    }\n",
              "\n",
              "    .dataframe thead th {\n",
              "        text-align: right;\n",
              "    }\n",
              "</style>\n",
              "<table border=\"1\" class=\"dataframe\">\n",
              "  <thead>\n",
              "    <tr style=\"text-align: right;\">\n",
              "      <th></th>\n",
              "      <th>Positivas</th>\n",
              "      <th>Negativas</th>\n",
              "      <th>Complexas conjugadas</th>\n",
              "    </tr>\n",
              "  </thead>\n",
              "  <tbody>\n",
              "    <tr>\n",
              "      <th>0</th>\n",
              "      <td>1</td>\n",
              "      <td>0</td>\n",
              "      <td>2</td>\n",
              "    </tr>\n",
              "    <tr>\n",
              "      <th>1</th>\n",
              "      <td>3</td>\n",
              "      <td>0</td>\n",
              "      <td>0</td>\n",
              "    </tr>\n",
              "  </tbody>\n",
              "</table>\n",
              "</div>"
            ],
            "text/plain": [
              "   Positivas  Negativas  Complexas conjugadas\n",
              "0          1          0                     2\n",
              "1          3          0                     0"
            ]
          },
          "execution_count": 33,
          "metadata": {},
          "output_type": "execute_result"
        }
      ],
      "source": [
        "regradesinal(coefic_d)"
      ]
    },
    {
      "cell_type": "code",
      "execution_count": 34,
      "metadata": {
        "colab": {
          "base_uri": "https://localhost:8080/"
        },
        "id": "fO8sHptq3x5L",
        "outputId": "09796ed6-5cf8-4eb6-ebed-7223821507a7"
      },
      "outputs": [
        {
          "data": {
            "text/plain": [
              "5.0"
            ]
          },
          "execution_count": 34,
          "metadata": {},
          "output_type": "execute_result"
        }
      ],
      "source": [
        "calcula_r(coefic_d)"
      ]
    },
    {
      "cell_type": "code",
      "execution_count": 35,
      "metadata": {
        "colab": {
          "base_uri": "https://localhost:8080/"
        },
        "id": "w7PA2g4x305D",
        "outputId": "7bbab25e-d341-4b5f-8971-16fe86d5bb63"
      },
      "outputs": [
        {
          "data": {
            "text/plain": [
              "[(-0.11061522634781971+2.0364975843952635j),\n",
              " (-0.11061522634781971-2.0364975843952635j),\n",
              " 0.7212305781381501]"
            ]
          },
          "execution_count": 35,
          "metadata": {},
          "output_type": "execute_result"
        }
      ],
      "source": [
        "raizes_d = bairstow(coefic_d, 1, 1, 0.0001)\n",
        "raizes_d"
      ]
    },
    {
      "cell_type": "code",
      "execution_count": 36,
      "metadata": {
        "colab": {
          "base_uri": "https://localhost:8080/"
        },
        "id": "jJmcuxWq7OgG",
        "outputId": "94dfea17-648e-4384-8298-1333e4606884"
      },
      "outputs": [
        {
          "data": {
            "text/plain": [
              "array([2.03949948, 2.03949948, 0.72123058])"
            ]
          },
          "execution_count": 36,
          "metadata": {},
          "output_type": "execute_result"
        }
      ],
      "source": [
        "abs(np.array(raizes_d))"
      ]
    },
    {
      "cell_type": "code",
      "execution_count": 37,
      "metadata": {
        "colab": {
          "base_uri": "https://localhost:8080/",
          "height": 264
        },
        "id": "uYFRM2BZ35y6",
        "outputId": "79bae680-663f-4dbe-9f20-ae9a154dfa75"
      },
      "outputs": [
        {
          "data": {
            "image/png": "[encoded data removed]",
            "text/plain": [
              "<Figure size 432x288 with 1 Axes>"
            ]
          },
          "metadata": {
            "needs_background": "light"
          },
          "output_type": "display_data"
        }
      ],
      "source": [
        "plotagrafico(fd, -3, 3, 1000)"
      ]
    },
    {
      "cell_type": "markdown",
      "metadata": {
        "id": "y99eiV5k4KbV"
      },
      "source": [
        "Encontramos 1 raiz positiva e 2 complexas conjugadas, conforme a primeira possibilidade indicada pela regra de Descartes, todas as raízes com módulo dentro do esperado."
      ]
    },
    {
      "cell_type": "markdown",
      "metadata": {
        "id": "NzsgScPW4Kd1"
      },
      "source": [
        "**ITEM E**"
      ]
    },
    {
      "cell_type": "code",
      "execution_count": 38,
      "metadata": {
        "id": "9dUprpo93-ZO"
      },
      "outputs": [],
      "source": [
        "def fe(x):\n",
        "  return 2*x**4 + 6*x**2 + 10"
      ]
    },
    {
      "cell_type": "code",
      "execution_count": 39,
      "metadata": {
        "id": "I9jBnQoY4rqI"
      },
      "outputs": [],
      "source": [
        "coefic_e = [2,0,6,0,10]"
      ]
    },
    {
      "cell_type": "code",
      "execution_count": 40,
      "metadata": {
        "colab": {
          "base_uri": "https://localhost:8080/",
          "height": 81
        },
        "id": "TIbUwemE4uA3",
        "outputId": "497cdb29-8522-4eb1-fae6-a36138f99290"
      },
      "outputs": [
        {
          "data": {
            "text/html": [
              "<div>\n",
              "<style scoped>\n",
              "    .dataframe tbody tr th:only-of-type {\n",
              "        vertical-align: middle;\n",
              "    }\n",
              "\n",
              "    .dataframe tbody tr th {\n",
              "        vertical-align: top;\n",
              "    }\n",
              "\n",
              "    .dataframe thead th {\n",
              "        text-align: right;\n",
              "    }\n",
              "</style>\n",
              "<table border=\"1\" class=\"dataframe\">\n",
              "  <thead>\n",
              "    <tr style=\"text-align: right;\">\n",
              "      <th></th>\n",
              "      <th>Positivas</th>\n",
              "      <th>Negativas</th>\n",
              "      <th>Complexas conjugadas</th>\n",
              "    </tr>\n",
              "  </thead>\n",
              "  <tbody>\n",
              "    <tr>\n",
              "      <th>0</th>\n",
              "      <td>0</td>\n",
              "      <td>0</td>\n",
              "      <td>4</td>\n",
              "    </tr>\n",
              "  </tbody>\n",
              "</table>\n",
              "</div>"
            ],
            "text/plain": [
              "   Positivas  Negativas  Complexas conjugadas\n",
              "0          0          0                     4"
            ]
          },
          "execution_count": 40,
          "metadata": {},
          "output_type": "execute_result"
        }
      ],
      "source": [
        "regradesinal(coefic_e)"
      ]
    },
    {
      "cell_type": "code",
      "execution_count": 41,
      "metadata": {
        "colab": {
          "base_uri": "https://localhost:8080/"
        },
        "id": "SW6yGAWQ4vq4",
        "outputId": "19cb4d5b-7655-41a3-e3a7-4c5cd7c39140"
      },
      "outputs": [
        {
          "data": {
            "text/plain": [
              "6.0"
            ]
          },
          "execution_count": 41,
          "metadata": {},
          "output_type": "execute_result"
        }
      ],
      "source": [
        "calcula_r(coefic_e)"
      ]
    },
    {
      "cell_type": "code",
      "execution_count": 42,
      "metadata": {
        "colab": {
          "base_uri": "https://localhost:8080/"
        },
        "id": "KOT31bBx4y50",
        "outputId": "e1a18f27-52df-4993-c7c0-353f39f60930"
      },
      "outputs": [
        {
          "data": {
            "text/plain": [
              "[(0.6066580492747911+1.3667603991738622j),\n",
              " (0.6066580492747911-1.3667603991738622j),\n",
              " (-2.4266322180070996+5.467041618842865j),\n",
              " (-2.4266322180070996-5.467041618842865j)]"
            ]
          },
          "execution_count": 42,
          "metadata": {},
          "output_type": "execute_result"
        }
      ],
      "source": [
        "raizes_e = bairstow(coefic_e, 1, 1, 0.0001)\n",
        "raizes_e"
      ]
    },
    {
      "cell_type": "code",
      "execution_count": 43,
      "metadata": {
        "colab": {
          "base_uri": "https://localhost:8080/"
        },
        "id": "hoVN3AOZ7VDm",
        "outputId": "55691310-c479-4ef6-9297-a945209708b5"
      },
      "outputs": [
        {
          "data": {
            "text/plain": [
              "array([1.49534878, 1.49534878, 5.98139515, 5.98139515])"
            ]
          },
          "execution_count": 43,
          "metadata": {},
          "output_type": "execute_result"
        }
      ],
      "source": [
        "abs(np.array(raizes_e))"
      ]
    },
    {
      "cell_type": "code",
      "execution_count": 44,
      "metadata": {
        "colab": {
          "base_uri": "https://localhost:8080/",
          "height": 264
        },
        "id": "Jl5Pm0QT45Im",
        "outputId": "05ba48fb-3911-43a7-9536-ddcc2ba0326d"
      },
      "outputs": [
        {
          "data": {
            "image/png": "[encoded data removed]",
            "text/plain": [
              "<Figure size 432x288 with 1 Axes>"
            ]
          },
          "metadata": {
            "needs_background": "light"
          },
          "output_type": "display_data"
        }
      ],
      "source": [
        "plotagrafico(fe, -2, 2, 1000)"
      ]
    },
    {
      "cell_type": "markdown",
      "metadata": {
        "id": "veh-62XG5Xbe"
      },
      "source": [
        "Como podemos perceber, o método de Bairstow encontrou 2 pares complexos conjugados, de modo que, como observamos no gráfico, a curva representativa de fe(x) não corta o eixo X em nenhum ponto. Todas a raízes complexas possuem módulo dentro do esperado."
      ]
    },
    {
      "cell_type": "markdown",
      "metadata": {
        "id": "v3_xWxYO8Ug5"
      },
      "source": [
        "**ITEM F**"
      ]
    },
    {
      "cell_type": "code",
      "execution_count": 45,
      "metadata": {
        "id": "h_wT9-hK6nuY"
      },
      "outputs": [],
      "source": [
        "def ff(x):\n",
        "  return x**4 - 2*x**3 + 6*x**2 - 8*x + 8"
      ]
    },
    {
      "cell_type": "code",
      "execution_count": 46,
      "metadata": {
        "id": "JwEVrAAL8ehz"
      },
      "outputs": [],
      "source": [
        "coefic_f = [1,-2,6,-8,8]"
      ]
    },
    {
      "cell_type": "code",
      "execution_count": 47,
      "metadata": {
        "colab": {
          "base_uri": "https://localhost:8080/",
          "height": 143
        },
        "id": "tJEkhYeh8hYO",
        "outputId": "70004866-d3af-46a4-ef08-c8154596991f"
      },
      "outputs": [
        {
          "data": {
            "text/html": [
              "<div>\n",
              "<style scoped>\n",
              "    .dataframe tbody tr th:only-of-type {\n",
              "        vertical-align: middle;\n",
              "    }\n",
              "\n",
              "    .dataframe tbody tr th {\n",
              "        vertical-align: top;\n",
              "    }\n",
              "\n",
              "    .dataframe thead th {\n",
              "        text-align: right;\n",
              "    }\n",
              "</style>\n",
              "<table border=\"1\" class=\"dataframe\">\n",
              "  <thead>\n",
              "    <tr style=\"text-align: right;\">\n",
              "      <th></th>\n",
              "      <th>Positivas</th>\n",
              "      <th>Negativas</th>\n",
              "      <th>Complexas conjugadas</th>\n",
              "    </tr>\n",
              "  </thead>\n",
              "  <tbody>\n",
              "    <tr>\n",
              "      <th>0</th>\n",
              "      <td>0</td>\n",
              "      <td>0</td>\n",
              "      <td>4</td>\n",
              "    </tr>\n",
              "    <tr>\n",
              "      <th>1</th>\n",
              "      <td>2</td>\n",
              "      <td>0</td>\n",
              "      <td>2</td>\n",
              "    </tr>\n",
              "    <tr>\n",
              "      <th>2</th>\n",
              "      <td>4</td>\n",
              "      <td>0</td>\n",
              "      <td>0</td>\n",
              "    </tr>\n",
              "  </tbody>\n",
              "</table>\n",
              "</div>"
            ],
            "text/plain": [
              "   Positivas  Negativas  Complexas conjugadas\n",
              "0          0          0                     4\n",
              "1          2          0                     2\n",
              "2          4          0                     0"
            ]
          },
          "execution_count": 47,
          "metadata": {},
          "output_type": "execute_result"
        }
      ],
      "source": [
        "regradesinal(coefic_f)"
      ]
    },
    {
      "cell_type": "code",
      "execution_count": 48,
      "metadata": {
        "colab": {
          "base_uri": "https://localhost:8080/"
        },
        "id": "BQi_hOHe8ika",
        "outputId": "dba3e983-5b44-40ad-affe-b6ffe6800402"
      },
      "outputs": [
        {
          "data": {
            "text/plain": [
              "9.0"
            ]
          },
          "execution_count": 48,
          "metadata": {},
          "output_type": "execute_result"
        }
      ],
      "source": [
        "calcula_r(coefic_f)"
      ]
    },
    {
      "cell_type": "code",
      "execution_count": 49,
      "metadata": {
        "colab": {
          "base_uri": "https://localhost:8080/"
        },
        "id": "rFAmDTBQ8kJV",
        "outputId": "b2f07ec0-4e30-46e0-eac5-7b547256cab1"
      },
      "outputs": [
        {
          "data": {
            "text/plain": [
              "[(0.9999999999979512+1.000000000000811j),\n",
              " (0.9999999999979512-1.000000000000811j),\n",
              " (1.06248732367753e-06+2.0000011549190937j),\n",
              " (1.06248732367753e-06-2.0000011549190937j)]"
            ]
          },
          "execution_count": 49,
          "metadata": {},
          "output_type": "execute_result"
        }
      ],
      "source": [
        "raizes_f = bairstow(coefic_f, 1, 1, 0.0001)\n",
        "raizes_f"
      ]
    },
    {
      "cell_type": "code",
      "execution_count": 50,
      "metadata": {
        "colab": {
          "base_uri": "https://localhost:8080/"
        },
        "id": "LYdoHnQO-B_d",
        "outputId": "b479e02c-40b3-481c-8460-ec0f9c3c3cbc"
      },
      "outputs": [
        {
          "data": {
            "text/plain": [
              "array([1.41421356, 1.41421356, 2.00000115, 2.00000115])"
            ]
          },
          "execution_count": 50,
          "metadata": {},
          "output_type": "execute_result"
        }
      ],
      "source": [
        "abs(np.array(raizes_f))"
      ]
    },
    {
      "cell_type": "code",
      "execution_count": 51,
      "metadata": {
        "colab": {
          "base_uri": "https://localhost:8080/",
          "height": 264
        },
        "id": "uzjgjiZ7CSmr",
        "outputId": "eb8b7861-1d65-4efb-8a16-ad3b93db9ccc"
      },
      "outputs": [
        {
          "data": {
            "image/png": "[encoded data removed]",
            "text/plain": [
              "<Figure size 432x288 with 1 Axes>"
            ]
          },
          "metadata": {
            "needs_background": "light"
          },
          "output_type": "display_data"
        }
      ],
      "source": [
        "plotagrafico(ff, -2, 3, 1000)"
      ]
    },
    {
      "cell_type": "markdown",
      "metadata": {
        "id": "UQnjeFpzCeEV"
      },
      "source": [
        "As raízes da função analisada são 2 pares complexos conjugados, confome indicado na primeira possibilidade da regra de sinal e comprovado pelo gráfico acima. Todas as raízes possuem módulo dentro do esperado."
      ]
    },
    {
      "cell_type": "code",
      "execution_count": 51,
      "metadata": {
        "id": "5mnf-3qhC6ve"
      },
      "outputs": [],
      "source": []
    }
  ],
  "metadata": {
    "colab": {
      "collapsed_sections": [],
      "name": "TrabalhoComputacional.ipynb",
      "provenance": []
    },
    "kernelspec": {
      "display_name": "Python 3",
      "name": "python3"
    },
    "language_info": {
      "name": "python"
    }
  },
  "nbformat": 4,
  "nbformat_minor": 0
}
