{
  "nbformat": 4,
  "nbformat_minor": 0,
  "metadata": {
    "colab": {
      "name": "AP2_PauloDavi.ipynb",
      "provenance": [],
      "collapsed_sections": []
    },
    "kernelspec": {
      "name": "python3",
      "display_name": "Python 3"
    },
    "language_info": {
      "name": "python"
    }
  },
  "cells": [
    {
      "cell_type": "code",
      "execution_count": 1,
      "metadata": {
        "id": "NFRRuFocCXyo"
      },
      "outputs": [],
      "source": [
        "import numpy as np\n",
        "import matplotlib.pyplot as plt\n",
        "import pandas as pd\n",
        "import math"
      ]
    },
    {
      "cell_type": "markdown",
      "source": [
        "Vamos definir as funções utilizadas nessa avaliação."
      ],
      "metadata": {
        "id": "zgavKooLCd2j"
      }
    },
    {
      "cell_type": "code",
      "source": [
        "# Função para solucionar um sistema em que a matriz de coeficientes é do tipo triangular inferior\n",
        "def sol_triang_inf(A, B):\n",
        "  # A é uma matriz triangular inferior e B um vetor com os termos independentes do sistema\n",
        "  n = len(B)\n",
        "  X = []\n",
        "  for line in range(n):\n",
        "    b = B[line]\n",
        "    for column in range(line):\n",
        "      b -= A[line][column]*X[column]\n",
        "    x = b/A[line][line]\n",
        "    # Obtemos os valores de X por substiruições recursivas\n",
        "    X.append(x)\n",
        "  return np.array(X)\n",
        "  # Retornamos o vetor X"
      ],
      "metadata": {
        "id": "dL1c0Us-DHak"
      },
      "execution_count": 2,
      "outputs": []
    },
    {
      "cell_type": "code",
      "source": [
        "# Função para transformar uma matriz triangular superior em uma triangular inferior\n",
        "def inverte_matriz(A):\n",
        "  # A é uma matriz triangular superior\n",
        "  new_A = []\n",
        "  for array in A[::-1]: # Inverte a ordem das linhas de A\n",
        "    new_A.append(array[::-1]) # Inverte a ordem dos elementos de cada linha de A\n",
        "  return np.array(new_A)"
      ],
      "metadata": {
        "id": "AdG4sZtfDIjQ"
      },
      "execution_count": 3,
      "outputs": []
    },
    {
      "cell_type": "code",
      "source": [
        "# Função para solucionar um sistema em que a matriz de coeficientes é do tipo triangular superior\n",
        "def sol_triang_sup(A,B):\n",
        "  # A é uma matriz triangular superior e B um vetor com os termos independentes do sistema\n",
        "  A = inverte_matriz(A) # Transforma A em uma matriz triangular inferior\n",
        "  B = B[::-1] # Inverte o vetor B\n",
        "  return sol_triang_inf(A,B)[::-1] # Soluciona o sistema obtido e inverte os valores de X obtidos"
      ],
      "metadata": {
        "id": "uCBRBE4YDJhI"
      },
      "execution_count": 4,
      "outputs": []
    },
    {
      "cell_type": "code",
      "source": [
        "# Função para realizar o pivoteamento de uma coluna\n",
        "def pivot(A, B, n):\n",
        "  # A é a matriz de coeficientes do sistema, B um vetor com os termos independentes do sistema e n a coluna à qual será aplicado o pivoteamento\n",
        "  index_pivo = abs(A[n:,n]).argsort()[-1] + n\n",
        "  # Encontra a linha do elemento de maior módulo da coluna n buscando a partir da linha n\n",
        "  aux = np.copy(A[n])\n",
        "  A[n] = A[index_pivo]\n",
        "  A[index_pivo] = aux\n",
        "  # Troca a linha n e a linha com o novo pivô\n",
        "  aux = B[n]\n",
        "  B[n] = B[index_pivo]\n",
        "  B[index_pivo] = aux\n",
        "  # Aplica a mesma troca ao vetor B\n",
        "  return A, B # Retorna a matriz A e o vetor B modificados"
      ],
      "metadata": {
        "id": "95x0vUlCDKpl"
      },
      "execution_count": 5,
      "outputs": []
    },
    {
      "cell_type": "code",
      "source": [
        "# Método de Gauss\n",
        "def gauss(A, b, pivotar=False, returnL = False):\n",
        "  # A é a matriz de coeficientes do sistema, b um vetor com os termos independentes do sistema, pivotar é uma variável que indica se deve ou não se utilizada\n",
        "  # a estratégia de pivoteamento simples e returnL indica se devem ser retornadas as matrizes L e U para o método LU\n",
        "  n = len(A)\n",
        "  A = A.astype(np.float64) \n",
        "  b = b.astype(np.float64)\n",
        "  # Definindo o tipo dos dados como ponto flutuante, para ser possível operar sobre um vetor inteiro de uma só vez\n",
        "  B = np.copy(b) # Criando uma cópia do vetor B para não alterar o original\n",
        "  if returnL:\n",
        "    L = np.identity(n)\n",
        "  for j in range(n-1): # Itera sobre as colunas de A, exceto a última\n",
        "    if pivotar:\n",
        "      A, B = pivot(A, B, j)\n",
        "    for i in range(j+1,n): # Itera sobre as linhas de A a partir de j+1\n",
        "      fator = A[i][j]/A[j][j]\n",
        "      B[i] = B[i] - B[j]*fator # Onde B[i] e B[j] são reais\n",
        "      A[i] = A[i] - A[j]*fator # Onde A[i] e A[j] são vetores\n",
        "      if returnL:\n",
        "        L[i][j] = fator\n",
        "  if returnL:\n",
        "    return L, A # Retorna as matrizes L e U se returnL = True\n",
        "  return sol_triang_sup(A, B) # Retorna a solução do sistema se returnL = False"
      ],
      "metadata": {
        "id": "c5EZLJ50DLnC"
      },
      "execution_count": 6,
      "outputs": []
    },
    {
      "cell_type": "code",
      "source": [
        "# Método de Gauss-Jordan\n",
        "def gauss_jordan(A, B, pivotar=False):\n",
        "  # A é a matriz de coeficientes do sistema, b um vetor com os termos independentes do sistema e pivotar é uma variável que indica se deve ou não se utilizada\n",
        "  # a estratégia de pivoteamento simples \n",
        "  n = len(A)\n",
        "  A = A.astype(np.float64) \n",
        "  B = B.astype(np.float64)\n",
        "  # Definindo o tipo dos dados como ponto flutuante, para ser possível operar sobre um vetor inteiro de uma só vez\n",
        "  inversa = np.identity(n) # Inicializando a matriz inversa de A como a identidade de ordem n\n",
        "  for j in range(n): # Itera sobre as colunas de A\n",
        "    if pivotar:\n",
        "      A, B = pivot(A, B, j)\n",
        "    else: \n",
        "      inversa[j] = inversa[j]/A[j][j] # Só faz sentido calcular a inversa se não houver pivoteamento\n",
        "    B[j] = B[j]/A[j][j]\n",
        "    A[j] = A[j]/A[j][j]\n",
        "    # Definindo o termo da diagonal pertencente a linha j igual a 1\n",
        "    for i in range(n): # Itera sobre as linhas de A\n",
        "      if i != j:\n",
        "        B[i] = B[i] - B[j]*A[i][j]\n",
        "        inversa[i] = inversa[i] - inversa[j]*A[i][j]\n",
        "        A[i] = A[i] - A[j]*A[i][j]\n",
        "        # Definindo os termos que não são da dioganal principal pertencentes à coluna j iguais a 0\n",
        "  if pivotar:\n",
        "    return B\n",
        "  return B, inversa # Retorna o vetor B (que é igual a X) e a matriz inversa obtida, se não for realizado pivoteamento"
      ],
      "metadata": {
        "id": "qs2nrhdDDMf5"
      },
      "execution_count": 7,
      "outputs": []
    },
    {
      "cell_type": "code",
      "source": [
        "# Método de Gauss-Seidel\n",
        "def gauss_seidel(A, B, erromax, maxiter=50, X=np.zeros(3), iter=0):\n",
        "  # A é a matriz de coeficientes do sistema, B um vetor com os termos independentes do sistema, erromax é o erro máximo tolerado, maxiter é o maior numero\n",
        "  # de iterações permitido, X é o vetor solução atual e iter é o número de iterações realizadas\n",
        "  A = A.astype(np.float64)\n",
        "  B = B.astype(np.float64)\n",
        "  # Definindo o tipo dos dados como ponto flutuante, para ser possível operar sobre um vetor inteiro de uma só vez\n",
        "  n = len(A)\n",
        "  if X.all() == 0:\n",
        "    X = np.copy(B)\n",
        "  X_antigo = np.copy(X)\n",
        "  for i in range(n):\n",
        "    X[i] = (-np.dot(A[i], X.T) + A[i][i]*X[i] + B[i])/A[i][i]\n",
        "    # Calculando os novos valores de X, utilizando o vetor X já atualizado\n",
        "  erro = max(abs(X_antigo - X))/max(abs(X)) # Calculando o erro obtido\n",
        "  iter+=1\n",
        "  if erro <= erromax or iter == maxiter:\n",
        "    return X, iter # Retorna o vetor X que obteve erro tolerável ou foi obtido após o número máximo de iterações e o número de iterações realizadas\n",
        "  return gauss_seidel(A, B, erromax, maxiter, X, iter) # Chama a própria função recursivamente caso os critérios de parada não tenham sido atingidos"
      ],
      "metadata": {
        "id": "i7ghXh3KDQBF"
      },
      "execution_count": 8,
      "outputs": []
    },
    {
      "cell_type": "code",
      "source": [
        "# Função para calcular o resíduo\n",
        "def residuo(A, x, B):\n",
        "  # A é a matriz de coeficientes do sistema, x é o vetor solução obtido por algum dos métodos e B é o vetor de termos independentes dos sistema\n",
        "  return np.dot(A, x) - B"
      ],
      "metadata": {
        "id": "h1oa9fXo6q2T"
      },
      "execution_count": 9,
      "outputs": []
    },
    {
      "cell_type": "markdown",
      "source": [
        "**QUESTÃO 1**"
      ],
      "metadata": {
        "id": "4_E_74U_Dgi5"
      }
    },
    {
      "cell_type": "markdown",
      "source": [
        "Primeiramente, vamos definir a matriz de coeficientes e o vetor de termos independentes do sisteam"
      ],
      "metadata": {
        "id": "FeQt3rneF9Ek"
      }
    },
    {
      "cell_type": "code",
      "source": [
        "A = np.array([[80,0,30,10],[0,80,10,10],[16,20,60,72],[4,0,0,8]])\n",
        "B = np.array([40,27,31,2])"
      ],
      "metadata": {
        "id": "p0MtgTVNDXXN"
      },
      "execution_count": 10,
      "outputs": []
    },
    {
      "cell_type": "markdown",
      "source": [
        "Em seguida, vamos utilizar o método de Gauss-Seidel utilizando os parâmetros pedidos"
      ],
      "metadata": {
        "id": "e1d2bWsoGY2f"
      }
    },
    {
      "cell_type": "code",
      "source": [
        "x, iter = gauss_seidel(A, B, 0.005, X=np.array([0.5,0.2,0.2,0]))\n",
        "x"
      ],
      "metadata": {
        "colab": {
          "base_uri": "https://localhost:8080/"
        },
        "id": "GrWCYefsGSxZ",
        "outputId": "d9f922ff-4f48-475a-c4f5-dbd451c4bd1b"
      },
      "execution_count": 11,
      "outputs": [
        {
          "output_type": "execute_result",
          "data": {
            "text/plain": [
              "array([0.3998614 , 0.30000386, 0.25075653, 0.0500693 ])"
            ]
          },
          "metadata": {},
          "execution_count": 11
        }
      ]
    },
    {
      "cell_type": "code",
      "source": [
        "iter"
      ],
      "metadata": {
        "colab": {
          "base_uri": "https://localhost:8080/"
        },
        "id": "h2DDUGg6GVlZ",
        "outputId": "9906bd38-85af-433a-c79f-abf7c689b6c2"
      },
      "execution_count": 12,
      "outputs": [
        {
          "output_type": "execute_result",
          "data": {
            "text/plain": [
              "14"
            ]
          },
          "metadata": {},
          "execution_count": 12
        }
      ]
    },
    {
      "cell_type": "markdown",
      "source": [
        "Como podemos observar, o método levou 14 iterações para encontrar os valores acima. Considerando o erro tolerado, podemos assumir que a solução para o sistema é x1 = 0.4, x2 = 0.3, x3 = 0.25 e x4 = 0.05. Vamos, por fim, verificar o resíduo de tal solução"
      ],
      "metadata": {
        "id": "_y9yIvOmG5Vf"
      }
    },
    {
      "cell_type": "code",
      "source": [
        "residuo(A, x, B)"
      ],
      "metadata": {
        "colab": {
          "base_uri": "https://localhost:8080/"
        },
        "id": "pQNezJguG38U",
        "outputId": "790cf988-57df-46ac-98e2-d44c1a10b96a"
      },
      "execution_count": 13,
      "outputs": [
        {
          "output_type": "execute_result",
          "data": {
            "text/plain": [
              "array([0.01230089, 0.00856708, 0.0482413 , 0.        ])"
            ]
          },
          "metadata": {},
          "execution_count": 13
        }
      ]
    },
    {
      "cell_type": "markdown",
      "source": [
        "Como podemos observar, o resíduo está dentro da tolenrância desejada"
      ],
      "metadata": {
        "id": "UZBdtpUOHj_Q"
      }
    },
    {
      "cell_type": "markdown",
      "source": [
        "**QUESTÃO 2**"
      ],
      "metadata": {
        "id": "GDME8g1OHnql"
      }
    },
    {
      "cell_type": "markdown",
      "source": [
        "Sejam x1, x2, x3 e x4 a quantidade de computadores do tipo 1, 2, 3 e 4, respectivamente, obtemos o seguinte sistema de equações lineares:"
      ],
      "metadata": {
        "id": "9mEUw_g5H3Fp"
      }
    },
    {
      "cell_type": "markdown",
      "source": [
        "*3x1 + 4x2 + 7x3 + 20x4 = 504*"
      ],
      "metadata": {
        "id": "YldlqawKIDZ6"
      }
    },
    {
      "cell_type": "markdown",
      "source": [
        "*20x1 + 25x2 + 40x3 + 50x4 = 1970*"
      ],
      "metadata": {
        "id": "RgNUubN8InXT"
      }
    },
    {
      "cell_type": "markdown",
      "source": [
        "*10x1 + 15x2 + 20x3 +22x4 = 970*"
      ],
      "metadata": {
        "id": "OXBTEimfIpCL"
      }
    },
    {
      "cell_type": "markdown",
      "source": [
        "*10x1 + 8x2 + 10x3 + 15x4 = 601*"
      ],
      "metadata": {
        "id": "7Tr0nvHFIqlE"
      }
    },
    {
      "cell_type": "markdown",
      "source": [
        "Definindo a matriz de coeficientes e o vetor de termos independentes do sistema:"
      ],
      "metadata": {
        "id": "GNwxW88MIlBD"
      }
    },
    {
      "cell_type": "code",
      "source": [
        "A = np.array([[3, 4, 7, 20],[20,25,40,50], [10,15,20,22], [10,8,10,15]])\n",
        "B = np.array([504,1970, 970, 601])"
      ],
      "metadata": {
        "id": "Pw87vVoEHakb"
      },
      "execution_count": 14,
      "outputs": []
    },
    {
      "cell_type": "markdown",
      "source": [
        "Agora, vamos utilizar o método da Eliminação de Gauss para solucionar o sistema"
      ],
      "metadata": {
        "id": "le6SRo-tJFrv"
      }
    },
    {
      "cell_type": "code",
      "source": [
        "x = gauss(A, B)\n",
        "x"
      ],
      "metadata": {
        "colab": {
          "base_uri": "https://localhost:8080/"
        },
        "id": "-k-CU_REJE0f",
        "outputId": "9e017702-8a8b-40fd-d5d1-22cc0eab0867"
      },
      "execution_count": 15,
      "outputs": [
        {
          "output_type": "execute_result",
          "data": {
            "text/plain": [
              "array([10., 12., 18., 15.])"
            ]
          },
          "metadata": {},
          "execution_count": 15
        }
      ]
    },
    {
      "cell_type": "markdown",
      "source": [
        "Ou seja, serão produzidos 10 computadores do tipo 1, 12 do tipo 2, 18 do tipo 3 e 15 do tipo 4. Vamos, por fim, verificar o resíduo da nossa solução"
      ],
      "metadata": {
        "id": "_P8bg0VmJOc-"
      }
    },
    {
      "cell_type": "code",
      "source": [
        "residuo(A, x, B)"
      ],
      "metadata": {
        "colab": {
          "base_uri": "https://localhost:8080/"
        },
        "id": "2WWdJ-H_JNEe",
        "outputId": "32cd5215-d98e-444a-8b95-bcf3edcf3fd7"
      },
      "execution_count": 16,
      "outputs": [
        {
          "output_type": "execute_result",
          "data": {
            "text/plain": [
              "array([0.00000000e+00, 0.00000000e+00, 2.27373675e-13, 2.27373675e-13])"
            ]
          },
          "metadata": {},
          "execution_count": 16
        }
      ]
    },
    {
      "cell_type": "markdown",
      "source": [
        "Obtivemos um resíduo aproximadamente nulo, confirmando a corretude da solução obtida"
      ],
      "metadata": {
        "id": "QGNsiFz9Jce3"
      }
    },
    {
      "cell_type": "markdown",
      "source": [
        "**QUESTÂO 3**"
      ],
      "metadata": {
        "id": "u0CJGqHBJlL_"
      }
    },
    {
      "cell_type": "markdown",
      "source": [
        "Substituindo os valores informados pelo enunciado, encontramos o seguinte sistema:"
      ],
      "metadata": {
        "id": "_35D2RBVJ06g"
      }
    },
    {
      "cell_type": "markdown",
      "source": [
        "*636 - T = 70a*"
      ],
      "metadata": {
        "id": "nA-7p8ClJ7E4"
      }
    },
    {
      "cell_type": "markdown",
      "source": [
        "*518 + T - R = 60a*"
      ],
      "metadata": {
        "id": "DZX-bdVkKT5-"
      }
    },
    {
      "cell_type": "markdown",
      "source": [
        "*307 + R = 40a*"
      ],
      "metadata": {
        "id": "L00lWVw7Khrw"
      }
    },
    {
      "cell_type": "markdown",
      "source": [
        "Somando as 3 equações, obtemos:"
      ],
      "metadata": {
        "id": "NH0e4xylKspw"
      }
    },
    {
      "cell_type": "markdown",
      "source": [
        "*1461 = 170a*, logo a = 8.594 m\\s², aproximadamente. Assim, obtemos o seguinte sistema linear:"
      ],
      "metadata": {
        "id": "6fhlVgAlKwi5"
      }
    },
    {
      "cell_type": "markdown",
      "source": [
        "*-T = -34.42*"
      ],
      "metadata": {
        "id": "fzVC90PbLNy9"
      }
    },
    {
      "cell_type": "markdown",
      "source": [
        "*T - R = -2.34*"
      ],
      "metadata": {
        "id": "4WKQFGkILY1v"
      }
    },
    {
      "cell_type": "markdown",
      "source": [
        "*R = 36,76*"
      ],
      "metadata": {
        "id": "3TuRm4UhLnHU"
      }
    },
    {
      "cell_type": "markdown",
      "source": [
        "Ou seja, T vale aproximadamente 34,42N e R vale 36,76N. Podemos também encontrar esses valores utilizando um sistema com apenas as duas primeiras equações e utilizando o método de Gauss para solucioná-lo"
      ],
      "metadata": {
        "id": "3kuxyErHMhNY"
      }
    },
    {
      "cell_type": "code",
      "source": [
        "A = np.array([[-1,0], [1, -1]])\n",
        "B = np.array([-34.42, -2.34])\n",
        "x = gauss(A, B)\n",
        "x"
      ],
      "metadata": {
        "colab": {
          "base_uri": "https://localhost:8080/"
        },
        "id": "QoEauNLLJbBX",
        "outputId": "876ce46e-fb9a-49c8-db96-6191d51c6069"
      },
      "execution_count": 17,
      "outputs": [
        {
          "output_type": "execute_result",
          "data": {
            "text/plain": [
              "array([34.42, 36.76])"
            ]
          },
          "metadata": {},
          "execution_count": 17
        }
      ]
    },
    {
      "cell_type": "markdown",
      "source": [
        "E vamos, por fim, calcular o resíduo obtido:"
      ],
      "metadata": {
        "id": "YAziwfWgNAYi"
      }
    },
    {
      "cell_type": "code",
      "source": [
        "residuo(A, x, B)"
      ],
      "metadata": {
        "colab": {
          "base_uri": "https://localhost:8080/"
        },
        "id": "mSqJSIx-M9t1",
        "outputId": "0df8afca-1b41-4b0b-855e-597018e44b30"
      },
      "execution_count": 18,
      "outputs": [
        {
          "output_type": "execute_result",
          "data": {
            "text/plain": [
              "array([ 0.00000000e+00, -3.55271368e-15])"
            ]
          },
          "metadata": {},
          "execution_count": 18
        }
      ]
    },
    {
      "cell_type": "markdown",
      "source": [
        "Tal resíduo deve-se à aproximação feita no valor da aceleração"
      ],
      "metadata": {
        "id": "jxt_V8SmNIn-"
      }
    },
    {
      "cell_type": "markdown",
      "source": [
        "**QUESTÃO 4**"
      ],
      "metadata": {
        "id": "PgImus7INNDp"
      }
    },
    {
      "cell_type": "markdown",
      "source": [
        "Substituindo os valores informados pelo enunciado, obtemos o seguinte sistema de equações lineares:"
      ],
      "metadata": {
        "id": "EayYGY4XNYMp"
      }
    },
    {
      "cell_type": "markdown",
      "source": [
        "*-200x1 + 50x2 = 0*"
      ],
      "metadata": {
        "id": "7GSa1-sNNek6"
      }
    },
    {
      "cell_type": "markdown",
      "source": [
        "*50x1 -125x2 + 75x3 = 0*"
      ],
      "metadata": {
        "id": "TN1iWL1ZNosH"
      }
    },
    {
      "cell_type": "markdown",
      "source": [
        "*75x2 - 300x3 + 225x4 = 0*"
      ],
      "metadata": {
        "id": "qMHjMYPcN5WL"
      }
    },
    {
      "cell_type": "markdown",
      "source": [
        "*-225x3 + 225x4 = 2000*"
      ],
      "metadata": {
        "id": "Yr4oH1B9OB_7"
      }
    },
    {
      "cell_type": "markdown",
      "source": [
        "Vamos, agora, definir a matriz dos coeficientes e o vetor dos termos independentes do sistema:"
      ],
      "metadata": {
        "id": "RXj1ZcgsOOqh"
      }
    },
    {
      "cell_type": "code",
      "source": [
        "A = np.array([[-200,50,0,0],[50,-125,75,0],[0,75,-300,225],[0,0,-225,225]])\n",
        "B = np.array([0,0,0,2000])"
      ],
      "metadata": {
        "id": "D8dngGodNHgd"
      },
      "execution_count": 19,
      "outputs": []
    },
    {
      "cell_type": "markdown",
      "source": [
        "E utilizar o método da Eliminação de Gauss para solucionar o sistema:"
      ],
      "metadata": {
        "id": "h5FaB9ezOij2"
      }
    },
    {
      "cell_type": "code",
      "source": [
        "x = gauss(A, B)\n",
        "x"
      ],
      "metadata": {
        "colab": {
          "base_uri": "https://localhost:8080/"
        },
        "id": "ZpLkrsgQOh1C",
        "outputId": "c4ec30ca-e037-4c70-aa31-25e3bcd39033"
      },
      "execution_count": 20,
      "outputs": [
        {
          "output_type": "execute_result",
          "data": {
            "text/plain": [
              "array([13.33333333, 53.33333333, 80.        , 88.88888889])"
            ]
          },
          "metadata": {},
          "execution_count": 20
        }
      ]
    },
    {
      "cell_type": "markdown",
      "source": [
        "Ou seja, x1 = 13.33, x2 = 53.33, x3 = 80 e x4 = 88.88, todos os valores em metros. Finalmente, vamos calcular o resíduo para a solução obtida:"
      ],
      "metadata": {
        "id": "vQ_F-nExOs7t"
      }
    },
    {
      "cell_type": "code",
      "source": [
        "residuo(A, x, B)"
      ],
      "metadata": {
        "colab": {
          "base_uri": "https://localhost:8080/"
        },
        "id": "bIK4D4RyOqTa",
        "outputId": "c394751d-8fb2-40b6-8c55-626c2b25f314"
      },
      "execution_count": 21,
      "outputs": [
        {
          "output_type": "execute_result",
          "data": {
            "text/plain": [
              "array([0., 0., 0., 0.])"
            ]
          },
          "metadata": {},
          "execution_count": 21
        }
      ]
    },
    {
      "cell_type": "code",
      "source": [
        ""
      ],
      "metadata": {
        "id": "myLWDxxxPMhC"
      },
      "execution_count": 21,
      "outputs": []
    }
  ]
}