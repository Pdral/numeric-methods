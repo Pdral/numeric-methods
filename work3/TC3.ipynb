{
  "nbformat": 4,
  "nbformat_minor": 0,
  "metadata": {
    "colab": {
      "name": "TC3.ipynb",
      "provenance": [],
      "collapsed_sections": [
        "1oLPfQq1smdI",
        "zEomvdao4CFy"
      ]
    },
    "kernelspec": {
      "name": "python3",
      "display_name": "Python 3"
    },
    "language_info": {
      "name": "python"
    }
  },
  "cells": [
    {
      "cell_type": "markdown",
      "source": [
        "## **Trabalho computacional 3**"
      ],
      "metadata": {
        "id": "8zAFUb2B16cS"
      }
    },
    {
      "cell_type": "markdown",
      "source": [
        "Códigos utilizados durante o trabalho:"
      ],
      "metadata": {
        "id": "pz86eE6o2QlH"
      }
    },
    {
      "cell_type": "code",
      "source": [
        "# Importação das bibliotecas utilizadas\n",
        "import numpy as np\n",
        "import matplotlib.pyplot as plt\n",
        "import math"
      ],
      "metadata": {
        "id": "A4XzmZtq2UP2"
      },
      "execution_count": 4,
      "outputs": []
    },
    {
      "cell_type": "code",
      "source": [
        "# Função para criar os vetores x e fx\n",
        "def input_vetor():\n",
        "  ordem=int(input('Quantidade de elementos da função: '))\n",
        "  x = np.zeros((ordem), dtype='float')\n",
        "  fx = np.zeros((ordem), dtype='float')\n",
        "\n",
        "  for i in range(ordem):\n",
        "    print('elemento ', i+1)\n",
        "    auxx = float(input('x: ' ))\n",
        "    x[i] = auxx\n",
        "    auxfx = float(input('f(x):'))\n",
        "    fx[i] = auxfx\n",
        "  print(x)\n",
        "  print(fx)\n",
        "  return x, fx"
      ],
      "metadata": {
        "id": "gSGjxT052USW"
      },
      "execution_count": 5,
      "outputs": []
    },
    {
      "cell_type": "code",
      "source": [
        "# Função para criar as matrizes do sistema linear obtido \n",
        "def spline_quadratica(x, fx):\n",
        "  n = len(x) # Número de pontos\n",
        "  ordem_matriz = 3*n-4\n",
        "  A = np.zeros((ordem_matriz, ordem_matriz)) # inicializamos a matriz contendo apenas zeros\n",
        "\n",
        "  # Condições de continuidade nos nós internos\n",
        "  A[0][0] = x[1]\n",
        "  A[0][1] = 1\n",
        "  for i in range(n-3):\n",
        "    coluna = 3*i+2\n",
        "    linha = 2*i+1\n",
        "    A[linha][coluna] = x[i+1]**2\n",
        "    A[linha][coluna+1] = x[i+1]\n",
        "    A[linha][coluna+2] = 1\n",
        "    A[linha+1][coluna] = x[i+2]**2\n",
        "    A[linha+1][coluna+1] = x[i+2]\n",
        "    A[linha+1][coluna+2] = 1\n",
        "  A[2*n-5][ordem_matriz-3] = x[n-2]**2\n",
        "  A[2*n-5][ordem_matriz-2] = x[n-2]\n",
        "  A[2*n-5][ordem_matriz-1] = 1\n",
        "\n",
        "  # Condições de continuidade nos nós externos\n",
        "  A[2*n-4][0] = x[0]\n",
        "  A[2*n-4][1] = 1\n",
        "  A[2*n-3][ordem_matriz-3] = x[n-1]**2\n",
        "  A[2*n-3][ordem_matriz-2] = x[n-1]\n",
        "  A[2*n-3][ordem_matriz-1] = 1\n",
        "\n",
        "  # Continuidade das derivadas nos nós internos \n",
        "  j = -1\n",
        "  for i in range(2*n-2, ordem_matriz):\n",
        "    if j >=0:\n",
        "      A[i][j] = 2*x[(j+4)//3]\n",
        "    A[i][j+1] = 1\n",
        "    A[i][j+3] = -2*x[(j+4)//3]\n",
        "    A[i][j+4] = -1\n",
        "    j +=3\n",
        "\n",
        "  # Definindo o vetor de termos independentes\n",
        "  B = np.zeros(ordem_matriz)\n",
        "  for i in range(2*n-4):\n",
        "    B[i] = fx[(i//2)+1]\n",
        "  B[2*n-4] = fx[0]\n",
        "  B[2*n-3] = fx[n-1]\n",
        "  return A, B"
      ],
      "metadata": {
        "id": "KaW1mqsa2UUu"
      },
      "execution_count": 6,
      "outputs": []
    },
    {
      "cell_type": "code",
      "source": [
        "# Função para plotar o gráfico com as splines quadráticas\n",
        "def plota_spline_quadratica(coefic, x):\n",
        "  n = len(x)\n",
        "  for i in range(n-1):\n",
        "    if i == 0:\n",
        "      X = np.linspace(x[i],x[i+1],100)\n",
        "      y = coefic[0]*X + coefic[1]\n",
        "    else:\n",
        "      new_X = np.linspace(x[i],x[i+1],100)\n",
        "      X = np.concatenate((X, new_X))\n",
        "      vec = coefic[3*i-1]*(new_X**2) + coefic[3*i]*new_X + coefic[3*i+1]\n",
        "      y = np.concatenate((y, vec))\n",
        "  plt.grid()\n",
        "  plt.plot(X, y)"
      ],
      "metadata": {
        "id": "ScSxTdS62UW8"
      },
      "execution_count": 7,
      "outputs": []
    },
    {
      "cell_type": "code",
      "source": [
        "# Função para criar as matrizes do sistema linear obtido \n",
        "def spline_cubica(x, fx):\n",
        "  n = len(x)\n",
        "  ordem_matriz = 4*n-4\n",
        "  A = np.zeros((ordem_matriz, ordem_matriz))\n",
        "  B = np.zeros(ordem_matriz)\n",
        "\n",
        "  # Condições de continuidade nos nós internos\n",
        "  for i in range(n-2):\n",
        "    coluna = 4*i\n",
        "    linha = 2*i\n",
        "    A[linha][coluna] = x[i+1]**3\n",
        "    A[linha][coluna+1] = x[i+1]**2\n",
        "    A[linha][coluna+2] = x[i+1]\n",
        "    A[linha][coluna+3] = 1\n",
        "    B[linha] = fx[i+1]\n",
        "    A[linha+1][coluna+4] = x[i+1]**3\n",
        "    A[linha+1][coluna+5] = x[i+1]**2\n",
        "    A[linha+1][coluna+6] = x[i+1]\n",
        "    A[linha+1][coluna+7] = 1\n",
        "    B[linha+1] = fx[i+1]\n",
        "\n",
        "  # Condições de continuidade nos nós externos\n",
        "  A[2*n-4][0] = x[0]**3\n",
        "  A[2*n-4][1] = x[0]**2\n",
        "  A[2*n-4][2] = x[0]\n",
        "  A[2*n-4][3] = 1\n",
        "  B[2*n-4] = fx[0]\n",
        "  A[2*n-3][ordem_matriz-4] = x[n-1]**3\n",
        "  A[2*n-3][ordem_matriz-3] = x[n-1]**2\n",
        "  A[2*n-3][ordem_matriz-2] = x[n-1]\n",
        "  A[2*n-3][ordem_matriz-1] = 1\n",
        "  B[2*n-3] = fx[n-1]\n",
        "\n",
        "  # Continuidade das primeiras derivadas nos nós internos \n",
        "  j = 0\n",
        "  for i in range(2*n-2, 3*n-4):\n",
        "    A[i][j] = 3*x[(j//4)+1]**2\n",
        "    A[i][j+1] = 2*x[(j//4)+1]\n",
        "    A[i][j+2] = 1\n",
        "    A[i][j+4] = -3*x[(j//4)+1]**2\n",
        "    A[i][j+5] = -2*x[(j//4)+1]\n",
        "    A[i][j+6] = -1\n",
        "    j += 4\n",
        "\n",
        "  # Continuidade das primeiras derivadas nos nós internos \n",
        "  j = 0\n",
        "  for i in range(3*n-4, 4*n-6):\n",
        "    A[i][j] = 6*x[(j//4)+1]\n",
        "    A[i][j+1] = 2\n",
        "    A[i][j+4] = -6*x[(j//4)+1]\n",
        "    A[i][j+5] = -2\n",
        "    j += 4\n",
        "\n",
        "  # Segundas derivadas nos nós extremos\n",
        "  A[4*n-6][0] = 6*x[0]\n",
        "  A[4*n-6][1] = 2\n",
        "  A[4*n-5][ordem_matriz-4] = 6*x[n-1]\n",
        "  A[4*n-5][ordem_matriz-3] = 2\n",
        "  return A, B"
      ],
      "metadata": {
        "id": "WmOZo6zF2UhG"
      },
      "execution_count": 8,
      "outputs": []
    },
    {
      "cell_type": "code",
      "source": [
        "# Função para plotar o gráfico com as splines cúbicas\n",
        "def plota_spline_cubica(coefic, x):\n",
        "  n = len(x)\n",
        "  for i in range(n-1):\n",
        "    if i == 0:\n",
        "      X = np.linspace(x[i],x[i+1],100)\n",
        "      y = coefic[0]*(X**3) + coefic[1]*(X**2) + coefic[2]*X + coefic[3]\n",
        "    else:\n",
        "      new_X = np.linspace(x[i],x[i+1],100)\n",
        "      X = np.concatenate((X, new_X))\n",
        "      vec = coefic[4*i]*(new_X**3) + coefic[4*i + 1]*(new_X**2) + coefic[4*i + 2]*new_X + coefic[4*i + 3]\n",
        "      y = np.concatenate((y, vec))\n",
        "  plt.grid()\n",
        "  plt.plot(X, y)"
      ],
      "metadata": {
        "id": "M-d8QxKc2UjQ"
      },
      "execution_count": 9,
      "outputs": []
    },
    {
      "cell_type": "code",
      "source": [
        "# Função para solucionar um sistema em que a matriz de coeficientes é triangular superior\n",
        "def sol_triang_sup(A, B):\n",
        "  # A é uma matriz triangular inferior e B um vetor com os termos independentes do sistema\n",
        "  n = len(B)\n",
        "  X = np.zeros(n)\n",
        "  for line in range(n-1,-1,-1):\n",
        "    b = B[line]\n",
        "    for column in range(n-1,line, -1):\n",
        "      b -= A[line][column]*X[column]\n",
        "    x = b/A[line][line]\n",
        "    # Obtemos os valores de X por substiruições recursivas\n",
        "    X[line] = x\n",
        "  return X\n",
        "  # Retornamos o vetor X"
      ],
      "metadata": {
        "id": "ypDK8CSz2Uom"
      },
      "execution_count": 10,
      "outputs": []
    },
    {
      "cell_type": "code",
      "source": [
        "# Função para pivotar duas linhas da matriz\n",
        "def pivot(A, B, n):\n",
        "  # A é a martiz de coeficientes do sistema, B um vetor com os termos independentes do sistema e n a coluna à qual será aplicado o pivoteamento\n",
        "  index_pivo = abs(A[n:,n]).argsort()[-1] + n\n",
        "  # Encontra a linha do elemento de maior módulo da coluna n buscando a partir da linha n\n",
        "  aux = np.copy(A[n])\n",
        "  A[n] = A[index_pivo]\n",
        "  A[index_pivo] = aux\n",
        "  # Troca a linha n e a linha com o novo pivô\n",
        "  aux = B[n]\n",
        "  B[n] = B[index_pivo]\n",
        "  B[index_pivo] = aux\n",
        "  # Aplica a mesma troca ao vetor B\n",
        "  return A, B # Retorna a matriz A e o vetor B modificados"
      ],
      "metadata": {
        "id": "CtTOqWq92xq6"
      },
      "execution_count": 11,
      "outputs": []
    },
    {
      "cell_type": "code",
      "source": [
        "# Método de eliminação de Gauss\n",
        "def gauss(A, b, pivotar=False):\n",
        "  # A é a matriz de coeficientes do sistema, b um vetor com os termos independentes do sistema, pivotar é uma variável que indica se deve ou não se utilizada\n",
        "  # a estratégia de pivoteamento simples e returnL indica se devem ser retornadas as matrizes L e U para o método LU\n",
        "  n = len(A)\n",
        "  A = A.astype(np.float64) \n",
        "  b = b.astype(np.float64)\n",
        "  # Definindo o tipo dos dados como ponto flutuante, para ser possível operar sobre um vetor inteiro de uma só vez\n",
        "  B = np.copy(b) # Criando uma cópia do vetor B para não alterar o original\n",
        "  for j in range(n-1): # Itera sobre as colunas de A, exceto a última\n",
        "    if pivotar:\n",
        "      A, B = pivot(A, B, j)\n",
        "    for i in range(j+1,n): # Itera sobre as linhas de A a partir de j+1\n",
        "      fator = A[i][j]/A[j][j]\n",
        "      B[i] = B[i] - B[j]*fator # Onde B[i] e B[j] são reais\n",
        "      A[i] = A[i] - A[j]*fator # Onde A[i] e A[j] são vetores\n",
        "  return sol_triang_sup(A, B) # Retorna a solução do sistema se returnL = False"
      ],
      "metadata": {
        "id": "Hm7ABdUA2xs-"
      },
      "execution_count": 12,
      "outputs": []
    },
    {
      "cell_type": "code",
      "source": [
        "# Método da bissecção para encontrar a raiz de um polinômio f em um intervalo [a,b]\n",
        "def bisseccao(a, b, f, erromax, maxiter=50, iter=0):\n",
        "    x = (a+b)/2\n",
        "    iter += 1\n",
        "    erro = abs((x-a)/x)\n",
        "    if erro <= erromax or iter == maxiter or f(x)==0:\n",
        "      return x\n",
        "    if f(a)*f(x) < 0:\n",
        "      return bisseccao(a, x, f, erromax, maxiter, iter)\n",
        "    return bisseccao(x, b, f, erromax, maxiter, iter)  "
      ],
      "metadata": {
        "id": "sYKJ-t2w_n_n"
      },
      "execution_count": 13,
      "outputs": []
    },
    {
      "cell_type": "markdown",
      "source": [
        "##Questão 1\n"
      ],
      "metadata": {
        "id": "1oLPfQq1smdI"
      }
    },
    {
      "cell_type": "markdown",
      "source": [
        "1. Considere os dados dados na questão 1"
      ],
      "metadata": {
        "id": "Q9Ero_JptlLf"
      }
    },
    {
      "cell_type": "markdown",
      "source": [
        "Primeiramente, armazenamos os dados nas devidas variáveis:"
      ],
      "metadata": {
        "id": "2S8h76XifA6P"
      }
    },
    {
      "cell_type": "code",
      "source": [
        "x1, fx1 = input_vetor()"
      ],
      "metadata": {
        "id": "wFPNSUGduNPN",
        "colab": {
          "base_uri": "https://localhost:8080/"
        },
        "outputId": "96d091a3-a4a6-460d-ee89-33fd606ed7c0"
      },
      "execution_count": null,
      "outputs": [
        {
          "output_type": "stream",
          "name": "stdout",
          "text": [
            "Quantidade de elementos da função: 6\n",
            "elemento  1\n",
            "x: 1.6\n",
            "f(x):2\n",
            "elemento  2\n",
            "x: 2\n",
            "f(x):8\n",
            "elemento  3\n",
            "x: 2.5\n",
            "f(x):14\n",
            "elemento  4\n",
            "x: 3.2\n",
            "f(x):15\n",
            "elemento  5\n",
            "x: 4\n",
            "f(x):8\n",
            "elemento  6\n",
            "x: 4.5\n",
            "f(x):2\n",
            "[1.6 2.  2.5 3.2 4.  4.5]\n",
            "[ 2.  8. 14. 15.  8.  2.]\n"
          ]
        }
      ]
    },
    {
      "cell_type": "markdown",
      "source": [
        "a. Obter e plotar o gráfico da spline quadrática que passa pelos pontos dados"
      ],
      "metadata": {
        "id": "n2SUcOdYtzMx"
      }
    },
    {
      "cell_type": "markdown",
      "source": [
        "Em seguida, montamos as matrizes A e B..."
      ],
      "metadata": {
        "id": "WVx3HFOGfrSa"
      }
    },
    {
      "cell_type": "code",
      "execution_count": null,
      "metadata": {
        "id": "Ti3k8mdGsjtx",
        "colab": {
          "base_uri": "https://localhost:8080/"
        },
        "outputId": "9ebb5f04-943d-4fca-a288-4c535431bc20"
      },
      "outputs": [
        {
          "output_type": "execute_result",
          "data": {
            "text/plain": [
              "array([[ 2.  ,  1.  ,  0.  ,  0.  ,  0.  ,  0.  ,  0.  ,  0.  ,  0.  ,\n",
              "         0.  ,  0.  ,  0.  ,  0.  ,  0.  ],\n",
              "       [ 0.  ,  0.  ,  4.  ,  2.  ,  1.  ,  0.  ,  0.  ,  0.  ,  0.  ,\n",
              "         0.  ,  0.  ,  0.  ,  0.  ,  0.  ],\n",
              "       [ 0.  ,  0.  ,  6.25,  2.5 ,  1.  ,  0.  ,  0.  ,  0.  ,  0.  ,\n",
              "         0.  ,  0.  ,  0.  ,  0.  ,  0.  ],\n",
              "       [ 0.  ,  0.  ,  0.  ,  0.  ,  0.  ,  6.25,  2.5 ,  1.  ,  0.  ,\n",
              "         0.  ,  0.  ,  0.  ,  0.  ,  0.  ],\n",
              "       [ 0.  ,  0.  ,  0.  ,  0.  ,  0.  , 10.24,  3.2 ,  1.  ,  0.  ,\n",
              "         0.  ,  0.  ,  0.  ,  0.  ,  0.  ],\n",
              "       [ 0.  ,  0.  ,  0.  ,  0.  ,  0.  ,  0.  ,  0.  ,  0.  , 10.24,\n",
              "         3.2 ,  1.  ,  0.  ,  0.  ,  0.  ],\n",
              "       [ 0.  ,  0.  ,  0.  ,  0.  ,  0.  ,  0.  ,  0.  ,  0.  , 16.  ,\n",
              "         4.  ,  1.  ,  0.  ,  0.  ,  0.  ],\n",
              "       [ 0.  ,  0.  ,  0.  ,  0.  ,  0.  ,  0.  ,  0.  ,  0.  ,  0.  ,\n",
              "         0.  ,  0.  , 16.  ,  4.  ,  1.  ],\n",
              "       [ 1.6 ,  1.  ,  0.  ,  0.  ,  0.  ,  0.  ,  0.  ,  0.  ,  0.  ,\n",
              "         0.  ,  0.  ,  0.  ,  0.  ,  0.  ],\n",
              "       [ 0.  ,  0.  ,  0.  ,  0.  ,  0.  ,  0.  ,  0.  ,  0.  ,  0.  ,\n",
              "         0.  ,  0.  , 20.25,  4.5 ,  1.  ],\n",
              "       [ 1.  ,  0.  , -4.  , -1.  ,  0.  ,  0.  ,  0.  ,  0.  ,  0.  ,\n",
              "         0.  ,  0.  ,  0.  ,  0.  ,  0.  ],\n",
              "       [ 0.  ,  0.  ,  5.  ,  1.  ,  0.  , -5.  , -1.  ,  0.  ,  0.  ,\n",
              "         0.  ,  0.  ,  0.  ,  0.  ,  0.  ],\n",
              "       [ 0.  ,  0.  ,  0.  ,  0.  ,  0.  ,  6.4 ,  1.  ,  0.  , -6.4 ,\n",
              "        -1.  ,  0.  ,  0.  ,  0.  ,  0.  ],\n",
              "       [ 0.  ,  0.  ,  0.  ,  0.  ,  0.  ,  0.  ,  0.  ,  0.  ,  8.  ,\n",
              "         1.  ,  0.  , -8.  , -1.  ,  0.  ]])"
            ]
          },
          "metadata": {},
          "execution_count": 12
        }
      ],
      "source": [
        "A1a, B1a = spline_quadratica(x1, fx1)\n",
        "A1a"
      ]
    },
    {
      "cell_type": "code",
      "source": [
        "B1a"
      ],
      "metadata": {
        "colab": {
          "base_uri": "https://localhost:8080/"
        },
        "id": "cBp-_-bEf__V",
        "outputId": "b2541d1e-ecfc-4d68-fc79-f97e7965872e"
      },
      "execution_count": null,
      "outputs": [
        {
          "output_type": "execute_result",
          "data": {
            "text/plain": [
              "array([ 8.,  8., 14., 14., 15., 15.,  8.,  8.,  2.,  2.,  0.,  0.,  0.,\n",
              "        0.])"
            ]
          },
          "metadata": {},
          "execution_count": 13
        }
      ]
    },
    {
      "cell_type": "markdown",
      "source": [
        "... e utilizamos o método de eliminação de Gauss para solucionar o sistema e encontrar os coeficientes dos polinômios desejados"
      ],
      "metadata": {
        "id": "--LqYK11gFqa"
      }
    },
    {
      "cell_type": "code",
      "source": [
        "coefic1a = gauss(A1a, B1a, True)\n",
        "coefic1a"
      ],
      "metadata": {
        "id": "_OrLGO4Dt6Rh",
        "colab": {
          "base_uri": "https://localhost:8080/"
        },
        "outputId": "72bcffb9-f756-4e5e-efee-f8fb70dc5bca"
      },
      "execution_count": null,
      "outputs": [
        {
          "output_type": "execute_result",
          "data": {
            "text/plain": [
              "array([ 15.        , -22.        ,  -6.        ,  39.        ,\n",
              "       -46.        , -10.81632653,  63.08163265, -76.10204082,\n",
              "        -3.25892857,  14.71428571,   1.28571429,  -1.28571429,\n",
              "        -1.07142857,  32.85714286])"
            ]
          },
          "metadata": {},
          "execution_count": 14
        }
      ]
    },
    {
      "cell_type": "markdown",
      "source": [
        "Finalmente, plotamos o gráfico da spline quadrática"
      ],
      "metadata": {
        "id": "9IHg1NJhgdgh"
      }
    },
    {
      "cell_type": "code",
      "source": [
        "plota_spline_quadratica(coefic1a, x1)"
      ],
      "metadata": {
        "colab": {
          "base_uri": "https://localhost:8080/",
          "height": 265
        },
        "id": "vWFSSX0Cgeqk",
        "outputId": "d46bf548-e6b4-4270-a723-280c8c63aa46"
      },
      "execution_count": null,
      "outputs": [
        {
          "output_type": "display_data",
          "data": {
            "image/png": "[encoded data removed]",
            "text/plain": [
              "<Figure size 432x288 with 1 Axes>"
            ]
          },
          "metadata": {
            "needs_background": "light"
          }
        }
      ]
    },
    {
      "cell_type": "markdown",
      "source": [
        "b. Obter e plotar o gráfico da spline cúbica que passa pelos pontos dados"
      ],
      "metadata": {
        "id": "WefRLGSGt5RH"
      }
    },
    {
      "cell_type": "markdown",
      "source": [
        "Montamos as matrizes A e B..."
      ],
      "metadata": {
        "id": "XNDC010jgvvD"
      }
    },
    {
      "cell_type": "code",
      "source": [
        "A1b, B1b = spline_cubica(x1, fx1)\n",
        "A1b"
      ],
      "metadata": {
        "colab": {
          "base_uri": "https://localhost:8080/"
        },
        "id": "w66x87lQgw7G",
        "outputId": "1c53a44c-f2d7-4f48-cda3-72118903fde5"
      },
      "execution_count": null,
      "outputs": [
        {
          "output_type": "execute_result",
          "data": {
            "text/plain": [
              "array([[  8.   ,   4.   ,   2.   ,   1.   ,   0.   ,   0.   ,   0.   ,\n",
              "          0.   ,   0.   ,   0.   ,   0.   ,   0.   ,   0.   ,   0.   ,\n",
              "          0.   ,   0.   ,   0.   ,   0.   ,   0.   ,   0.   ],\n",
              "       [  0.   ,   0.   ,   0.   ,   0.   ,   8.   ,   4.   ,   2.   ,\n",
              "          1.   ,   0.   ,   0.   ,   0.   ,   0.   ,   0.   ,   0.   ,\n",
              "          0.   ,   0.   ,   0.   ,   0.   ,   0.   ,   0.   ],\n",
              "       [  0.   ,   0.   ,   0.   ,   0.   ,  15.625,   6.25 ,   2.5  ,\n",
              "          1.   ,   0.   ,   0.   ,   0.   ,   0.   ,   0.   ,   0.   ,\n",
              "          0.   ,   0.   ,   0.   ,   0.   ,   0.   ,   0.   ],\n",
              "       [  0.   ,   0.   ,   0.   ,   0.   ,   0.   ,   0.   ,   0.   ,\n",
              "          0.   ,  15.625,   6.25 ,   2.5  ,   1.   ,   0.   ,   0.   ,\n",
              "          0.   ,   0.   ,   0.   ,   0.   ,   0.   ,   0.   ],\n",
              "       [  0.   ,   0.   ,   0.   ,   0.   ,   0.   ,   0.   ,   0.   ,\n",
              "          0.   ,  32.768,  10.24 ,   3.2  ,   1.   ,   0.   ,   0.   ,\n",
              "          0.   ,   0.   ,   0.   ,   0.   ,   0.   ,   0.   ],\n",
              "       [  0.   ,   0.   ,   0.   ,   0.   ,   0.   ,   0.   ,   0.   ,\n",
              "          0.   ,   0.   ,   0.   ,   0.   ,   0.   ,  32.768,  10.24 ,\n",
              "          3.2  ,   1.   ,   0.   ,   0.   ,   0.   ,   0.   ],\n",
              "       [  0.   ,   0.   ,   0.   ,   0.   ,   0.   ,   0.   ,   0.   ,\n",
              "          0.   ,   0.   ,   0.   ,   0.   ,   0.   ,  64.   ,  16.   ,\n",
              "          4.   ,   1.   ,   0.   ,   0.   ,   0.   ,   0.   ],\n",
              "       [  0.   ,   0.   ,   0.   ,   0.   ,   0.   ,   0.   ,   0.   ,\n",
              "          0.   ,   0.   ,   0.   ,   0.   ,   0.   ,   0.   ,   0.   ,\n",
              "          0.   ,   0.   ,  64.   ,  16.   ,   4.   ,   1.   ],\n",
              "       [  4.096,   2.56 ,   1.6  ,   1.   ,   0.   ,   0.   ,   0.   ,\n",
              "          0.   ,   0.   ,   0.   ,   0.   ,   0.   ,   0.   ,   0.   ,\n",
              "          0.   ,   0.   ,   0.   ,   0.   ,   0.   ,   0.   ],\n",
              "       [  0.   ,   0.   ,   0.   ,   0.   ,   0.   ,   0.   ,   0.   ,\n",
              "          0.   ,   0.   ,   0.   ,   0.   ,   0.   ,   0.   ,   0.   ,\n",
              "          0.   ,   0.   ,  91.125,  20.25 ,   4.5  ,   1.   ],\n",
              "       [ 12.   ,   4.   ,   1.   ,   0.   , -12.   ,  -4.   ,  -1.   ,\n",
              "          0.   ,   0.   ,   0.   ,   0.   ,   0.   ,   0.   ,   0.   ,\n",
              "          0.   ,   0.   ,   0.   ,   0.   ,   0.   ,   0.   ],\n",
              "       [  0.   ,   0.   ,   0.   ,   0.   ,  18.75 ,   5.   ,   1.   ,\n",
              "          0.   , -18.75 ,  -5.   ,  -1.   ,   0.   ,   0.   ,   0.   ,\n",
              "          0.   ,   0.   ,   0.   ,   0.   ,   0.   ,   0.   ],\n",
              "       [  0.   ,   0.   ,   0.   ,   0.   ,   0.   ,   0.   ,   0.   ,\n",
              "          0.   ,  30.72 ,   6.4  ,   1.   ,   0.   , -30.72 ,  -6.4  ,\n",
              "         -1.   ,   0.   ,   0.   ,   0.   ,   0.   ,   0.   ],\n",
              "       [  0.   ,   0.   ,   0.   ,   0.   ,   0.   ,   0.   ,   0.   ,\n",
              "          0.   ,   0.   ,   0.   ,   0.   ,   0.   ,  48.   ,   8.   ,\n",
              "          1.   ,   0.   , -48.   ,  -8.   ,  -1.   ,   0.   ],\n",
              "       [ 12.   ,   2.   ,   0.   ,   0.   , -12.   ,  -2.   ,   0.   ,\n",
              "          0.   ,   0.   ,   0.   ,   0.   ,   0.   ,   0.   ,   0.   ,\n",
              "          0.   ,   0.   ,   0.   ,   0.   ,   0.   ,   0.   ],\n",
              "       [  0.   ,   0.   ,   0.   ,   0.   ,  15.   ,   2.   ,   0.   ,\n",
              "          0.   , -15.   ,  -2.   ,   0.   ,   0.   ,   0.   ,   0.   ,\n",
              "          0.   ,   0.   ,   0.   ,   0.   ,   0.   ,   0.   ],\n",
              "       [  0.   ,   0.   ,   0.   ,   0.   ,   0.   ,   0.   ,   0.   ,\n",
              "          0.   ,  19.2  ,   2.   ,   0.   ,   0.   , -19.2  ,  -2.   ,\n",
              "          0.   ,   0.   ,   0.   ,   0.   ,   0.   ,   0.   ],\n",
              "       [  0.   ,   0.   ,   0.   ,   0.   ,   0.   ,   0.   ,   0.   ,\n",
              "          0.   ,   0.   ,   0.   ,   0.   ,   0.   ,  24.   ,   2.   ,\n",
              "          0.   ,   0.   , -24.   ,  -2.   ,   0.   ,   0.   ],\n",
              "       [  9.6  ,   2.   ,   0.   ,   0.   ,   0.   ,   0.   ,   0.   ,\n",
              "          0.   ,   0.   ,   0.   ,   0.   ,   0.   ,   0.   ,   0.   ,\n",
              "          0.   ,   0.   ,   0.   ,   0.   ,   0.   ,   0.   ],\n",
              "       [  0.   ,   0.   ,   0.   ,   0.   ,   0.   ,   0.   ,   0.   ,\n",
              "          0.   ,   0.   ,   0.   ,   0.   ,   0.   ,   0.   ,   0.   ,\n",
              "          0.   ,   0.   ,  27.   ,   2.   ,   0.   ,   0.   ]])"
            ]
          },
          "metadata": {},
          "execution_count": 16
        }
      ]
    },
    {
      "cell_type": "code",
      "source": [
        "B1b"
      ],
      "metadata": {
        "colab": {
          "base_uri": "https://localhost:8080/"
        },
        "id": "AmWOpl7mg3uo",
        "outputId": "830fc576-f90b-4c2e-82d2-2b2cd0e64356"
      },
      "execution_count": null,
      "outputs": [
        {
          "output_type": "execute_result",
          "data": {
            "text/plain": [
              "array([ 8.,  8., 14., 14., 15., 15.,  8.,  8.,  2.,  2.,  0.,  0.,  0.,\n",
              "        0.,  0.,  0.,  0.,  0.,  0.,  0.])"
            ]
          },
          "metadata": {},
          "execution_count": 17
        }
      ]
    },
    {
      "cell_type": "markdown",
      "source": [
        "... e utilizamos o método de eliminação de Gauss para solucionar o sistema e encontrar os coeficientes dos polinômios desejados"
      ],
      "metadata": {
        "id": "h3nGdtksg68F"
      }
    },
    {
      "cell_type": "code",
      "source": [
        "coefic1b = gauss(A1b, B1b, True)\n",
        "coefic1b"
      ],
      "metadata": {
        "colab": {
          "base_uri": "https://localhost:8080/"
        },
        "id": "NQ2AUktxg-E5",
        "outputId": "72e2b5c4-9cbc-4f64-918a-e595c5bb0418"
      },
      "execution_count": null,
      "outputs": [
        {
          "output_type": "execute_result",
          "data": {
            "text/plain": [
              "array([  -1.69815123,    8.15112592,    2.22990273,  -15.47909927,\n",
              "         -5.75080347,   32.46703931,  -46.40192406,   16.94211859,\n",
              "          1.60745831,  -22.71992403,   91.5654843 ,  -98.0307217 ,\n",
              "          2.4087023 ,  -30.41186627,  116.17969947, -124.28588456,\n",
              "          1.00495914,  -13.56694832,   48.80002767,  -34.44632215])"
            ]
          },
          "metadata": {},
          "execution_count": 18
        }
      ]
    },
    {
      "cell_type": "markdown",
      "source": [
        "Finalmente, plotamos o gráfico da spline cúbica"
      ],
      "metadata": {
        "id": "mgrYTcmUDshX"
      }
    },
    {
      "cell_type": "code",
      "source": [
        "plota_spline_cubica(coefic1b, x1)"
      ],
      "metadata": {
        "colab": {
          "base_uri": "https://localhost:8080/",
          "height": 265
        },
        "id": "yyIbd8YdhEVB",
        "outputId": "9863fd01-dabc-4d42-b21f-5ea4ca2d27cb"
      },
      "execution_count": null,
      "outputs": [
        {
          "output_type": "display_data",
          "data": {
            "image/png": "[encoded data removed]",
            "text/plain": [
              "<Figure size 432x288 with 1 Axes>"
            ]
          },
          "metadata": {
            "needs_background": "light"
          }
        }
      ]
    },
    {
      "cell_type": "markdown",
      "source": [
        "c. Estimar o valor de f(2,8) pelos dois métodos referidos acima"
      ],
      "metadata": {
        "id": "lNuTbWdeuCLd"
      }
    },
    {
      "cell_type": "markdown",
      "source": [
        "Utilizando os coeficientes obtidos pela spline quadrática:"
      ],
      "metadata": {
        "id": "hl6xc-oUhurG"
      }
    },
    {
      "cell_type": "code",
      "source": [
        "x = 2.8\n",
        "f1 = coefic1a[5]*(x**2) + coefic1a[6]*x + coefic1a[7]\n",
        "print('O valor obtido de f(2,8) pela spline quadrática: ', f1)"
      ],
      "metadata": {
        "id": "TP5Liu3lghkI",
        "colab": {
          "base_uri": "https://localhost:8080/"
        },
        "outputId": "c00f8430-58da-48e1-8fcf-154fee7032c2"
      },
      "execution_count": null,
      "outputs": [
        {
          "output_type": "stream",
          "name": "stdout",
          "text": [
            "O valor obtido de f(2,8) pela spline quadrática:  15.726530612244915\n"
          ]
        }
      ]
    },
    {
      "cell_type": "markdown",
      "source": [
        "Utilizando os coeficientes obtidos pela spline cúbica:"
      ],
      "metadata": {
        "id": "B31o4mHyv9mS"
      }
    },
    {
      "cell_type": "code",
      "source": [
        "f2 = coefic1b[8]*(x**3) + coefic1b[9]*(x**2) + coefic1b[10]*x + coefic1b[11]\n",
        "print('O valor obtido de f(2,8) pela spline cúbica: ', f2)"
      ],
      "metadata": {
        "colab": {
          "base_uri": "https://localhost:8080/"
        },
        "id": "yzQZljtgvcN1",
        "outputId": "1a157b08-9764-4636-ed01-fd9e9e673cf2"
      },
      "execution_count": null,
      "outputs": [
        {
          "output_type": "stream",
          "name": "stdout",
          "text": [
            "O valor obtido de f(2,8) pela spline cúbica:  15.515354832040089\n"
          ]
        }
      ]
    },
    {
      "cell_type": "markdown",
      "source": [
        "# Questão 2"
      ],
      "metadata": {
        "id": "zEomvdao4CFy"
      }
    },
    {
      "cell_type": "markdown",
      "source": [
        "Utilizamos a função input_vector para definir os valores de **x** e **f(x)**"
      ],
      "metadata": {
        "id": "GPs9Mvux9zBa"
      }
    },
    {
      "cell_type": "code",
      "source": [
        "x2, fx2 = input_vetor()"
      ],
      "metadata": {
        "id": "Jp7cUJTD4ETD",
        "colab": {
          "base_uri": "https://localhost:8080/"
        },
        "outputId": "a92c6d3c-e203-4a2b-f2db-f323596cad33"
      },
      "execution_count": null,
      "outputs": [
        {
          "output_type": "stream",
          "name": "stdout",
          "text": [
            "Quantidade de elementos da função: 6\n",
            "elemento  1\n",
            "x: 2\n",
            "f(x):0.5\n",
            "elemento  2\n",
            "x: 3\n",
            "f(x):0.3333\n",
            "elemento  3\n",
            "x: 4\n",
            "f(x):0.25\n",
            "elemento  4\n",
            "x: 5\n",
            "f(x):0.2\n",
            "elemento  5\n",
            "x: 6\n",
            "f(x):0.1667\n",
            "elemento  6\n",
            "x: 7\n",
            "f(x):0.1429\n",
            "[2. 3. 4. 5. 6. 7.]\n",
            "[0.5    0.3333 0.25   0.2    0.1667 0.1429]\n"
          ]
        }
      ]
    },
    {
      "cell_type": "markdown",
      "source": [
        "Utilizamos a função de spline cúbica para criar as matrizes A e B "
      ],
      "metadata": {
        "id": "3ht0LHn5-U0M"
      }
    },
    {
      "cell_type": "code",
      "source": [
        "a2, b2 = spline_cubica(x2, fx2)"
      ],
      "metadata": {
        "id": "IUnXjbejelFF"
      },
      "execution_count": null,
      "outputs": []
    },
    {
      "cell_type": "code",
      "source": [
        "a2"
      ],
      "metadata": {
        "colab": {
          "base_uri": "https://localhost:8080/"
        },
        "id": "D7a3VuxDe6YO",
        "outputId": "9c4f3962-2e56-4a5e-9834-da71ba2afa6f"
      },
      "execution_count": null,
      "outputs": [
        {
          "output_type": "execute_result",
          "data": {
            "text/plain": [
              "array([[  27.,    9.,    3.,    1.,    0.,    0.,    0.,    0.,    0.,\n",
              "           0.,    0.,    0.,    0.,    0.,    0.,    0.,    0.,    0.,\n",
              "           0.,    0.],\n",
              "       [   0.,    0.,    0.,    0.,   27.,    9.,    3.,    1.,    0.,\n",
              "           0.,    0.,    0.,    0.,    0.,    0.,    0.,    0.,    0.,\n",
              "           0.,    0.],\n",
              "       [   0.,    0.,    0.,    0.,   64.,   16.,    4.,    1.,    0.,\n",
              "           0.,    0.,    0.,    0.,    0.,    0.,    0.,    0.,    0.,\n",
              "           0.,    0.],\n",
              "       [   0.,    0.,    0.,    0.,    0.,    0.,    0.,    0.,   64.,\n",
              "          16.,    4.,    1.,    0.,    0.,    0.,    0.,    0.,    0.,\n",
              "           0.,    0.],\n",
              "       [   0.,    0.,    0.,    0.,    0.,    0.,    0.,    0.,  125.,\n",
              "          25.,    5.,    1.,    0.,    0.,    0.,    0.,    0.,    0.,\n",
              "           0.,    0.],\n",
              "       [   0.,    0.,    0.,    0.,    0.,    0.,    0.,    0.,    0.,\n",
              "           0.,    0.,    0.,  125.,   25.,    5.,    1.,    0.,    0.,\n",
              "           0.,    0.],\n",
              "       [   0.,    0.,    0.,    0.,    0.,    0.,    0.,    0.,    0.,\n",
              "           0.,    0.,    0.,  216.,   36.,    6.,    1.,    0.,    0.,\n",
              "           0.,    0.],\n",
              "       [   0.,    0.,    0.,    0.,    0.,    0.,    0.,    0.,    0.,\n",
              "           0.,    0.,    0.,    0.,    0.,    0.,    0.,  216.,   36.,\n",
              "           6.,    1.],\n",
              "       [   8.,    4.,    2.,    1.,    0.,    0.,    0.,    0.,    0.,\n",
              "           0.,    0.,    0.,    0.,    0.,    0.,    0.,    0.,    0.,\n",
              "           0.,    0.],\n",
              "       [   0.,    0.,    0.,    0.,    0.,    0.,    0.,    0.,    0.,\n",
              "           0.,    0.,    0.,    0.,    0.,    0.,    0.,  343.,   49.,\n",
              "           7.,    1.],\n",
              "       [  27.,    6.,    1.,    0.,  -27.,   -6.,   -1.,    0.,    0.,\n",
              "           0.,    0.,    0.,    0.,    0.,    0.,    0.,    0.,    0.,\n",
              "           0.,    0.],\n",
              "       [   0.,    0.,    0.,    0.,   48.,    8.,    1.,    0.,  -48.,\n",
              "          -8.,   -1.,    0.,    0.,    0.,    0.,    0.,    0.,    0.,\n",
              "           0.,    0.],\n",
              "       [   0.,    0.,    0.,    0.,    0.,    0.,    0.,    0.,   75.,\n",
              "          10.,    1.,    0.,  -75.,  -10.,   -1.,    0.,    0.,    0.,\n",
              "           0.,    0.],\n",
              "       [   0.,    0.,    0.,    0.,    0.,    0.,    0.,    0.,    0.,\n",
              "           0.,    0.,    0.,  108.,   12.,    1.,    0., -108.,  -12.,\n",
              "          -1.,    0.],\n",
              "       [  18.,    2.,    0.,    0.,  -18.,   -2.,    0.,    0.,    0.,\n",
              "           0.,    0.,    0.,    0.,    0.,    0.,    0.,    0.,    0.,\n",
              "           0.,    0.],\n",
              "       [   0.,    0.,    0.,    0.,   24.,    2.,    0.,    0.,  -24.,\n",
              "          -2.,    0.,    0.,    0.,    0.,    0.,    0.,    0.,    0.,\n",
              "           0.,    0.],\n",
              "       [   0.,    0.,    0.,    0.,    0.,    0.,    0.,    0.,   30.,\n",
              "           2.,    0.,    0.,  -30.,   -2.,    0.,    0.,    0.,    0.,\n",
              "           0.,    0.],\n",
              "       [   0.,    0.,    0.,    0.,    0.,    0.,    0.,    0.,    0.,\n",
              "           0.,    0.,    0.,   36.,    2.,    0.,    0.,  -36.,   -2.,\n",
              "           0.,    0.],\n",
              "       [  12.,    2.,    0.,    0.,    0.,    0.,    0.,    0.,    0.,\n",
              "           0.,    0.,    0.,    0.,    0.,    0.,    0.,    0.,    0.,\n",
              "           0.,    0.],\n",
              "       [   0.,    0.,    0.,    0.,    0.,    0.,    0.,    0.,    0.,\n",
              "           0.,    0.,    0.,    0.,    0.,    0.,    0.,   42.,    2.,\n",
              "           0.,    0.]])"
            ]
          },
          "metadata": {},
          "execution_count": 13
        }
      ]
    },
    {
      "cell_type": "code",
      "source": [
        "b2"
      ],
      "metadata": {
        "colab": {
          "base_uri": "https://localhost:8080/"
        },
        "id": "JEVNOBepe9Bf",
        "outputId": "a9fad28f-daa2-49bb-9cb3-17eec8fc465d"
      },
      "execution_count": null,
      "outputs": [
        {
          "output_type": "execute_result",
          "data": {
            "text/plain": [
              "array([0.3333, 0.3333, 0.25  , 0.25  , 0.2   , 0.2   , 0.1667, 0.1667,\n",
              "       0.5   , 0.1429, 0.    , 0.    , 0.    , 0.    , 0.    , 0.    ,\n",
              "       0.    , 0.    , 0.    , 0.    ])"
            ]
          },
          "metadata": {},
          "execution_count": 14
        }
      ]
    },
    {
      "cell_type": "markdown",
      "source": [
        "Utilizamos método de eliminação de gauss para solucionar o sistema e encontrar os coeficientes dos polinômios desejados"
      ],
      "metadata": {
        "id": "RyKCwPpOBBFs"
      }
    },
    {
      "cell_type": "code",
      "source": [
        "coeficq2 = gauss(a2, b2, True)"
      ],
      "metadata": {
        "id": "Os992hWbgtqV"
      },
      "execution_count": null,
      "outputs": []
    },
    {
      "cell_type": "code",
      "source": [
        "coeficq2"
      ],
      "metadata": {
        "colab": {
          "base_uri": "https://localhost:8080/"
        },
        "id": "TKr8M9-mg2Ha",
        "outputId": "263417e8-79f8-4edc-8a58-58ce51bddbfa"
      },
      "execution_count": null,
      "outputs": [
        {
          "output_type": "execute_result",
          "data": {
            "text/plain": [
              "array([ 2.02306220e-02, -1.21383732e-01,  5.58368421e-02,  7.12016268e-01,\n",
              "       -1.77531100e-02,  2.20469856e-01, -9.69723923e-01,  1.73757703e+00,\n",
              "        6.81818182e-04, -7.49282297e-04, -8.48473684e-02,  5.57741627e-01,\n",
              "       -1.57416268e-03,  3.30904306e-02, -2.54045933e-01,  8.39739234e-01,\n",
              "       -1.58516746e-03,  3.32885167e-02, -2.55234450e-01,  8.42116268e-01])"
            ]
          },
          "metadata": {},
          "execution_count": 16
        }
      ]
    },
    {
      "cell_type": "markdown",
      "source": [
        "\n",
        "Aproveitando a função criada para questão anterior, plotamos o gráfico para conhece a curva da função estudada\n",
        "\n"
      ],
      "metadata": {
        "id": "OQn74pQUAbJj"
      }
    },
    {
      "cell_type": "code",
      "source": [
        "plota_spline_cubica(coeficq2, x2)"
      ],
      "metadata": {
        "colab": {
          "base_uri": "https://localhost:8080/",
          "height": 265
        },
        "id": "_Qrpjyztg58X",
        "outputId": "c14e364e-539c-4543-b0f4-bfd9a5e8f0b5"
      },
      "execution_count": null,
      "outputs": [
        {
          "output_type": "display_data",
          "data": {
            "image/png": "[encoded data removed]",
            "text/plain": [
              "<Figure size 432x288 with 1 Axes>"
            ]
          },
          "metadata": {
            "needs_background": "light"
          }
        }
      ]
    },
    {
      "cell_type": "markdown",
      "source": [
        "a3.x³ + b3.x² + c3.x + d3 = 0,23"
      ],
      "metadata": {
        "id": "Zx6AL9qlChvb"
      }
    },
    {
      "cell_type": "markdown",
      "source": [
        "Então x é a raiz da equação a3.x³ + b3.x² + c3.x + d3 -0,23 = 0"
      ],
      "metadata": {
        "id": "hhQp93OmDQMA"
      }
    },
    {
      "cell_type": "code",
      "source": [
        "def f(x):\n",
        "  return coeficq2[8]*(x**3) + coeficq2[9]*(x**2) + coeficq2[10]*x + coeficq2[11] - 0.23"
      ],
      "metadata": {
        "id": "s58Ig4CWhI2X"
      },
      "execution_count": null,
      "outputs": []
    },
    {
      "cell_type": "markdown",
      "source": [
        "Utilizamos método da bisseccao para resolver a equação obtida e descobrir o valor de x"
      ],
      "metadata": {
        "id": "P268ir2FDddn"
      }
    },
    {
      "cell_type": "code",
      "source": [
        "xq2 = bisseccao(4,5,f,0.0001)\n",
        "xq2"
      ],
      "metadata": {
        "colab": {
          "base_uri": "https://localhost:8080/"
        },
        "id": "DZ2etdgph1uI",
        "outputId": "8afcb393-ffd5-46a2-f304-a947afaa079e"
      },
      "execution_count": null,
      "outputs": [
        {
          "output_type": "execute_result",
          "data": {
            "text/plain": [
              "4.361572265625"
            ]
          },
          "metadata": {},
          "execution_count": 23
        }
      ]
    },
    {
      "cell_type": "markdown",
      "source": [
        "# Questão 3"
      ],
      "metadata": {
        "id": "7nNfSw1kvnPe"
      }
    },
    {
      "cell_type": "markdown",
      "source": [
        "Primeiramente, armazenamos os dados nas devidas variáveis:"
      ],
      "metadata": {
        "id": "IabpmUjtwXLr"
      }
    },
    {
      "cell_type": "code",
      "source": [
        "#x3, fx3 = input_vetor()\n",
        "# Input utilizado originalmente"
      ],
      "metadata": {
        "colab": {
          "base_uri": "https://localhost:8080/"
        },
        "id": "Ammy1yrTwjch",
        "outputId": "82bf9744-f8bd-45dd-ec1b-4c55c2bacd09"
      },
      "execution_count": null,
      "outputs": [
        {
          "output_type": "stream",
          "name": "stdout",
          "text": [
            "Quantidade de elementos da função: 36\n",
            "elemento  1\n",
            "x: 1\n",
            "f(x):266\n",
            "elemento  2\n",
            "x: 2\n",
            "f(x):145.9\n",
            "elemento  3\n",
            "x: 3\n",
            "f(x):183.1\n",
            "elemento  4\n",
            "x: 4\n",
            "f(x):119.3\n",
            "elemento  5\n",
            "x: 5\n",
            "f(x):180.3\n",
            "elemento  6\n",
            "x: 6\n",
            "f(x):168.5\n",
            "elemento  7\n",
            "x: 7\n",
            "f(x):231.8\n",
            "elemento  8\n",
            "x: 8\n",
            "f(x):224.5\n",
            "elemento  9\n",
            "x: 9\n",
            "f(x):192.8\n",
            "elemento  10\n",
            "x: 10\n",
            "f(x):122.9\n",
            "elemento  11\n",
            "x: 11\n",
            "f(x):336.5\n",
            "elemento  12\n",
            "x: 12\n",
            "f(x):185.9\n",
            "elemento  13\n",
            "x: 13\n",
            "f(x):194.3\n",
            "elemento  14\n",
            "x: 14\n",
            "f(x):149.5\n",
            "elemento  15\n",
            "x: 15\n",
            "f(x):210.1\n",
            "elemento  16\n",
            "x: 16\n",
            "f(x):273.3\n",
            "elemento  17\n",
            "x: 17\n",
            "f(x):191.4\n",
            "elemento  18\n",
            "x: 18\n",
            "f(x):287\n",
            "elemento  19\n",
            "x: 19\n",
            "f(x):226\n",
            "elemento  20\n",
            "x: 20\n",
            "f(x):303.6\n",
            "elemento  21\n",
            "x: 21\n",
            "f(x):289.9\n",
            "elemento  22\n",
            "x: 22\n",
            "f(x):421.6\n",
            "elemento  23\n",
            "x: 23\n",
            "f(x):264.5\n",
            "elemento  24\n",
            "x: 24\n",
            "f(x):342.3\n",
            "elemento  25\n",
            "x: 25\n",
            "f(x):339.7\n",
            "elemento  26\n",
            "x: 26\n",
            "f(x):440.4\n",
            "elemento  27\n",
            "x: 27\n",
            "f(x):315.9\n",
            "elemento  28\n",
            "x: 28\n",
            "f(x):439.3\n",
            "elemento  29\n",
            "x: 29\n",
            "f(x):401.3\n",
            "elemento  30\n",
            "x: 30\n",
            "f(x):437.4\n",
            "elemento  31\n",
            "x: 31\n",
            "f(x):575.5\n",
            "elemento  32\n",
            "x: 32\n",
            "f(x):407.6\n",
            "elemento  33\n",
            "x: 33\n",
            "f(x):682\n",
            "elemento  34\n",
            "x: 34\n",
            "f(x):475.3\n",
            "elemento  35\n",
            "x: 35\n",
            "f(x):581.3\n",
            "elemento  36\n",
            "x: 36\n",
            "f(x):646.9\n",
            "[ 1.  2.  3.  4.  5.  6.  7.  8.  9. 10. 11. 12. 13. 14. 15. 16. 17. 18.\n",
            " 19. 20. 21. 22. 23. 24. 25. 26. 27. 28. 29. 30. 31. 32. 33. 34. 35. 36.]\n",
            "[266.  145.9 183.1 119.3 180.3 168.5 231.8 224.5 192.8 122.9 336.5 185.9\n",
            " 194.3 149.5 210.1 273.3 191.4 287.  226.  303.6 289.9 421.6 264.5 342.3\n",
            " 339.7 440.4 315.9 439.3 401.3 437.4 575.5 407.6 682.  475.3 581.3 646.9]\n"
          ]
        }
      ]
    },
    {
      "cell_type": "code",
      "source": [
        "# Input mais prático\n",
        "x3 = np.zeros((36), dtype='float')\n",
        "aux = 0\n",
        "for j in range(3):\n",
        "  for i in range(12):\n",
        "    \n",
        "    x3[aux] = aux + 1\n",
        "    aux = aux + 1\n",
        "\n",
        "fx3= [266, 145.9, 183.1, 119.3,180.3, 168.5, 231.8, 224.5, 192.8, 122.9, 336.5, 185.9, 194.3, 149.5, 210.1, 273.3, 191.4, 191.4, 226.0, 303.6, 289.9, 421.6, 264.5, 342.3, 339.7, 440.4, 315.9, 439.3, 401.3, 437.4, 575.5, 407.6, 682.0, 475.3, 581.3, 646.9]\n",
        "\n",
        "fx3\n"
      ],
      "metadata": {
        "colab": {
          "base_uri": "https://localhost:8080/"
        },
        "id": "2yvqg3xxS_zL",
        "outputId": "c255de05-e0d0-495c-e70f-e6264c65360b"
      },
      "execution_count": 14,
      "outputs": [
        {
          "output_type": "execute_result",
          "data": {
            "text/plain": [
              "[266,\n",
              " 145.9,\n",
              " 183.1,\n",
              " 119.3,\n",
              " 180.3,\n",
              " 168.5,\n",
              " 231.8,\n",
              " 224.5,\n",
              " 192.8,\n",
              " 122.9,\n",
              " 336.5,\n",
              " 185.9,\n",
              " 194.3,\n",
              " 149.5,\n",
              " 210.1,\n",
              " 273.3,\n",
              " 191.4,\n",
              " 191.4,\n",
              " 226.0,\n",
              " 303.6,\n",
              " 289.9,\n",
              " 421.6,\n",
              " 264.5,\n",
              " 342.3,\n",
              " 339.7,\n",
              " 440.4,\n",
              " 315.9,\n",
              " 439.3,\n",
              " 401.3,\n",
              " 437.4,\n",
              " 575.5,\n",
              " 407.6,\n",
              " 682.0,\n",
              " 475.3,\n",
              " 581.3,\n",
              " 646.9]"
            ]
          },
          "metadata": {},
          "execution_count": 14
        }
      ]
    },
    {
      "cell_type": "markdown",
      "source": [
        "Em seguida, montamos as matrizes A e B..."
      ],
      "metadata": {
        "id": "6VM5kXv_0rSF"
      }
    },
    {
      "cell_type": "code",
      "source": [
        "A3, B3 = spline_cubica(x3, fx3)\n",
        "A3"
      ],
      "metadata": {
        "colab": {
          "base_uri": "https://localhost:8080/"
        },
        "id": "uPydzPjNwoAR",
        "outputId": "554bc901-2422-4ecc-e0f5-a231d727c177"
      },
      "execution_count": 15,
      "outputs": [
        {
          "output_type": "execute_result",
          "data": {
            "text/plain": [
              "array([[ 8.,  4.,  2., ...,  0.,  0.,  0.],\n",
              "       [ 0.,  0.,  0., ...,  0.,  0.,  0.],\n",
              "       [ 0.,  0.,  0., ...,  0.,  0.,  0.],\n",
              "       ...,\n",
              "       [ 0.,  0.,  0., ..., -2.,  0.,  0.],\n",
              "       [ 6.,  2.,  0., ...,  0.,  0.,  0.],\n",
              "       [ 0.,  0.,  0., ...,  2.,  0.,  0.]])"
            ]
          },
          "metadata": {},
          "execution_count": 15
        }
      ]
    },
    {
      "cell_type": "code",
      "source": [
        "B3"
      ],
      "metadata": {
        "colab": {
          "base_uri": "https://localhost:8080/"
        },
        "id": "D76tW3VP09kO",
        "outputId": "0060e50d-d306-496d-eb4e-0042da89e9bb"
      },
      "execution_count": 16,
      "outputs": [
        {
          "output_type": "execute_result",
          "data": {
            "text/plain": [
              "array([145.9, 145.9, 183.1, 183.1, 119.3, 119.3, 180.3, 180.3, 168.5,\n",
              "       168.5, 231.8, 231.8, 224.5, 224.5, 192.8, 192.8, 122.9, 122.9,\n",
              "       336.5, 336.5, 185.9, 185.9, 194.3, 194.3, 149.5, 149.5, 210.1,\n",
              "       210.1, 273.3, 273.3, 191.4, 191.4, 191.4, 191.4, 226. , 226. ,\n",
              "       303.6, 303.6, 289.9, 289.9, 421.6, 421.6, 264.5, 264.5, 342.3,\n",
              "       342.3, 339.7, 339.7, 440.4, 440.4, 315.9, 315.9, 439.3, 439.3,\n",
              "       401.3, 401.3, 437.4, 437.4, 575.5, 575.5, 407.6, 407.6, 682. ,\n",
              "       682. , 475.3, 475.3, 581.3, 581.3, 266. , 646.9,   0. ,   0. ,\n",
              "         0. ,   0. ,   0. ,   0. ,   0. ,   0. ,   0. ,   0. ,   0. ,\n",
              "         0. ,   0. ,   0. ,   0. ,   0. ,   0. ,   0. ,   0. ,   0. ,\n",
              "         0. ,   0. ,   0. ,   0. ,   0. ,   0. ,   0. ,   0. ,   0. ,\n",
              "         0. ,   0. ,   0. ,   0. ,   0. ,   0. ,   0. ,   0. ,   0. ,\n",
              "         0. ,   0. ,   0. ,   0. ,   0. ,   0. ,   0. ,   0. ,   0. ,\n",
              "         0. ,   0. ,   0. ,   0. ,   0. ,   0. ,   0. ,   0. ,   0. ,\n",
              "         0. ,   0. ,   0. ,   0. ,   0. ,   0. ,   0. ,   0. ,   0. ,\n",
              "         0. ,   0. ,   0. ,   0. ,   0. ])"
            ]
          },
          "metadata": {},
          "execution_count": 16
        }
      ]
    },
    {
      "cell_type": "markdown",
      "source": [
        "... e utilizamos o método de eliminação de Gauss para solucionar o sistema e encontrar os coeficientes dos polinômios desejados"
      ],
      "metadata": {
        "id": "JAf2OZ5n0xK3"
      }
    },
    {
      "cell_type": "code",
      "source": [
        "coefic3 = gauss(A3, B3, True)\n",
        "coefic3"
      ],
      "metadata": {
        "colab": {
          "base_uri": "https://localhost:8080/"
        },
        "id": "H8Sv82XrzLES",
        "outputId": "2af0e7c7-3062-4451-a9eb-b120f8a3b8ab"
      },
      "execution_count": 17,
      "outputs": [
        {
          "output_type": "execute_result",
          "data": {
            "text/plain": [
              "array([ 5.23072965e+01, -1.56921890e+02, -1.54854069e+01,  3.86100000e+02,\n",
              "       -1.04236483e+02,  7.82340786e+02, -1.89401076e+03,  1.63845023e+03,\n",
              "        1.06338634e+02, -1.11283527e+03,  3.79151740e+03, -4.04707793e+03,\n",
              "       -9.53180549e+01,  1.30704500e+03, -5.88800368e+03,  8.85895019e+03,\n",
              "        7.73335852e+01, -1.28272960e+03,  7.06086933e+03, -1.27225048e+04,\n",
              "       -6.61162859e+01,  1.29936808e+03, -8.43171676e+03,  1.82626673e+04,\n",
              "        4.14315585e+01, -9.59136650e+02,  7.37781637e+03, -1.86262433e+04,\n",
              "       -5.34099480e+01,  1.31705950e+03, -1.08317529e+04,  2.99326080e+04,\n",
              "        1.58408233e+02, -4.40203139e+03,  4.06400652e+04, -1.24482846e+05,\n",
              "       -2.58522986e+02,  8.10590518e+03, -8.44393005e+04,  2.92448373e+05,\n",
              "        2.27983709e+02, -7.94881576e+03,  9.21626298e+04, -3.55092038e+05,\n",
              "       -1.30211852e+02,  4.94622444e+03, -6.25778526e+04,  2.63869891e+05,\n",
              "        8.06636975e+01, -3.27792198e+03,  4.43360508e+04, -1.99423690e+05,\n",
              "       -3.38429382e+01,  1.53135672e+03, -2.29938509e+04,  1.14782518e+05,\n",
              "       -4.80919448e+01,  2.17256202e+03, -3.26119304e+04,  1.62872915e+05,\n",
              "        7.85107174e+01, -3.90436576e+03,  6.46189141e+04, -3.55691589e+05,\n",
              "       -3.89509246e+01,  2.08617798e+03, -3.72203295e+04,  2.21397458e+05,\n",
              "        2.99929812e+01, -1.63679294e+03,  2.97931470e+04, -1.80683401e+05,\n",
              "       -7.26210002e+01,  4.21220400e+03, -8.13377949e+04,  5.23145898e+05,\n",
              "        1.26191020e+02, -7.71651719e+03,  1.57236629e+05, -1.06735026e+06,\n",
              "       -1.95443078e+02,  1.25464310e+04, -2.68285283e+05,  1.91130312e+06,\n",
              "        2.21381293e+02, -1.49639775e+04,  3.36943705e+05, -2.52704279e+06,\n",
              "       -1.66382095e+02,  1.17916963e+04, -2.78436793e+05,  2.19087436e+06,\n",
              "        1.28847088e+02, -9.46480492e+03,  2.31719236e+05, -1.89037387e+06,\n",
              "       -1.65306256e+02,  1.25966959e+04, -3.19818285e+05,  2.70577214e+06,\n",
              "        2.03877938e+02, -1.61996712e+04,  4.28887261e+05, -3.78300926e+06,\n",
              "       -1.77105494e+02,  1.46599867e+04, -4.04323504e+05,  3.71588763e+06,\n",
              "        9.52440386e+01, -8.21737401e+03,  2.36242596e+05, -2.26272931e+06,\n",
              "        3.16293396e+01, -2.68289520e+03,  7.57427109e+04, -7.11230420e+05,\n",
              "       -1.93861397e+02,  1.76112711e+04, -5.33082278e+05,  5.37701947e+06,\n",
              "        3.35816249e+02, -3.16487500e+04,  9.93978375e+05, -1.04026073e+07,\n",
              "       -4.01103599e+02,  3.90955554e+04, -1.26983940e+06,  1.37447823e+07,\n",
              "        3.45198146e+02, -3.47883173e+04,  1.16832840e+06, -1.30750635e+07,\n",
              "       -1.85888986e+02,  1.93825701e+04, -6.73481770e+05,  7.79878512e+06,\n",
              "        4.52577972e+01, -4.88784209e+03,  1.75982658e+05, -2.11163320e+06])"
            ]
          },
          "metadata": {},
          "execution_count": 17
        }
      ]
    },
    {
      "cell_type": "markdown",
      "source": [
        "Finalmente, plotamos o gráfico com todas as splines"
      ],
      "metadata": {
        "id": "zXCq0dxg1FGm"
      }
    },
    {
      "cell_type": "code",
      "source": [
        "plota_spline_cubica(coefic3, x3)"
      ],
      "metadata": {
        "colab": {
          "base_uri": "https://localhost:8080/",
          "height": 265
        },
        "id": "0dk-gEEuzQ04",
        "outputId": "6dd1232f-d0d2-4668-e9e0-f260afdfd7ab"
      },
      "execution_count": 18,
      "outputs": [
        {
          "output_type": "display_data",
          "data": {
            "image/png": "[encoded data removed]",
            "text/plain": [
              "<Figure size 432x288 with 1 Axes>"
            ]
          },
          "metadata": {
            "needs_background": "light"
          }
        }
      ]
    },
    {
      "cell_type": "code",
      "source": [
        "# Qual o número de vendas no dia 14 de fevereiro do segundo ano?\n",
        "coefic3[52]*(14.5**3) + coefic3[53]*(14.5**2) + coefic3[54]*14.5 + coefic3[55]"
      ],
      "metadata": {
        "id": "JVT9iVcSzV81",
        "colab": {
          "base_uri": "https://localhost:8080/"
        },
        "outputId": "cf70242a-86aa-4d73-a6c9-a4425660a762"
      },
      "execution_count": 19,
      "outputs": [
        {
          "output_type": "execute_result",
          "data": {
            "text/plain": [
              "165.00277235844987"
            ]
          },
          "metadata": {},
          "execution_count": 19
        }
      ]
    },
    {
      "cell_type": "code",
      "source": [
        "# E no dia 3 de março do terceiro ano?\n",
        "dia = 27+(3/31)\n",
        "coefic3[104]*(dia**3) + coefic3[105]*(dia**2) + coefic3[106]*dia + coefic3[107]"
      ],
      "metadata": {
        "colab": {
          "base_uri": "https://localhost:8080/"
        },
        "id": "S8hUvhnxeFmu",
        "outputId": "cc779f5a-18aa-43ac-f83f-94c829f007c5"
      },
      "execution_count": 20,
      "outputs": [
        {
          "output_type": "execute_result",
          "data": {
            "text/plain": [
              "317.3356437510811"
            ]
          },
          "metadata": {},
          "execution_count": 20
        }
      ]
    },
    {
      "cell_type": "code",
      "source": [
        ""
      ],
      "metadata": {
        "id": "B6Bgkhw7fyA2"
      },
      "execution_count": null,
      "outputs": []
    }
  ]
}