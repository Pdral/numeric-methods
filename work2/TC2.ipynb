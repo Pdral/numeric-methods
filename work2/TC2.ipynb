{
  "nbformat": 4,
  "nbformat_minor": 0,
  "metadata": {
    "colab": {
      "name": "TC2 .ipynb",
      "provenance": [],
      "collapsed_sections": [
        "M2OXcY21daht",
        "x3cWcHBAy0GG",
        "yEqlBk2mznXv",
        "kpo-Z_Zx-vTw"
      ]
    },
    "kernelspec": {
      "name": "python3",
      "display_name": "Python 3"
    },
    "language_info": {
      "name": "python"
    }
  },
  "cells": [
    {
      "cell_type": "markdown",
      "source": [
        "##Trabalho Computacional 2\n",
        "### Métodos Numéricos 2021.1\n",
        "Questão 1"
      ],
      "metadata": {
        "id": "M2OXcY21daht"
      }
    },
    {
      "cell_type": "code",
      "source": [
        "import numpy as np"
      ],
      "metadata": {
        "id": "TVJC2BUBefhI"
      },
      "execution_count": null,
      "outputs": []
    },
    {
      "cell_type": "code",
      "execution_count": null,
      "metadata": {
        "colab": {
          "base_uri": "https://localhost:8080/"
        },
        "id": "79F_x7CdojaL",
        "outputId": "91c0e7a9-7187-466f-d8c6-6148d4027d1f"
      },
      "outputs": [
        {
          "output_type": "stream",
          "name": "stdout",
          "text": [
            "Ordem da Matriz: 6\n",
            "Coeficiente [ 1 ][ 1 ]\n",
            "Input: 4\n",
            "Coeficiente [ 1 ][ 2 ]\n",
            "Input: -1\n",
            "Coeficiente [ 1 ][ 3 ]\n",
            "Input: 0\n",
            "Coeficiente [ 1 ][ 4 ]\n",
            "Input: -1\n",
            "Coeficiente [ 1 ][ 5 ]\n",
            "Input: 0\n",
            "Coeficiente [ 1 ][ 6 ]\n",
            "Input: 0\n",
            "Coeficiente [ 2 ][ 1 ]\n",
            "Input: -1\n",
            "Coeficiente [ 2 ][ 2 ]\n",
            "Input: 4\n",
            "Coeficiente [ 2 ][ 3 ]\n",
            "Input: -1\n",
            "Coeficiente [ 2 ][ 4 ]\n",
            "Input: 0\n",
            "Coeficiente [ 2 ][ 5 ]\n",
            "Input: -1\n",
            "Coeficiente [ 2 ][ 6 ]\n",
            "Input: 0\n",
            "Coeficiente [ 3 ][ 1 ]\n",
            "Input: 0\n",
            "Coeficiente [ 3 ][ 2 ]\n",
            "Input: -1\n",
            "Coeficiente [ 3 ][ 3 ]\n",
            "Input: 4\n",
            "Coeficiente [ 3 ][ 4 ]\n",
            "Input: 0\n",
            "Coeficiente [ 3 ][ 5 ]\n",
            "Input: 0\n",
            "Coeficiente [ 3 ][ 6 ]\n",
            "Input: -1\n",
            "Coeficiente [ 4 ][ 1 ]\n",
            "Input: -1\n",
            "Coeficiente [ 4 ][ 2 ]\n",
            "Input: 0\n",
            "Coeficiente [ 4 ][ 3 ]\n",
            "Input: 0\n",
            "Coeficiente [ 4 ][ 4 ]\n",
            "Input: 4\n",
            "Coeficiente [ 4 ][ 5 ]\n",
            "Input: -1\n",
            "Coeficiente [ 4 ][ 6 ]\n",
            "Input: 0\n",
            "Coeficiente [ 5 ][ 1 ]\n",
            "Input: 0\n",
            "Coeficiente [ 5 ][ 2 ]\n",
            "Input: -1\n",
            "Coeficiente [ 5 ][ 3 ]\n",
            "Input: 0\n",
            "Coeficiente [ 5 ][ 4 ]\n",
            "Input: -1\n",
            "Coeficiente [ 5 ][ 5 ]\n",
            "Input: 4\n",
            "Coeficiente [ 5 ][ 6 ]\n",
            "Input: -1\n",
            "Coeficiente [ 6 ][ 1 ]\n",
            "Input: 0\n",
            "Coeficiente [ 6 ][ 2 ]\n",
            "Input: 0\n",
            "Coeficiente [ 6 ][ 3 ]\n",
            "Input: -1\n",
            "Coeficiente [ 6 ][ 4 ]\n",
            "Input: 0\n",
            "Coeficiente [ 6 ][ 5 ]\n",
            "Input: -1\n",
            "Coeficiente [ 6 ][ 6 ]\n",
            "Input: 4\n",
            "[[ 4. -1.  0. -1.  0.  0.]\n",
            " [-1.  4. -1.  0. -1.  0.]\n",
            " [ 0. -1.  4.  0.  0. -1.]\n",
            " [-1.  0.  0.  4. -1.  0.]\n",
            " [ 0. -1.  0. -1.  4. -1.]\n",
            " [ 0.  0. -1.  0. -1.  4.]]\n"
          ]
        }
      ],
      "source": [
        "#Input de dados da matriz\n",
        "ordem=int(input('Ordem da Matriz: '))\n",
        "matriz=np.zeros((ordem, ordem), dtype='float')\n",
        "for i in range(ordem):\n",
        "  for j in range(ordem):\n",
        "    print('Coeficiente [', i+1, '][', j+1,']')\n",
        "    c=float(input('Input: ' ))\n",
        "    matriz[i,j] = c\n",
        "print (matriz)"
      ]
    },
    {
      "cell_type": "markdown",
      "source": [
        "Utilizamos a função de gauss jordan para cálculo da matriz inversa"
      ],
      "metadata": {
        "id": "yWDMIDanFuvu"
      }
    },
    {
      "cell_type": "code",
      "source": [
        "def gauss_jordan_inversa(M):\n",
        "  #copia a matriz\n",
        "  A = np.copy(M)\n",
        "  n = len(A)\n",
        "  #cria uma matriz identidade\n",
        "  I = np.identity(n)\n",
        "  k=0\n",
        "  while k<n:\n",
        "    z=0\n",
        "    #escolhe o pivo\n",
        "    pivo=A[k,k]\n",
        "    while z<n:\n",
        "      #atualização dos elementos das matrizes dividindo pelo pivo escolhido A[k][k]\n",
        "      A[k,z]=A[k,z]/pivo\n",
        "      I[k,z]=I[k,z]/pivo\n",
        "      z=z+1\n",
        "    z=0\n",
        "    while z<n:\n",
        "      if z != k:\n",
        "        #calcula o fator\n",
        "        fator = (-1)*A[z,k]\n",
        "        j=0\n",
        "        while j<n:\n",
        "          A[z,j] = fator*A[k,j]+A[z,j]\n",
        "          I[z,j] = fator*I[k,j]+I[z,j]\n",
        "          j=j+1\n",
        "      z=z+1\n",
        "    k=k+1\n",
        "  return I"
      ],
      "metadata": {
        "id": "09hb9O7AbkEV"
      },
      "execution_count": null,
      "outputs": []
    },
    {
      "cell_type": "code",
      "source": [
        "inversa_matriz = gauss_jordan_inversa(matriz)"
      ],
      "metadata": {
        "id": "NvHSfyPpeFtt"
      },
      "execution_count": null,
      "outputs": []
    },
    {
      "cell_type": "markdown",
      "source": [
        "Resultado da matriz inversa calculada pelo método de gauss"
      ],
      "metadata": {
        "id": "_6sFnaIGDx4O"
      }
    },
    {
      "cell_type": "code",
      "source": [
        "inversa_matriz"
      ],
      "metadata": {
        "colab": {
          "base_uri": "https://localhost:8080/"
        },
        "id": "OL3QENFQeTsz",
        "outputId": "371ead0e-0c7a-44df-f792-c0996f2444ca"
      },
      "execution_count": null,
      "outputs": [
        {
          "output_type": "execute_result",
          "data": {
            "text/plain": [
              "array([[0.29482402, 0.0931677 , 0.02815735, 0.08612836, 0.04968944,\n",
              "        0.0194617 ],\n",
              "       [0.0931677 , 0.32298137, 0.0931677 , 0.04968944, 0.10559006,\n",
              "        0.04968944],\n",
              "       [0.02815735, 0.0931677 , 0.29482402, 0.0194617 , 0.04968944,\n",
              "        0.08612836],\n",
              "       [0.08612836, 0.04968944, 0.0194617 , 0.29482402, 0.0931677 ,\n",
              "        0.02815735],\n",
              "       [0.04968944, 0.10559006, 0.04968944, 0.0931677 , 0.32298137,\n",
              "        0.0931677 ],\n",
              "       [0.0194617 , 0.04968944, 0.08612836, 0.02815735, 0.0931677 ,\n",
              "        0.29482402]])"
            ]
          },
          "metadata": {},
          "execution_count": 5
        }
      ]
    },
    {
      "cell_type": "markdown",
      "source": [
        "Para verificar se a matriz inversa está correta, multiplicamos a matriz original pela inversa e esperamos o resultado de uma matriz identidade de mesma dimensão da matriz original"
      ],
      "metadata": {
        "id": "-ujEN5RuEB5D"
      }
    },
    {
      "cell_type": "code",
      "source": [
        "identidade = np.matmul(matriz, inversa_matriz)"
      ],
      "metadata": {
        "id": "G8syrcd-eV7y"
      },
      "execution_count": null,
      "outputs": []
    },
    {
      "cell_type": "code",
      "source": [
        "identidade"
      ],
      "metadata": {
        "colab": {
          "base_uri": "https://localhost:8080/"
        },
        "id": "OklNAWDFeZ2f",
        "outputId": "7433b101-e1c1-4b53-dc5a-bf64751f5bee"
      },
      "execution_count": null,
      "outputs": [
        {
          "output_type": "execute_result",
          "data": {
            "text/plain": [
              "array([[ 1.00000000e+00, -1.38777878e-17,  0.00000000e+00,\n",
              "         0.00000000e+00,  1.38777878e-17,  1.38777878e-17],\n",
              "       [-2.08166817e-17,  1.00000000e+00, -1.38777878e-17,\n",
              "         0.00000000e+00,  0.00000000e+00, -2.77555756e-17],\n",
              "       [-3.46944695e-18, -1.38777878e-17,  1.00000000e+00,\n",
              "         0.00000000e+00, -1.38777878e-17,  0.00000000e+00],\n",
              "       [-2.08166817e-17,  0.00000000e+00, -1.38777878e-17,\n",
              "         1.00000000e+00,  5.55111512e-17, -1.38777878e-17],\n",
              "       [ 2.42861287e-17, -1.38777878e-17,  0.00000000e+00,\n",
              "         0.00000000e+00,  1.00000000e+00,  0.00000000e+00],\n",
              "       [ 0.00000000e+00,  0.00000000e+00,  0.00000000e+00,\n",
              "         1.38777878e-17,  5.55111512e-17,  1.00000000e+00]])"
            ]
          },
          "metadata": {},
          "execution_count": 7
        }
      ]
    },
    {
      "cell_type": "markdown",
      "source": [
        "Obervamos que alguns coeficientes da matriz que deveriam ser 0 ficaram com um número \"resíduo\" muito pequeno, por isso, construimos uma função que \"varre\" todos os elementos da matriz verificando se o elemento é um valor muito pequeno (no caso escolhemos 0.00000000001 ou 10^-11) e quando esse número é menor que o valor substituimos ele por 0"
      ],
      "metadata": {
        "id": "DuPHY1vnEUIW"
      }
    },
    {
      "cell_type": "code",
      "source": [
        "def limpa_identidade(M):\n",
        "  identidade_limpa = np.copy(M)\n",
        "  n=len(M)\n",
        "  i=0\n",
        "  while i<n:\n",
        "    j=0\n",
        "    while j<n:\n",
        "      if identidade_limpa[i,j]<0.00000000001:\n",
        "        identidade_limpa[i,j] = 0\n",
        "      j=j+1\n",
        "    i=i+1\n",
        "  return identidade_limpa\n"
      ],
      "metadata": {
        "id": "ncB-DkjKgKlD"
      },
      "execution_count": null,
      "outputs": []
    },
    {
      "cell_type": "code",
      "source": [
        "id_limpa = limpa_identidade(identidade)"
      ],
      "metadata": {
        "id": "R6LHA8sSoEFo"
      },
      "execution_count": null,
      "outputs": []
    },
    {
      "cell_type": "code",
      "source": [
        "id_limpa"
      ],
      "metadata": {
        "colab": {
          "base_uri": "https://localhost:8080/"
        },
        "id": "6WkC_PU_oLOm",
        "outputId": "ff993f52-6f38-47b7-b771-43a71a86e98d"
      },
      "execution_count": null,
      "outputs": [
        {
          "output_type": "execute_result",
          "data": {
            "text/plain": [
              "array([[1., 0., 0., 0., 0., 0.],\n",
              "       [0., 1., 0., 0., 0., 0.],\n",
              "       [0., 0., 1., 0., 0., 0.],\n",
              "       [0., 0., 0., 1., 0., 0.],\n",
              "       [0., 0., 0., 0., 1., 0.],\n",
              "       [0., 0., 0., 0., 0., 1.]])"
            ]
          },
          "metadata": {},
          "execution_count": 10
        }
      ]
    },
    {
      "cell_type": "markdown",
      "source": [
        "Desta forma, conseguimos observar com maior clareza que o resultado da multiplicação resulta em uma matriz identidade e alcançamos o objetivo de encontrar a matriz inversa"
      ],
      "metadata": {
        "id": "sQjwUfiLFcKY"
      }
    },
    {
      "cell_type": "markdown",
      "source": [
        "# Questão 2"
      ],
      "metadata": {
        "id": "x3cWcHBAy0GG"
      }
    },
    {
      "cell_type": "markdown",
      "source": [
        "Pela questão, formulamos as seguintes equações lineares:"
      ],
      "metadata": {
        "id": "B4LHZKqVy742"
      }
    },
    {
      "cell_type": "markdown",
      "source": [
        "1a + 1b + 1c = 12"
      ],
      "metadata": {
        "id": "2QEQKvZCy_bw"
      }
    },
    {
      "cell_type": "markdown",
      "source": [
        "1b + 2c = 10"
      ],
      "metadata": {
        "id": "pzBpkcwOy_em"
      }
    },
    {
      "cell_type": "markdown",
      "source": [
        "2a + 1b + 1c = 16"
      ],
      "metadata": {
        "id": "TtOBVdWey_hu"
      }
    },
    {
      "cell_type": "markdown",
      "source": [
        "Primeiro, pensamos em utilizar o método de Gauss-Seidel, mas percebemps que não poderia pelo fato de que o Teorema do Critério das Linhas não era satisfeito,o que também inviabilizou a utilização do método de Gauss-Jacobi. Assim, utilizamos o Método de Gauss-Jordan, obtendo:\n"
      ],
      "metadata": {
        "id": "k-Q3Cg4nzJKP"
      }
    },
    {
      "cell_type": "code",
      "source": [
        "def gauss_jordan(A, b):\n",
        "    ## n é a ordem da matriz A\n",
        "    n = len(A)\n",
        "    ## Para cada etapa k\n",
        "    for k in range(0, n):\n",
        "\n",
        "      ##Transformar o pivô em 1:\n",
        "      for j in range(k+1,n):\n",
        "        A[k][j] = A[k][j]/A[k][k]\n",
        "      b[k]= b[k]/A[k][k]\n",
        "      A[k][k] = 1\n",
        "\n",
        "      ## Para cada linha i\n",
        "      for i in range(0,n):\n",
        "        if i != k:\n",
        "          ## Calcula o fator m\n",
        "          m = -A[i][k]/A[k][k]\n",
        "          ## Atualiza a linha i da matriz, percorrendo todas as colunas j\n",
        "          for j in range(k+1,n):\n",
        "            A[i][j] = m*A[k][j] + A[i][j]\n",
        "          # Atualiza o vetor b na linha i\n",
        "          b[i] = m*b[k] + b[i]\n",
        "          ## Zera o elemento Aik\n",
        "          A[i][k] = 0\n",
        "\n",
        "    return b"
      ],
      "metadata": {
        "id": "EnazinsBy094"
      },
      "execution_count": null,
      "outputs": []
    },
    {
      "cell_type": "code",
      "source": [
        "A = [[1, 1, 1],\n",
        "     [0, 1, 2],\n",
        "     [2, 1, 1]]\n",
        "b = [12, 10, 16]\n",
        "x = gauss_jordan(A,b)\n",
        "print(x)"
      ],
      "metadata": {
        "colab": {
          "base_uri": "https://localhost:8080/"
        },
        "id": "W-dLSZGqzhqp",
        "outputId": "7ae4981f-1d8e-44f1-ed20-c27ea65e3248"
      },
      "execution_count": null,
      "outputs": [
        {
          "output_type": "stream",
          "name": "stdout",
          "text": [
            "[4.0, 6.0, 2.0]\n"
          ]
        }
      ]
    },
    {
      "cell_type": "markdown",
      "source": [
        "Portanto, precisamos de 4 caminhões do tipo A, 6 caminhões do tipo B e 2 caminhões do tipo C."
      ],
      "metadata": {
        "id": "ACTb6_Z1zh0I"
      }
    },
    {
      "cell_type": "markdown",
      "source": [
        "# Questão 3"
      ],
      "metadata": {
        "id": "yEqlBk2mznXv"
      }
    },
    {
      "cell_type": "markdown",
      "source": [
        "**Item a**"
      ],
      "metadata": {
        "id": "VhmhgtZRz7EX"
      }
    },
    {
      "cell_type": "markdown",
      "source": [
        "Pelas equações lineares:"
      ],
      "metadata": {
        "id": "M1b7_zJK0AEA"
      }
    },
    {
      "cell_type": "markdown",
      "source": [
        "i1 + i2 + i3 = 0"
      ],
      "metadata": {
        "id": "grmZMZVj0AGW"
      }
    },
    {
      "cell_type": "markdown",
      "source": [
        "10i1 - 8i2 = 65"
      ],
      "metadata": {
        "id": "TTt6KMth0AIx"
      }
    },
    {
      "cell_type": "markdown",
      "source": [
        "8i1 - 3i3 = 120"
      ],
      "metadata": {
        "id": "DbFtrhp80GXI"
      }
    },
    {
      "cell_type": "markdown",
      "source": [
        "Pelo mesmo motivo da questão 2, utilizamos o método de Gauss-Jordan:"
      ],
      "metadata": {
        "id": "fehdtaxy0GeF"
      }
    },
    {
      "cell_type": "code",
      "source": [
        "B = [[1, 1, 1],\n",
        "     [10, -8, 0],\n",
        "     [8, 0, -3]]\n",
        "c = [0, 65, 120]\n",
        "y = gauss_jordan(B,c)\n",
        "print(y)"
      ],
      "metadata": {
        "colab": {
          "base_uri": "https://localhost:8080/"
        },
        "id": "ftl3eob_0QFP",
        "outputId": "627e1d0c-6139-437a-f9ec-663bfa0c30c6"
      },
      "execution_count": null,
      "outputs": [
        {
          "output_type": "stream",
          "name": "stdout",
          "text": [
            "[9.788135593220339, 4.110169491525424, -13.898305084745763]\n"
          ]
        }
      ]
    },
    {
      "cell_type": "markdown",
      "source": [
        "Portanto, temos que i1 = 9.788135593220339, i2 = 4.110169491525424 e i3 = -13.898305084745763"
      ],
      "metadata": {
        "id": "qUaaJ-_d0ZgA"
      }
    },
    {
      "cell_type": "markdown",
      "source": [
        "**Item b**"
      ],
      "metadata": {
        "id": "VNAkVnHA0dVv"
      }
    },
    {
      "cell_type": "markdown",
      "source": [
        "Utilizamos o código a seguir:"
      ],
      "metadata": {
        "id": "6YJEPzL70kwX"
      }
    },
    {
      "cell_type": "code",
      "source": [
        "def determinante(A):\n",
        "  # A é uma matriz quadrada \n",
        "  det = 0\n",
        "  n = len(A)\n",
        "  A = A.astype(np.float64) # Definindo o tipo dos dados como ponto flutuante, para ser possível operar sobre um vetor inteiro de uma só vez\n",
        "  if n == 2:\n",
        "    det = A[0][0]*A[1][1] - A[0][1]*A[1][0]\n",
        "    # Fórmula para o cálculo do determinante de uma matriz quadrada de ordem 2\n",
        "  else:\n",
        "    for i in range(n):\n",
        "      B = np.copy(A)\n",
        "      B = np.delete(B, 0, 0)\n",
        "      B = np.delete(B, i, 1)\n",
        "      det += ((-1)**i)*A[0][i]*determinante(B)\n",
        "      # Cálculo do determinante através do teorema de laplace recursivamente\n",
        "  return det"
      ],
      "metadata": {
        "id": "UoUCjtb60e7_"
      },
      "execution_count": null,
      "outputs": []
    },
    {
      "cell_type": "markdown",
      "source": [
        "Para calcular o determinante da matriz de coeficientes (B)"
      ],
      "metadata": {
        "id": "mwj1BR460qug"
      }
    },
    {
      "cell_type": "code",
      "source": [
        "B = np.array([[1, 1, 1],\n",
        "     [10, -8, 0],\n",
        "     [8, 0, -3]])\n",
        "determinante(B)"
      ],
      "metadata": {
        "colab": {
          "base_uri": "https://localhost:8080/"
        },
        "id": "u__uR4p80vd2",
        "outputId": "b7b6294e-3a18-4e45-f1ad-703139ffbf7d"
      },
      "execution_count": null,
      "outputs": [
        {
          "output_type": "execute_result",
          "data": {
            "text/plain": [
              "118.0"
            ]
          },
          "metadata": {},
          "execution_count": 15
        }
      ]
    },
    {
      "cell_type": "markdown",
      "source": [
        "Como o determinante deu diferente de 0, significa que a matriz B possui inversa"
      ],
      "metadata": {
        "id": "kc9xm9BY2sOP"
      }
    },
    {
      "cell_type": "markdown",
      "source": [
        "**Item c**"
      ],
      "metadata": {
        "id": "UP5LUc3s2tcA"
      }
    },
    {
      "cell_type": "markdown",
      "source": [
        "Utilizamos mesmo código da primeira questão para encontrar a matriz inversa de B\n",
        "\n",
        "> Bloco com recuo\n",
        "\n"
      ],
      "metadata": {
        "id": "kDVh-PUD3FOB"
      }
    },
    {
      "cell_type": "code",
      "source": [
        "#Input de dados da matriz\n",
        "ordem=int(input('Ordem da Matriz: '))\n",
        "matriz=np.zeros((ordem, ordem), dtype='float')\n",
        "for i in range(ordem):\n",
        "  for j in range(ordem):\n",
        "    print('Coeficiente [', i+1, '][', j+1,']')\n",
        "    c=float(input('Input: ' ))\n",
        "    matriz[i,j] = c\n",
        "print (matriz)"
      ],
      "metadata": {
        "colab": {
          "base_uri": "https://localhost:8080/"
        },
        "id": "inx0L97T-ANj",
        "outputId": "132ff598-0526-4fbe-fd5f-b1130c2e4b3d"
      },
      "execution_count": null,
      "outputs": [
        {
          "output_type": "stream",
          "name": "stdout",
          "text": [
            "Ordem da Matriz: 3\n",
            "Coeficiente [ 1 ][ 1 ]\n",
            "Input: 1\n",
            "Coeficiente [ 1 ][ 2 ]\n",
            "Input: 1\n",
            "Coeficiente [ 1 ][ 3 ]\n",
            "Input: 1\n",
            "Coeficiente [ 2 ][ 1 ]\n",
            "Input: 10\n",
            "Coeficiente [ 2 ][ 2 ]\n",
            "Input: -8\n",
            "Coeficiente [ 2 ][ 3 ]\n",
            "Input: 0\n",
            "Coeficiente [ 3 ][ 1 ]\n",
            "Input: 8\n",
            "Coeficiente [ 3 ][ 2 ]\n",
            "Input: 0\n",
            "Coeficiente [ 3 ][ 3 ]\n",
            "Input: -3\n",
            "[[ 1.  1.  1.]\n",
            " [10. -8.  0.]\n",
            " [ 8.  0. -3.]]\n"
          ]
        }
      ]
    },
    {
      "cell_type": "code",
      "source": [
        "inversa_B = gauss_jordan_inversa(matriz)"
      ],
      "metadata": {
        "id": "E9hD9H2X3amq"
      },
      "execution_count": null,
      "outputs": []
    },
    {
      "cell_type": "code",
      "source": [
        "inversa_B"
      ],
      "metadata": {
        "colab": {
          "base_uri": "https://localhost:8080/"
        },
        "id": "mbjuFBuY3i4P",
        "outputId": "c9a63ffd-5dfd-4929-8c5d-bfd4ea968069"
      },
      "execution_count": null,
      "outputs": [
        {
          "output_type": "execute_result",
          "data": {
            "text/plain": [
              "array([[ 0.20338983,  0.02542373,  0.06779661],\n",
              "       [ 0.25423729, -0.09322034,  0.08474576],\n",
              "       [ 0.54237288,  0.06779661, -0.15254237]])"
            ]
          },
          "metadata": {},
          "execution_count": 18
        }
      ]
    },
    {
      "cell_type": "code",
      "source": [
        "identidade = np.matmul(matriz, inversa_B)"
      ],
      "metadata": {
        "id": "MJlc8lbS3ro9"
      },
      "execution_count": null,
      "outputs": []
    },
    {
      "cell_type": "code",
      "source": [
        "identidade"
      ],
      "metadata": {
        "colab": {
          "base_uri": "https://localhost:8080/"
        },
        "id": "J-_9QaUw3zmO",
        "outputId": "166925fe-f52d-414f-d664-7ab9594fe22d"
      },
      "execution_count": null,
      "outputs": [
        {
          "output_type": "execute_result",
          "data": {
            "text/plain": [
              "array([[ 1.00000000e+00,  0.00000000e+00,  0.00000000e+00],\n",
              "       [ 0.00000000e+00,  1.00000000e+00, -1.11022302e-16],\n",
              "       [-1.11022302e-16, -1.38777878e-17,  1.00000000e+00]])"
            ]
          },
          "metadata": {},
          "execution_count": 20
        }
      ]
    },
    {
      "cell_type": "code",
      "source": [
        "id_limpa = limpa_identidade(identidade)"
      ],
      "metadata": {
        "id": "MbRJI0nJ30c4"
      },
      "execution_count": null,
      "outputs": []
    },
    {
      "cell_type": "code",
      "source": [
        "id_limpa"
      ],
      "metadata": {
        "colab": {
          "base_uri": "https://localhost:8080/"
        },
        "id": "BFrNSdpr38ww",
        "outputId": "fe550a37-9ae8-4b8b-b6ff-8144a1df70b0"
      },
      "execution_count": null,
      "outputs": [
        {
          "output_type": "execute_result",
          "data": {
            "text/plain": [
              "array([[1., 0., 0.],\n",
              "       [0., 1., 0.],\n",
              "       [0., 0., 1.]])"
            ]
          },
          "metadata": {},
          "execution_count": 22
        }
      ]
    },
    {
      "cell_type": "markdown",
      "source": [
        "Como foi possível comprovar, a matriz encontrada realmente corresponde à inversa de B"
      ],
      "metadata": {
        "id": "i-9ehUHn-k_r"
      }
    },
    {
      "cell_type": "markdown",
      "source": [
        "# Questão 4"
      ],
      "metadata": {
        "id": "kpo-Z_Zx-vTw"
      }
    },
    {
      "cell_type": "markdown",
      "source": [
        "Primeiramente, vamos verificar o cumprimento do critério de Sassenfeld"
      ],
      "metadata": {
        "id": "zclUX3oo-z2Z"
      }
    },
    {
      "cell_type": "code",
      "source": [
        "def sassenfeld(A):\n",
        "  A = A.astype(np.float64)\n",
        "  A = abs(A)\n",
        "  n = len(A)\n",
        "  B = np.ones(n)\n",
        "  for i in range(n):\n",
        "    B[i] = (np.dot(A[i], B) - A[i][i]*B[i])/A[i][i]\n",
        "  beta = max(B)\n",
        "  if beta < 1:\n",
        "    print('Critério cumprido')\n",
        "  else:\n",
        "    print('Critério não cumprido')"
      ],
      "metadata": {
        "id": "vWWqOV2t-31T"
      },
      "execution_count": null,
      "outputs": []
    },
    {
      "cell_type": "code",
      "source": [
        "A = np.array([[17,-2,-3],[-5,21,-2],[-5,-5,22]])\n",
        "sassenfeld(A)"
      ],
      "metadata": {
        "colab": {
          "base_uri": "https://localhost:8080/"
        },
        "id": "wxxFNxGa39lg",
        "outputId": "ab2c0ee0-ee27-4b9c-d740-07f96ca939d0"
      },
      "execution_count": null,
      "outputs": [
        {
          "output_type": "stream",
          "name": "stdout",
          "text": [
            "Critério cumprido\n"
          ]
        }
      ]
    },
    {
      "cell_type": "markdown",
      "source": [
        "Uma vez que o critério foi cumprido, temos a garantia de que o método converge. Vamos agora definir o vetor B e utilizar o método de Gauss-Seidel para solucionar o sistema"
      ],
      "metadata": {
        "id": "HyMdens2_MST"
      }
    },
    {
      "cell_type": "code",
      "source": [
        "def gauss_seidel(A, B, erromax, maxiter=50, X=np.array([0,0]), iter=0):\n",
        "  # A é a martiz de coeficientes do sistema, B um vetor com os termos independentes do sistema, erromax é o erro máximo tolerado, maxiter é o maior numero\n",
        "  # de iterações permitido, X é o vetor solução atual e iter é o número de iterações realizadas\n",
        "  A = A.astype(np.float64)\n",
        "  B = B.astype(np.float64)\n",
        "  # Definindo o tipo dos dados como ponto flutuante, para ser possível operar sobre um vetor inteiro de uma só vez\n",
        "  n = len(A)\n",
        "  if X.all() == 0:\n",
        "    X = np.copy(B)\n",
        "  X_antigo = np.copy(X)\n",
        "  for i in range(n):\n",
        "    X[i] = (-np.dot(A[i], X.T) + A[i][i]*X[i] + B[i])/A[i][i]\n",
        "    # Calculando os novos valores de X, utilizando o vetor X já atualizado\n",
        "  erro = max(abs(X_antigo - X))/max(abs(X)) # Calculando o erro obtido\n",
        "  iter+=1\n",
        "  if erro <= erromax or iter == maxiter:\n",
        "    return X, iter # Retorna o vetor X que obteve erro tolerável ou foi obtido após o número máximo de iterações e o número de iterações realizadas\n",
        "  return gauss_seidel(A, B, erromax, maxiter, X, iter) # Chama a própria função recursivamente caso os critérios de parada não tenham sido atingidos"
      ],
      "metadata": {
        "id": "89dq1oHQ_UUb"
      },
      "execution_count": null,
      "outputs": []
    },
    {
      "cell_type": "code",
      "source": [
        "b = np.array([500,200,30])\n",
        "x, iter = gauss_seidel(A, b, 0.0005, X=np.array([34,19,13]))\n",
        "x, iter"
      ],
      "metadata": {
        "colab": {
          "base_uri": "https://localhost:8080/"
        },
        "id": "73xqtDYx-2MF",
        "outputId": "66d8c94b-438f-4ffe-eeb1-d891de69406c"
      },
      "execution_count": null,
      "outputs": [
        {
          "output_type": "execute_result",
          "data": {
            "text/plain": [
              "(array([33, 18, 12]), 2)"
            ]
          },
          "metadata": {},
          "execution_count": 26
        }
      ]
    },
    {
      "cell_type": "markdown",
      "source": [
        "Podemos perceber que o método encontrou tais valores extremamente rápido (com apenas duas iterações). Vamos calcular o resíduo obtido"
      ],
      "metadata": {
        "id": "UwDBE47k_eHq"
      }
    },
    {
      "cell_type": "code",
      "source": [
        "# Função para calcular o resíduo\n",
        "def residuo(A, x, B):\n",
        "  # A é a matriz de coeficientes do sistema, x é o vetor solução obtido por algum dos métodos e B é o vetor de termos independentes dos sistema\n",
        "  return np.matmul(A, x) - B"
      ],
      "metadata": {
        "id": "td3QdcJS_ZRh"
      },
      "execution_count": null,
      "outputs": []
    },
    {
      "cell_type": "code",
      "source": [
        "residuo(A, x, b)"
      ],
      "metadata": {
        "colab": {
          "base_uri": "https://localhost:8080/"
        },
        "id": "cItc4C4w_cvU",
        "outputId": "8cb45dcb-ecf4-4cd2-c1aa-2f8a873750bf"
      },
      "execution_count": null,
      "outputs": [
        {
          "output_type": "execute_result",
          "data": {
            "text/plain": [
              "array([-11, -11, -21])"
            ]
          },
          "metadata": {},
          "execution_count": 28
        }
      ]
    },
    {
      "cell_type": "markdown",
      "source": [
        "Um resíduo extremamente alto! Isso ocorre devido à dois fatores: a aproximação inicial e o modo como o erro é calculado durante o método de Gauss Seidel. Para entendermos melhor isso, vamos utilizar um método direto (neste caso, o de Gauss) para encontrar uma solução mais precisa para o sistema"
      ],
      "metadata": {
        "id": "0xLSgnBH_owi"
      }
    },
    {
      "cell_type": "code",
      "source": [
        "def sol_triang_inf(A, B):\n",
        "  # A é uma matriz triangular inferior e B um vetor com os termos independentes do sistema\n",
        "  n = len(B)\n",
        "  X = []\n",
        "  for line in range(n):\n",
        "    b = B[line]\n",
        "    for column in range(line):\n",
        "      b -= A[line][column]*X[column]\n",
        "    x = b/A[line][line]\n",
        "    # Obtemos os valores de X por substiruições recursivas\n",
        "    X.append(x)\n",
        "  return np.array(X)\n",
        "  # Retornamos o vetor X"
      ],
      "metadata": {
        "id": "y6DCJJAcA3O1"
      },
      "execution_count": null,
      "outputs": []
    },
    {
      "cell_type": "code",
      "source": [
        "# Função para transformar uma matriz triangular superior em uma triangular inferior\n",
        "def inverte_matriz(A):\n",
        "  # A é uma matriz triangular superior\n",
        "  new_A = []\n",
        "  for array in A[::-1]: # Inverte a ordem das linhas de A\n",
        "    new_A.append(array[::-1]) # Inverte a ordem dos elementos de cada linha de A\n",
        "  return np.array(new_A)"
      ],
      "metadata": {
        "id": "PxxwW9qiA4Ux"
      },
      "execution_count": null,
      "outputs": []
    },
    {
      "cell_type": "code",
      "source": [
        "def sol_triang_sup(A,B):\n",
        "  # A é uma matriz triangular superior e B um vetor com os termos independentes do sistema\n",
        "  A = inverte_matriz(A) # Transforma A em uma matriz triangular inferior\n",
        "  B = B[::-1] # Inverte o vetor B\n",
        "  return sol_triang_inf(A,B)[::-1] # Soluciona o sistema obtido e inverte os valores de X obtidos"
      ],
      "metadata": {
        "id": "PCFWFg8vA4XQ"
      },
      "execution_count": null,
      "outputs": []
    },
    {
      "cell_type": "code",
      "source": [
        "def gauss(A, b):\n",
        "  # A é a matriz de coeficientes do sistema, b um vetor com os termos independentes do sistema, pivotar é uma variável que indica se deve ou não se utilizada\n",
        "  # a estratégia de pivoteamento simples e returnL indica se devem ser retornadas as matrizes L e U para o método LU\n",
        "  n = len(A)\n",
        "  A = A.astype(np.float64) \n",
        "  b = b.astype(np.float64)\n",
        "  # Definindo o tipo dos dados como ponto flutuante, para ser possível operar sobre um vetor inteiro de uma só vez\n",
        "  B = np.copy(b) # Criando uma cópia do vetor B para não alterar o original\n",
        "  for j in range(n-1): # Itera sobre as colunas de A, exceto a última\n",
        "    for i in range(j+1,n): # Itera sobre as linhas de A a partir de j+1\n",
        "      fator = A[i][j]/A[j][j]\n",
        "      B[i] = B[i] - B[j]*fator # Onde B[i] e B[j] são reais\n",
        "      A[i] = A[i] - A[j]*fator # Onde A[i] e A[j] são vetores\n",
        "  return sol_triang_sup(A, B) # Retorna a solução do sistema se returnL = False"
      ],
      "metadata": {
        "id": "b0Rk2ldQAM9D"
      },
      "execution_count": null,
      "outputs": []
    },
    {
      "cell_type": "code",
      "source": [
        "x = gauss(A, b)\n",
        "x"
      ],
      "metadata": {
        "colab": {
          "base_uri": "https://localhost:8080/"
        },
        "id": "hluk4mWl_mJN",
        "outputId": "6f4b75d8-c361-4a8b-a37f-2db5455747f8"
      },
      "execution_count": null,
      "outputs": [
        {
          "output_type": "execute_result",
          "data": {
            "text/plain": [
              "array([33.99631415, 18.89282676, 13.38389566])"
            ]
          },
          "metadata": {},
          "execution_count": 33
        }
      ]
    },
    {
      "cell_type": "code",
      "source": [
        "residuo(A, x, b)"
      ],
      "metadata": {
        "colab": {
          "base_uri": "https://localhost:8080/"
        },
        "id": "DumtAPNo_3XQ",
        "outputId": "50d8f359-42aa-4b8c-fe1d-a948af864545"
      },
      "execution_count": null,
      "outputs": [
        {
          "output_type": "execute_result",
          "data": {
            "text/plain": [
              "array([0.00000000e+00, 2.84217094e-14, 0.00000000e+00])"
            ]
          },
          "metadata": {},
          "execution_count": 34
        }
      ]
    },
    {
      "cell_type": "markdown",
      "source": [
        "Como podemos observar, obtemos valores com resíduos basicamente nulos dessa vez, mostrando que esses provavelmente são os resultados reais. Analisando mais profundamente, percebemos que os resultados obtidos são extremamente próximos à estimativa inicial fornecida ao método de Gauss Seidel, e é exatamente por isso que o resíduo obtido foi alto. O cálculo do erro pelo método de Gauss Seidel é realizado com base na diferença entre a estimativa atual e a anterior, o que faz sentido, tendo em vista que o método converge para um valor. Contudo, uma vez que fornecemos uma estimativa inicial próxima ao resultado desejado, a variação entre esta e a próxima será muito baixa, de modo que, mesmo que o resultado distancie do desejado, o erro será pequeno, fazendo com que o resíduo cresça"
      ],
      "metadata": {
        "id": "W5W78qe8BRPD"
      }
    },
    {
      "cell_type": "markdown",
      "source": [
        "Para verificarmos isso mais claramente, vamos utilizar o método de Gauss Seidel, mas com nossa estimativa inicial padrão (x=B)"
      ],
      "metadata": {
        "id": "jdE8JmJbBUoj"
      }
    },
    {
      "cell_type": "code",
      "source": [
        "x, iter = gauss_seidel(A, b, 0.0005)\n",
        "x, iter"
      ],
      "metadata": {
        "colab": {
          "base_uri": "https://localhost:8080/"
        },
        "id": "g7Ne8xjaBQP2",
        "outputId": "5c9d0fac-5404-4e8f-99c8-dfa58445cbf8"
      },
      "execution_count": null,
      "outputs": [
        {
          "output_type": "execute_result",
          "data": {
            "text/plain": [
              "(array([33.99678773, 18.89306799, 13.38405812]), 6)"
            ]
          },
          "metadata": {},
          "execution_count": 35
        }
      ]
    },
    {
      "cell_type": "code",
      "source": [
        "residuo(A, x, b)"
      ],
      "metadata": {
        "colab": {
          "base_uri": "https://localhost:8080/"
        },
        "id": "d7jQS6AvBYDr",
        "outputId": "b8ab7f66-7892-485b-cdb4-b8e61696c4d5"
      },
      "execution_count": null,
      "outputs": [
        {
          "output_type": "execute_result",
          "data": {
            "text/plain": [
              "array([ 7.08106939e-03,  2.37285429e-03, -4.26325641e-14])"
            ]
          },
          "metadata": {},
          "execution_count": 36
        }
      ]
    },
    {
      "cell_type": "markdown",
      "source": [
        "Como podemos perceber, o método iterou mais vezes e os resíduos obtidos foram extremamente menores (apesar de alguns ainda estarem superiores ao desejado)"
      ],
      "metadata": {
        "id": "ScwKLL9GBbLi"
      }
    },
    {
      "cell_type": "code",
      "source": [
        ""
      ],
      "metadata": {
        "id": "mwyzSv0ABZsv"
      },
      "execution_count": null,
      "outputs": []
    }
  ]
}