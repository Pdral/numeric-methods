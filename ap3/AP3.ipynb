{
  "nbformat": 4,
  "nbformat_minor": 0,
  "metadata": {
    "colab": {
      "name": "AP3.ipynb",
      "provenance": [],
      "collapsed_sections": []
    },
    "kernelspec": {
      "name": "python3",
      "display_name": "Python 3"
    },
    "language_info": {
      "name": "python"
    }
  },
  "cells": [
    {
      "cell_type": "code",
      "source": [
        "import numpy as np\n",
        "import matplotlib.pyplot as plt\n",
        "import pandas as pd\n",
        "import math"
      ],
      "metadata": {
        "id": "5UnQeW9ZLpW4"
      },
      "execution_count": 1,
      "outputs": []
    },
    {
      "cell_type": "markdown",
      "source": [
        "**QUESTÃO 1**"
      ],
      "metadata": {
        "id": "B127-qruLh76"
      }
    },
    {
      "cell_type": "markdown",
      "source": [
        "Definimos o código abaixo para obter as matrizes dos sistema linear que deverá ser solucionado para obtermos os coeficientes de cada polinômio"
      ],
      "metadata": {
        "id": "eyidyVQWLynx"
      }
    },
    {
      "cell_type": "code",
      "execution_count": 2,
      "metadata": {
        "id": "gWJNmlejKOwy"
      },
      "outputs": [],
      "source": [
        "# Função para criar as matrizes do sistema linear obtido \n",
        "def spline_cubica(x, fx):\n",
        "  n = len(x)\n",
        "  ordem_matriz = 4*n-4\n",
        "  A = np.zeros((ordem_matriz, ordem_matriz))\n",
        "  B = np.zeros(ordem_matriz)\n",
        "\n",
        "  # Condições de continuidade nos nós internos\n",
        "  for i in range(n-2):\n",
        "    coluna = 4*i\n",
        "    linha = 2*i\n",
        "    A[linha][coluna] = x[i+1]**3\n",
        "    A[linha][coluna+1] = x[i+1]**2\n",
        "    A[linha][coluna+2] = x[i+1]\n",
        "    A[linha][coluna+3] = 1\n",
        "    B[linha] = fx[i+1]\n",
        "    A[linha+1][coluna+4] = x[i+1]**3\n",
        "    A[linha+1][coluna+5] = x[i+1]**2\n",
        "    A[linha+1][coluna+6] = x[i+1]\n",
        "    A[linha+1][coluna+7] = 1\n",
        "    B[linha+1] = fx[i+1]\n",
        "\n",
        "  # Condições de continuidade nos nós externos\n",
        "  A[2*n-4][0] = x[0]**3\n",
        "  A[2*n-4][1] = x[0]**2\n",
        "  A[2*n-4][2] = x[0]\n",
        "  A[2*n-4][3] = 1\n",
        "  B[2*n-4] = fx[0]\n",
        "  A[2*n-3][ordem_matriz-4] = x[n-1]**3\n",
        "  A[2*n-3][ordem_matriz-3] = x[n-1]**2\n",
        "  A[2*n-3][ordem_matriz-2] = x[n-1]\n",
        "  A[2*n-3][ordem_matriz-1] = 1\n",
        "  B[2*n-3] = fx[n-1]\n",
        "\n",
        "  # Continuidade das primeiras derivadas nos nós internos \n",
        "  j = 0\n",
        "  for i in range(2*n-2, 3*n-4):\n",
        "    A[i][j] = 3*x[(j//4)+1]**2\n",
        "    A[i][j+1] = 2*x[(j//4)+1]\n",
        "    A[i][j+2] = 1\n",
        "    A[i][j+4] = -3*x[(j//4)+1]**2\n",
        "    A[i][j+5] = -2*x[(j//4)+1]\n",
        "    A[i][j+6] = -1\n",
        "    j += 4\n",
        "\n",
        "  # Continuidade das primeiras derivadas nos nós internos \n",
        "  j = 0\n",
        "  for i in range(3*n-4, 4*n-6):\n",
        "    A[i][j] = 6*x[(j//4)+1]\n",
        "    A[i][j+1] = 2\n",
        "    A[i][j+4] = -6*x[(j//4)+1]\n",
        "    A[i][j+5] = -2\n",
        "    j += 4\n",
        "\n",
        "  # Segundas derivadas nos nós extremos\n",
        "  A[4*n-6][0] = 6*x[0]\n",
        "  A[4*n-6][1] = 2\n",
        "  A[4*n-5][ordem_matriz-4] = 6*x[n-1]\n",
        "  A[4*n-5][ordem_matriz-3] = 2\n",
        "  return A, B"
      ]
    },
    {
      "cell_type": "markdown",
      "source": [
        "Em seguida, definimos o método de Gauss para solucionar tal sistema, bem como uma função para solucionar o sistema equivalente obtido e uma função para realizar o pivoteamento"
      ],
      "metadata": {
        "id": "JSWXnlFvL-oA"
      }
    },
    {
      "cell_type": "code",
      "source": [
        "# Função para solucionar um sistema em que a matriz de coeficientes é triangular superior\n",
        "def sol_triang_sup(A, B):\n",
        "  # A é uma matriz triangular inferior e B um vetor com os termos independentes do sistema\n",
        "  n = len(B)\n",
        "  X = np.zeros(n)\n",
        "  for line in range(n-1,-1,-1):\n",
        "    b = B[line]\n",
        "    for column in range(n-1,line, -1):\n",
        "      b -= A[line][column]*X[column]\n",
        "    x = b/A[line][line]\n",
        "    # Obtemos os valores de X por substiruições recursivas\n",
        "    X[line] = x\n",
        "  return X\n",
        "  # Retornamos o vetor X"
      ],
      "metadata": {
        "id": "xKU5Yc_3MSK8"
      },
      "execution_count": 3,
      "outputs": []
    },
    {
      "cell_type": "code",
      "source": [
        "# Função para pivotar duas linhas da matriz\n",
        "def pivot(A, B, n):\n",
        "  # A é a martiz de coeficientes do sistema, B um vetor com os termos independentes do sistema e n a coluna à qual será aplicado o pivoteamento\n",
        "  index_pivo = abs(A[n:,n]).argsort()[-1] + n\n",
        "  # Encontra a linha do elemento de maior módulo da coluna n buscando a partir da linha n\n",
        "  aux = np.copy(A[n])\n",
        "  A[n] = A[index_pivo]\n",
        "  A[index_pivo] = aux\n",
        "  # Troca a linha n e a linha com o novo pivô\n",
        "  aux = B[n]\n",
        "  B[n] = B[index_pivo]\n",
        "  B[index_pivo] = aux\n",
        "  # Aplica a mesma troca ao vetor B\n",
        "  return A, B # Retorna a matriz A e o vetor B modificados"
      ],
      "metadata": {
        "id": "B3bRE2JFL96e"
      },
      "execution_count": 4,
      "outputs": []
    },
    {
      "cell_type": "code",
      "source": [
        "# Método de eliminação de Gauss\n",
        "def gauss(A, b, pivotar=False):\n",
        "  # A é a matriz de coeficientes do sistema, b um vetor com os termos independentes do sistema, pivotar é uma variável que indica se deve ou não se utilizada\n",
        "  # a estratégia de pivoteamento simples e returnL indica se devem ser retornadas as matrizes L e U para o método LU\n",
        "  n = len(A)\n",
        "  A = A.astype(np.float64) \n",
        "  b = b.astype(np.float64)\n",
        "  # Definindo o tipo dos dados como ponto flutuante, para ser possível operar sobre um vetor inteiro de uma só vez\n",
        "  B = np.copy(b) # Criando uma cópia do vetor B para não alterar o original\n",
        "  for j in range(n-1): # Itera sobre as colunas de A, exceto a última\n",
        "    if pivotar:\n",
        "      A, B = pivot(A, B, j)\n",
        "    for i in range(j+1,n): # Itera sobre as linhas de A a partir de j+1\n",
        "      fator = A[i][j]/A[j][j]\n",
        "      B[i] = B[i] - B[j]*fator # Onde B[i] e B[j] são reais\n",
        "      A[i] = A[i] - A[j]*fator # Onde A[i] e A[j] são vetores\n",
        "  return sol_triang_sup(A, B) # Retorna a solução do sistema se returnL = False"
      ],
      "metadata": {
        "id": "xU864wQ9MVuX"
      },
      "execution_count": 5,
      "outputs": []
    },
    {
      "cell_type": "markdown",
      "source": [
        "Finalmente, definimos uma função para plotar o gráfico das nossas splines"
      ],
      "metadata": {
        "id": "HeIF7AZGMYAY"
      }
    },
    {
      "cell_type": "code",
      "source": [
        "# Função para plotar o gráfico com as splines cúbicas\n",
        "def plota_spline_cubica(coefic, x):\n",
        "  n = len(x)\n",
        "  for i in range(n-1):\n",
        "    if i == 0:\n",
        "      X = np.linspace(x[i],x[i+1],100)\n",
        "      y = coefic[0]*(X**3) + coefic[1]*(X**2) + coefic[2]*X + coefic[3]\n",
        "    else:\n",
        "      new_X = np.linspace(x[i],x[i+1],100)\n",
        "      X = np.concatenate((X, new_X))\n",
        "      vec = coefic[4*i]*(new_X**3) + coefic[4*i + 1]*(new_X**2) + coefic[4*i + 2]*new_X + coefic[4*i + 3]\n",
        "      y = np.concatenate((y, vec))\n",
        "  plt.grid()\n",
        "  plt.plot(X, y)"
      ],
      "metadata": {
        "id": "o85T5AJiMXtZ"
      },
      "execution_count": 6,
      "outputs": []
    },
    {
      "cell_type": "markdown",
      "source": [
        "Assim, vamos criar as matrizes utilizando os dados do enunciado, onde x = vel (km/h) e f(x) = distância (m)"
      ],
      "metadata": {
        "id": "d002pXAlMglm"
      }
    },
    {
      "cell_type": "code",
      "source": [
        "x1 = np.array([15,20,25,30,40,50])\n",
        "fx1 = np.array([16,20,34,40,60,90])"
      ],
      "metadata": {
        "id": "Sgf2PSYbNkvr"
      },
      "execution_count": 12,
      "outputs": []
    },
    {
      "cell_type": "code",
      "source": [
        "A1, B1 = spline_cubica(x1, fx1)\n",
        "A1"
      ],
      "metadata": {
        "colab": {
          "base_uri": "https://localhost:8080/"
        },
        "id": "qQIZnjSXMW9P",
        "outputId": "df3cb1f0-b19c-4d47-b286-607dbb68c1e3"
      },
      "execution_count": 13,
      "outputs": [
        {
          "output_type": "execute_result",
          "data": {
            "text/plain": [
              "array([[ 8.0000e+03,  4.0000e+02,  2.0000e+01,  1.0000e+00,  0.0000e+00,\n",
              "         0.0000e+00,  0.0000e+00,  0.0000e+00,  0.0000e+00,  0.0000e+00,\n",
              "         0.0000e+00,  0.0000e+00,  0.0000e+00,  0.0000e+00,  0.0000e+00,\n",
              "         0.0000e+00,  0.0000e+00,  0.0000e+00,  0.0000e+00,  0.0000e+00],\n",
              "       [ 0.0000e+00,  0.0000e+00,  0.0000e+00,  0.0000e+00,  8.0000e+03,\n",
              "         4.0000e+02,  2.0000e+01,  1.0000e+00,  0.0000e+00,  0.0000e+00,\n",
              "         0.0000e+00,  0.0000e+00,  0.0000e+00,  0.0000e+00,  0.0000e+00,\n",
              "         0.0000e+00,  0.0000e+00,  0.0000e+00,  0.0000e+00,  0.0000e+00],\n",
              "       [ 0.0000e+00,  0.0000e+00,  0.0000e+00,  0.0000e+00,  1.5625e+04,\n",
              "         6.2500e+02,  2.5000e+01,  1.0000e+00,  0.0000e+00,  0.0000e+00,\n",
              "         0.0000e+00,  0.0000e+00,  0.0000e+00,  0.0000e+00,  0.0000e+00,\n",
              "         0.0000e+00,  0.0000e+00,  0.0000e+00,  0.0000e+00,  0.0000e+00],\n",
              "       [ 0.0000e+00,  0.0000e+00,  0.0000e+00,  0.0000e+00,  0.0000e+00,\n",
              "         0.0000e+00,  0.0000e+00,  0.0000e+00,  1.5625e+04,  6.2500e+02,\n",
              "         2.5000e+01,  1.0000e+00,  0.0000e+00,  0.0000e+00,  0.0000e+00,\n",
              "         0.0000e+00,  0.0000e+00,  0.0000e+00,  0.0000e+00,  0.0000e+00],\n",
              "       [ 0.0000e+00,  0.0000e+00,  0.0000e+00,  0.0000e+00,  0.0000e+00,\n",
              "         0.0000e+00,  0.0000e+00,  0.0000e+00,  2.7000e+04,  9.0000e+02,\n",
              "         3.0000e+01,  1.0000e+00,  0.0000e+00,  0.0000e+00,  0.0000e+00,\n",
              "         0.0000e+00,  0.0000e+00,  0.0000e+00,  0.0000e+00,  0.0000e+00],\n",
              "       [ 0.0000e+00,  0.0000e+00,  0.0000e+00,  0.0000e+00,  0.0000e+00,\n",
              "         0.0000e+00,  0.0000e+00,  0.0000e+00,  0.0000e+00,  0.0000e+00,\n",
              "         0.0000e+00,  0.0000e+00,  2.7000e+04,  9.0000e+02,  3.0000e+01,\n",
              "         1.0000e+00,  0.0000e+00,  0.0000e+00,  0.0000e+00,  0.0000e+00],\n",
              "       [ 0.0000e+00,  0.0000e+00,  0.0000e+00,  0.0000e+00,  0.0000e+00,\n",
              "         0.0000e+00,  0.0000e+00,  0.0000e+00,  0.0000e+00,  0.0000e+00,\n",
              "         0.0000e+00,  0.0000e+00,  6.4000e+04,  1.6000e+03,  4.0000e+01,\n",
              "         1.0000e+00,  0.0000e+00,  0.0000e+00,  0.0000e+00,  0.0000e+00],\n",
              "       [ 0.0000e+00,  0.0000e+00,  0.0000e+00,  0.0000e+00,  0.0000e+00,\n",
              "         0.0000e+00,  0.0000e+00,  0.0000e+00,  0.0000e+00,  0.0000e+00,\n",
              "         0.0000e+00,  0.0000e+00,  0.0000e+00,  0.0000e+00,  0.0000e+00,\n",
              "         0.0000e+00,  6.4000e+04,  1.6000e+03,  4.0000e+01,  1.0000e+00],\n",
              "       [ 3.3750e+03,  2.2500e+02,  1.5000e+01,  1.0000e+00,  0.0000e+00,\n",
              "         0.0000e+00,  0.0000e+00,  0.0000e+00,  0.0000e+00,  0.0000e+00,\n",
              "         0.0000e+00,  0.0000e+00,  0.0000e+00,  0.0000e+00,  0.0000e+00,\n",
              "         0.0000e+00,  0.0000e+00,  0.0000e+00,  0.0000e+00,  0.0000e+00],\n",
              "       [ 0.0000e+00,  0.0000e+00,  0.0000e+00,  0.0000e+00,  0.0000e+00,\n",
              "         0.0000e+00,  0.0000e+00,  0.0000e+00,  0.0000e+00,  0.0000e+00,\n",
              "         0.0000e+00,  0.0000e+00,  0.0000e+00,  0.0000e+00,  0.0000e+00,\n",
              "         0.0000e+00,  1.2500e+05,  2.5000e+03,  5.0000e+01,  1.0000e+00],\n",
              "       [ 1.2000e+03,  4.0000e+01,  1.0000e+00,  0.0000e+00, -1.2000e+03,\n",
              "        -4.0000e+01, -1.0000e+00,  0.0000e+00,  0.0000e+00,  0.0000e+00,\n",
              "         0.0000e+00,  0.0000e+00,  0.0000e+00,  0.0000e+00,  0.0000e+00,\n",
              "         0.0000e+00,  0.0000e+00,  0.0000e+00,  0.0000e+00,  0.0000e+00],\n",
              "       [ 0.0000e+00,  0.0000e+00,  0.0000e+00,  0.0000e+00,  1.8750e+03,\n",
              "         5.0000e+01,  1.0000e+00,  0.0000e+00, -1.8750e+03, -5.0000e+01,\n",
              "        -1.0000e+00,  0.0000e+00,  0.0000e+00,  0.0000e+00,  0.0000e+00,\n",
              "         0.0000e+00,  0.0000e+00,  0.0000e+00,  0.0000e+00,  0.0000e+00],\n",
              "       [ 0.0000e+00,  0.0000e+00,  0.0000e+00,  0.0000e+00,  0.0000e+00,\n",
              "         0.0000e+00,  0.0000e+00,  0.0000e+00,  2.7000e+03,  6.0000e+01,\n",
              "         1.0000e+00,  0.0000e+00, -2.7000e+03, -6.0000e+01, -1.0000e+00,\n",
              "         0.0000e+00,  0.0000e+00,  0.0000e+00,  0.0000e+00,  0.0000e+00],\n",
              "       [ 0.0000e+00,  0.0000e+00,  0.0000e+00,  0.0000e+00,  0.0000e+00,\n",
              "         0.0000e+00,  0.0000e+00,  0.0000e+00,  0.0000e+00,  0.0000e+00,\n",
              "         0.0000e+00,  0.0000e+00,  4.8000e+03,  8.0000e+01,  1.0000e+00,\n",
              "         0.0000e+00, -4.8000e+03, -8.0000e+01, -1.0000e+00,  0.0000e+00],\n",
              "       [ 1.2000e+02,  2.0000e+00,  0.0000e+00,  0.0000e+00, -1.2000e+02,\n",
              "        -2.0000e+00,  0.0000e+00,  0.0000e+00,  0.0000e+00,  0.0000e+00,\n",
              "         0.0000e+00,  0.0000e+00,  0.0000e+00,  0.0000e+00,  0.0000e+00,\n",
              "         0.0000e+00,  0.0000e+00,  0.0000e+00,  0.0000e+00,  0.0000e+00],\n",
              "       [ 0.0000e+00,  0.0000e+00,  0.0000e+00,  0.0000e+00,  1.5000e+02,\n",
              "         2.0000e+00,  0.0000e+00,  0.0000e+00, -1.5000e+02, -2.0000e+00,\n",
              "         0.0000e+00,  0.0000e+00,  0.0000e+00,  0.0000e+00,  0.0000e+00,\n",
              "         0.0000e+00,  0.0000e+00,  0.0000e+00,  0.0000e+00,  0.0000e+00],\n",
              "       [ 0.0000e+00,  0.0000e+00,  0.0000e+00,  0.0000e+00,  0.0000e+00,\n",
              "         0.0000e+00,  0.0000e+00,  0.0000e+00,  1.8000e+02,  2.0000e+00,\n",
              "         0.0000e+00,  0.0000e+00, -1.8000e+02, -2.0000e+00,  0.0000e+00,\n",
              "         0.0000e+00,  0.0000e+00,  0.0000e+00,  0.0000e+00,  0.0000e+00],\n",
              "       [ 0.0000e+00,  0.0000e+00,  0.0000e+00,  0.0000e+00,  0.0000e+00,\n",
              "         0.0000e+00,  0.0000e+00,  0.0000e+00,  0.0000e+00,  0.0000e+00,\n",
              "         0.0000e+00,  0.0000e+00,  2.4000e+02,  2.0000e+00,  0.0000e+00,\n",
              "         0.0000e+00, -2.4000e+02, -2.0000e+00,  0.0000e+00,  0.0000e+00],\n",
              "       [ 9.0000e+01,  2.0000e+00,  0.0000e+00,  0.0000e+00,  0.0000e+00,\n",
              "         0.0000e+00,  0.0000e+00,  0.0000e+00,  0.0000e+00,  0.0000e+00,\n",
              "         0.0000e+00,  0.0000e+00,  0.0000e+00,  0.0000e+00,  0.0000e+00,\n",
              "         0.0000e+00,  0.0000e+00,  0.0000e+00,  0.0000e+00,  0.0000e+00],\n",
              "       [ 0.0000e+00,  0.0000e+00,  0.0000e+00,  0.0000e+00,  0.0000e+00,\n",
              "         0.0000e+00,  0.0000e+00,  0.0000e+00,  0.0000e+00,  0.0000e+00,\n",
              "         0.0000e+00,  0.0000e+00,  0.0000e+00,  0.0000e+00,  0.0000e+00,\n",
              "         0.0000e+00,  3.0000e+02,  2.0000e+00,  0.0000e+00,  0.0000e+00]])"
            ]
          },
          "metadata": {},
          "execution_count": 13
        }
      ]
    },
    {
      "cell_type": "code",
      "source": [
        "B1"
      ],
      "metadata": {
        "colab": {
          "base_uri": "https://localhost:8080/"
        },
        "id": "sJRz9zxPNEFM",
        "outputId": "ca67a8fc-bb65-44c1-c456-094bfc24fb88"
      },
      "execution_count": 14,
      "outputs": [
        {
          "output_type": "execute_result",
          "data": {
            "text/plain": [
              "array([20., 20., 34., 34., 40., 40., 60., 60., 16., 90.,  0.,  0.,  0.,\n",
              "        0.,  0.,  0.,  0.,  0.,  0.,  0.])"
            ]
          },
          "metadata": {},
          "execution_count": 14
        }
      ]
    },
    {
      "cell_type": "markdown",
      "source": [
        "Em seguida, utilizamos o método da eliminação de Gauss para solucionar o sistema"
      ],
      "metadata": {
        "id": "0G1LIfNENHuL"
      }
    },
    {
      "cell_type": "code",
      "source": [
        "coefic1 = gauss(A1, B1, True)\n",
        "coefic1"
      ],
      "metadata": {
        "colab": {
          "base_uri": "https://localhost:8080/"
        },
        "id": "-k95yhVFNFu1",
        "outputId": "daff5dfe-8e01-4dd5-9ebf-5ffd855fbf47"
      },
      "execution_count": 15,
      "outputs": [
        {
          "output_type": "execute_result",
          "data": {
            "text/plain": [
              "array([ 2.61656051e-02, -1.17745223e+00,  1.78076433e+01, -7.44968153e+01,\n",
              "       -5.08280255e-02,  3.44216561e+00, -7.45847134e+01,  5.41452229e+02,\n",
              "        3.31464968e-02, -2.85592357e+00,  8.28675159e+01, -7.70649682e+02,\n",
              "       -2.80254777e-03,  3.79490446e-01, -1.41949045e+01,  1.99974522e+02,\n",
              "       -1.43949045e-03,  2.15923567e-01, -7.65222930e+00,  1.12738854e+02])"
            ]
          },
          "metadata": {},
          "execution_count": 15
        }
      ]
    },
    {
      "cell_type": "markdown",
      "source": [
        "E plotamos o gráfico com nossa spline cúbica"
      ],
      "metadata": {
        "id": "k_ANA2KXNZDb"
      }
    },
    {
      "cell_type": "code",
      "source": [
        "plota_spline_cubica(coefic1, x1)"
      ],
      "metadata": {
        "colab": {
          "base_uri": "https://localhost:8080/",
          "height": 265
        },
        "id": "TScs1tmRNRjB",
        "outputId": "b50d5233-4c89-45d9-eda3-f629af735281"
      },
      "execution_count": 17,
      "outputs": [
        {
          "output_type": "display_data",
          "data": {
            "image/png": "[encoded data removed]",
            "text/plain": [
              "<Figure size 432x288 with 1 Axes>"
            ]
          },
          "metadata": {
            "needs_background": "light"
          }
        }
      ]
    },
    {
      "cell_type": "markdown",
      "source": [
        "Por fim, desejamos descobrir f(45), que está dentro do último intervalo analisado ([40,50]). Assim, devemos utilizar os 4 últimos coeficientes e substituir o valor de x no polinômio de terceiro grau obtido por 45"
      ],
      "metadata": {
        "id": "45gTb0XaN3wK"
      }
    },
    {
      "cell_type": "code",
      "source": [
        "def f1(coefic, x):\n",
        "  return coefic[-4]*(x**3) + coefic[-3]*(x**2) + coefic[-2]*x + coefic[-1]"
      ],
      "metadata": {
        "id": "5qqTNL3GNsw5"
      },
      "execution_count": 18,
      "outputs": []
    },
    {
      "cell_type": "code",
      "source": [
        "f45 = f1(coefic1, 45)\n",
        "f45"
      ],
      "metadata": {
        "colab": {
          "base_uri": "https://localhost:8080/"
        },
        "id": "hvCK7VelOZja",
        "outputId": "e5972719-de3a-4991-fbe7-c3b6070a0eac"
      },
      "execution_count": 20,
      "outputs": [
        {
          "output_type": "execute_result",
          "data": {
            "text/plain": [
              "74.46019108280257"
            ]
          },
          "metadata": {},
          "execution_count": 20
        }
      ]
    },
    {
      "cell_type": "markdown",
      "source": [
        "Um valor razoável, dado o gráfico obtido anteriormente"
      ],
      "metadata": {
        "id": "knrpBBeFOl5E"
      }
    },
    {
      "cell_type": "markdown",
      "source": [
        "**QUESTÃO 2**"
      ],
      "metadata": {
        "id": "pJ_kx3gfOpcb"
      }
    },
    {
      "cell_type": "markdown",
      "source": [
        "Para encontrar o comprimento da pista, devemos integrar a velocidade em relação ao tempo. Para realizar tal procedimento, podemos utilizar qualquer um dos procedimentos já analisados, mas iremos utilizar a função newton_cotes, que utiliza os três métodos mais simples de integração de maneira otimizada"
      ],
      "metadata": {
        "id": "-oXe_O4cOvjr"
      }
    },
    {
      "cell_type": "code",
      "source": [
        "# Método do trapézio simples para calcular a integral de um intervalo [a,b]\n",
        "def trapezio(a, fa, b, fb):\n",
        "  return (b-a)*(fa+fb)/2"
      ],
      "metadata": {
        "id": "pqjjRZsWPYOM"
      },
      "execution_count": 21,
      "outputs": []
    },
    {
      "cell_type": "code",
      "source": [
        "# Método de 3/8 de Simpson simples\n",
        "def tresoitavossimpson(pontos):\n",
        "  # Pontos é uma lista de tuples, onde cada tuple representa o par ordenado (x, f(x))\n",
        "  return (pontos[3][0]-pontos[0][0])*(pontos[0][1] + 3*pontos[1][1] + 3*pontos[2][1] + pontos[3][1])/8"
      ],
      "metadata": {
        "id": "Yvlzda_uPYUr"
      },
      "execution_count": 22,
      "outputs": []
    },
    {
      "cell_type": "code",
      "source": [
        "# Método de 1/3 de Simpson repetida\n",
        "def simpson_repetida(pontos):\n",
        "  # Pontos é uma lista de tuples, onde cada tuple representa o par ordenado (x, f(x))\n",
        "  n = len(pontos)\n",
        "  resp = 0\n",
        "  for i in range(n):\n",
        "    if i == 0 or i == n-1:\n",
        "      fator = 1\n",
        "    elif i % 2 == 0:\n",
        "      fator = 2\n",
        "    else:\n",
        "      fator = 4\n",
        "    resp += fator*pontos[i][1]\n",
        "  return (pontos[n-1][0]-pontos[0][0])*resp/(3*(n-1))"
      ],
      "metadata": {
        "id": "0vi69ov2PYaw"
      },
      "execution_count": 49,
      "outputs": []
    },
    {
      "cell_type": "code",
      "source": [
        "# Função para calcular de maneira otimizada a integral entre os pontos fornecidos\n",
        "def newton_cotes(pontos):\n",
        "  n = len(pontos)\n",
        "  resp = 0\n",
        "  i = 0 # i é a variável que representa o menor ponto do intervalo analisado na iteração atual\n",
        "  while(i<n-1): # De acordo com a definição de i descrita acima, não faz sentido i = n-1, já que pontos[n-1] é o último elemento da lista\n",
        "    j = i+1 \n",
        "    count = 1\n",
        "    # j é uma variável utilizada para contar, juntamente com count, quantos intervalos consecutivos possuem o mesmo tamanho\n",
        "    # Dessa forma, j representa o menor valor do próximo intervalo e o laço a seguir testa se tal intervalo possui o mesmo tamanho do atual\n",
        "    while j < n-1 and pontos[j+1][0]-pontos[j][0] == pontos[i+1][0]-pontos[i][0]:\n",
        "      count += 1\n",
        "      j += 1\n",
        "    if count % 2 == 0:\n",
        "      # Se o número de intervalos consecutivos de mesmo comprimento for par, podemos utilizar o método de 1/3 de Simpson repetido\n",
        "      resp += simpson_repetida(pontos[i:i+count+1])\n",
        "    elif count == 3:\n",
        "      # Se o número de intervalos consecutivos de mesmo comprimento for 3, podemos utilizar o método de 3/8 de Simpson \n",
        "      resp += tresoitavossimpson(pontos[i:i+count+1])\n",
        "    elif count > 3:\n",
        "      # Se o número de intervalos consecutivos de mesmo comprimento for ímpar e maior que 3, podemos utilizar \n",
        "      # O método de 1/3 de Simpson repetido em todos os intervalos menos nos 3 últimos, nos quais vamos utilizar o método de 3/8 de Simpson\n",
        "      resp += simpson_repetida(pontos[i:i+count-2]) + tresoitavossimpson(pontos[i+count-2:i+count+1])\n",
        "      # Também é possível utilizar o método de 1/3 de Simpson repetido nos count-1 intervalos e o método do trapézio no último, \n",
        "      # porém foi escolhido o método acima, uma vez que o método de 3/8 de Simpson é mais preciso que o do trapézio\n",
        "    else:\n",
        "      # Se não houver nenhum intervalo subsequente de mesmo tamanho do atual, devemos aplicar o método do trapézio\n",
        "      resp += trapezio(pontos[i][0], pontos[i][1], pontos[i+1][0], pontos[i+1][1])\n",
        "    i += count # A variável i é atualizada para o menor valor do próximo intervalo com tamanho diferente do atual\n",
        "  return resp"
      ],
      "metadata": {
        "id": "b-gU38n4Odre"
      },
      "execution_count": 24,
      "outputs": []
    },
    {
      "cell_type": "markdown",
      "source": [
        "Assim, passamos os dados do enunciado como parâmetros da função, com x = tempo (s) e f(x) = velocidade (m/s)"
      ],
      "metadata": {
        "id": "T_EUkXGmPpZG"
      }
    },
    {
      "cell_type": "code",
      "source": [
        "pontos2 = [(0,62),(0.5,74),(1, 73.5),(1.5,60.5),(48,49.5),(48.5,42.5),(49,39),(59,44.5),(69,58),(79,61.5)]\n",
        "pontos2"
      ],
      "metadata": {
        "colab": {
          "base_uri": "https://localhost:8080/"
        },
        "id": "-ZVp63-0PjUv",
        "outputId": "528718d6-ce0c-48fd-f454-623df978cd6f"
      },
      "execution_count": 26,
      "outputs": [
        {
          "output_type": "execute_result",
          "data": {
            "text/plain": [
              "[(0, 62),\n",
              " (0.5, 74),\n",
              " (1, 73.5),\n",
              " (1.5, 60.5),\n",
              " (48, 49.5),\n",
              " (48.5, 42.5),\n",
              " (49, 39),\n",
              " (59, 44.5),\n",
              " (69, 58),\n",
              " (79, 61.5)]"
            ]
          },
          "metadata": {},
          "execution_count": 26
        }
      ]
    },
    {
      "cell_type": "code",
      "source": [
        "comprimento_pista = newton_cotes(pontos2)\n",
        "comprimento_pista"
      ],
      "metadata": {
        "colab": {
          "base_uri": "https://localhost:8080/"
        },
        "id": "Gb4lAav2QPEG",
        "outputId": "5d387c45-ba0e-4055-bd79-c1f20e3861a8"
      },
      "execution_count": 27,
      "outputs": [
        {
          "output_type": "execute_result",
          "data": {
            "text/plain": [
              "4236.520833333334"
            ]
          },
          "metadata": {},
          "execution_count": 27
        }
      ]
    },
    {
      "cell_type": "markdown",
      "source": [
        "Portanto, o comprimento da pista é de aproximadamente 4,24 km"
      ],
      "metadata": {
        "id": "0TcPn5LVQZgb"
      }
    },
    {
      "cell_type": "markdown",
      "source": [
        "**QUESTÃO 3**"
      ],
      "metadata": {
        "id": "UTR4mn8FQimr"
      }
    },
    {
      "cell_type": "markdown",
      "source": [
        "Primeiramente, vamos definir o código para solucionar uma integral dupla"
      ],
      "metadata": {
        "id": "4g3ZNMJ-Ql_s"
      }
    },
    {
      "cell_type": "code",
      "source": [
        "# Função para calcular uma integral dupla\n",
        "def integral_dupla(f, intervalox, nx, intervaloy, ny):\n",
        "  Y = np.linspace(intervaloy[0], intervaloy[1], ny)\n",
        "  X = np.linspace(intervalox[0], intervalox[1], nx)\n",
        "  integrais = [simpson_repetida([(x, f(x, y)) for x in X]) for y in Y ] \n",
        "  # Para cada valor de y, calculamos a integral em x\n",
        "  pontos = [(Y[i], integrais[i]) for i in range(ny)]\n",
        "  return simpson_repetida(pontos) # Calculamos a integral em y com os valores obtidos anteriormente"
      ],
      "metadata": {
        "id": "sxqghXozQXxs"
      },
      "execution_count": 45,
      "outputs": []
    },
    {
      "cell_type": "markdown",
      "source": [
        "Com isso, podemos definir nossa função f(x,y) e solucionar a integral"
      ],
      "metadata": {
        "id": "yfsuGF2zQ3qb"
      }
    },
    {
      "cell_type": "code",
      "source": [
        "def f3(x,y):\n",
        "  return 1/((x+y)**2)"
      ],
      "metadata": {
        "id": "xcS682EqQ0xv"
      },
      "execution_count": 30,
      "outputs": []
    },
    {
      "cell_type": "markdown",
      "source": [
        "Como hx = 0.2, temos que (4-3)/(nx-1) = 0.2, logo nx = 6. Do mesmo modo, hy = 0.25 significa que (2-1)/(ny-1) = 0.25 e ny = 5, considerando nx e ny o número de pontos de x e y, respectivamente."
      ],
      "metadata": {
        "id": "5s49jrcOSsF-"
      }
    },
    {
      "cell_type": "code",
      "source": [
        "I3 = integral_dupla(f3, (3,4), 6, (1,2), 5)\n",
        "I3"
      ],
      "metadata": {
        "colab": {
          "base_uri": "https://localhost:8080/"
        },
        "id": "62YrUVS-RDSp",
        "outputId": "3ae90b6a-8ba2-4404-d45c-ffb678bdac7d"
      },
      "execution_count": 50,
      "outputs": [
        {
          "output_type": "execute_result",
          "data": {
            "text/plain": [
              "0.03851866147759433"
            ]
          },
          "metadata": {},
          "execution_count": 50
        }
      ]
    },
    {
      "cell_type": "markdown",
      "source": [
        "**QUESTÃO 4**"
      ],
      "metadata": {
        "id": "5E2BG5HIVefS"
      }
    },
    {
      "cell_type": "markdown",
      "source": [
        "Primeiramente, devemos definir uma função para calcular integrais impróprias. Para isso, podemos observar que, sendo a o limite inferior e b o limite superior, temos que a.b > 0. Logo, podemos utilizar o seguinte artifício"
      ],
      "metadata": {
        "id": "LBMmrD6QVgsy"
      }
    },
    {
      "cell_type": "code",
      "source": [
        "# Método da quadratura gaussiana para 3 pontos\n",
        "def quadratura_gaussiana(f, a, b):\n",
        "  # Onde f é a função a ser integrada, a é o limite inferior e b o superior\n",
        "  t = [-0.7746, 0, 0.7746]\n",
        "  A = [0.5556, 0.8889, 0.5556]\n",
        "  # Parâmetros normalizados\n",
        "  resp = 0\n",
        "  for i in range(3):\n",
        "    x = ((b-a)*t[i]+a+b)/2 # Convertendo para o intervalo [a,b]\n",
        "    resp += A[i]*f(x)\n",
        "  return (b-a)*resp/2"
      ],
      "metadata": {
        "id": "nu8lpAJNaVCH"
      },
      "execution_count": 62,
      "outputs": []
    },
    {
      "cell_type": "code",
      "source": [
        "# Função para calcular uma integral imprópria indo de uma constante positiva à +infinito\n",
        "def integral_impropria_duplopositivo(g, a):\n",
        "  return quadratura_gaussiana(g, 0, 1/a) # Para isso, basta realizarmos uma alteração de variável em que 1/x = t\n",
        "  # e integrarmos de 0 à 1/a"
      ],
      "metadata": {
        "id": "UkDZTH2zV6kI"
      },
      "execution_count": 74,
      "outputs": []
    },
    {
      "cell_type": "markdown",
      "source": [
        "Um detalhe importante é que escollhemos a quadratura gaussiana porque esse método não calcula o valor da função nos extremos (em geral). Tendo em vista que integramos de 0 à um valor positivo e na nossa função a variável aparece no denominador, podemos encontrar um erro caso tentemos integrar utilizando um método que tente obter f(0). Dessa forma, o método da quadratura Gaussiana é o mais adequado."
      ],
      "metadata": {
        "id": "KstkRbDhc6OV"
      }
    },
    {
      "cell_type": "markdown",
      "source": [
        "Assim, devemos apenas definir a função f e a função g que será utilizada para realizar a troca de variável"
      ],
      "metadata": {
        "id": "rGmOD6TudaD9"
      }
    },
    {
      "cell_type": "code",
      "source": [
        "def f4(x):\n",
        "  return (x**(-3/2))*np.sin(1/x)"
      ],
      "metadata": {
        "id": "4JkPN2AeX0fk"
      },
      "execution_count": 78,
      "outputs": []
    },
    {
      "cell_type": "code",
      "source": [
        "# Função para alterar a variável\n",
        "def g4(t):\n",
        "  return f4(1/t)/(t**2)"
      ],
      "metadata": {
        "id": "bBfpJLFRaqKq"
      },
      "execution_count": 79,
      "outputs": []
    },
    {
      "cell_type": "code",
      "source": [
        "I4 = integral_impropria_duplopositivo(g4, 2)\n",
        "I4"
      ],
      "metadata": {
        "colab": {
          "base_uri": "https://localhost:8080/"
        },
        "id": "_aRNpD1-YE2B",
        "outputId": "d8bcc99b-5848-436e-c2a1-8a77d3045c8a"
      },
      "execution_count": 80,
      "outputs": [
        {
          "output_type": "execute_result",
          "data": {
            "text/plain": [
              "0.23242551532460204"
            ]
          },
          "metadata": {},
          "execution_count": 80
        }
      ]
    },
    {
      "cell_type": "markdown",
      "source": [
        "Assim, encontramos o valor da nossa integral"
      ],
      "metadata": {
        "id": "EvF3mUMndpLl"
      }
    },
    {
      "cell_type": "code",
      "source": [
        ""
      ],
      "metadata": {
        "id": "x4UY0jA4bNgc"
      },
      "execution_count": null,
      "outputs": []
    }
  ]
}