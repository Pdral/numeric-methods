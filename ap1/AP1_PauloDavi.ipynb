{
  "nbformat": 4,
  "nbformat_minor": 0,
  "metadata": {
    "colab": {
      "name": "AP1_PauloDavi.ipynb",
      "provenance": [],
      "collapsed_sections": []
    },
    "kernelspec": {
      "name": "python3",
      "display_name": "Python 3"
    },
    "language_info": {
      "name": "python"
    }
  },
  "cells": [
    {
      "cell_type": "code",
      "metadata": {
        "id": "pShWIGSCpYes"
      },
      "source": [
        "import numpy as np\n",
        "import matplotlib.pyplot as plt"
      ],
      "execution_count": 1,
      "outputs": []
    },
    {
      "cell_type": "markdown",
      "metadata": {
        "id": "nhHFv5HzppVJ"
      },
      "source": [
        "Vamos definir os métodos utilizados nessa avaliação e uma função para esboçar gráficos"
      ]
    },
    {
      "cell_type": "code",
      "metadata": {
        "id": "F6FvZzPgp6sA"
      },
      "source": [
        "def bisseccao(a, b, f, erromax, maxiter=50, iter=0, verro=[]):\n",
        "    x = (a+b)/2\n",
        "    iter += 1\n",
        "    erro = abs((x-a)/x)\n",
        "    verro.append(erro)\n",
        "    if erro <= erromax or iter == maxiter or f(x)==0:\n",
        "      return x, iter, verro\n",
        "    if f(a)*f(x) < 0:\n",
        "      return bisseccao(a, x, f, erromax, maxiter, iter, verro)\n",
        "    return bisseccao(x, b, f, erromax, maxiter, iter, verro)  "
      ],
      "execution_count": 11,
      "outputs": []
    },
    {
      "cell_type": "code",
      "metadata": {
        "id": "Hs2Mt9oAp6wW"
      },
      "source": [
        "def falsaposicao(a, b, f, erromax, maxiter=50, iter=0, verro=[]):\n",
        "    x = (a*f(b) - b*f(a))/(f(b)-f(a))\n",
        "    iter += 1\n",
        "    erro = abs((x-a)/x)\n",
        "    verro.append(erro)\n",
        "    if erro<=erromax or iter==maxiter or f(x)==0:\n",
        "      return x, iter, verro\n",
        "    if f(a)*f(x) < 0:\n",
        "      return falsaposicao(a, x, f, erromax, maxiter, iter, verro)\n",
        "    return falsaposicao(x, b, f, erromax, maxiter, iter, verro)"
      ],
      "execution_count": 3,
      "outputs": []
    },
    {
      "cell_type": "code",
      "metadata": {
        "id": "ELCEQtQwp61f"
      },
      "source": [
        "def newtonraphson(xk, f, g, erromax, maxiter=50, iter=0, verro=[]):\n",
        "  x = xk - (f(xk)/g(xk))\n",
        "  erro = abs((x-xk)/x)\n",
        "  verro.append(erro)\n",
        "  iter += 1\n",
        "  if erro <= erromax or iter == maxiter:\n",
        "    return x, iter, verro\n",
        "  return newtonraphson(x, f, g, erromax, maxiter, iter, verro)"
      ],
      "execution_count": 4,
      "outputs": []
    },
    {
      "cell_type": "code",
      "metadata": {
        "id": "xUth7gn_p653"
      },
      "source": [
        "def secante(xj, xk, f, erromax, maxiter=50, iter=0, verro=[]):\n",
        "  x = (xj*f(xk)-xk*f(xj))/(f(xk)-f(xj))\n",
        "  erro = abs((x-xk)/x)\n",
        "  verro.append(erro)\n",
        "  iter += 1\n",
        "  if erro <= erromax or iter == maxiter:\n",
        "    return x, iter, verro\n",
        "  return secante(xk, x, f, erromax, maxiter, iter, verro)"
      ],
      "execution_count": 5,
      "outputs": []
    },
    {
      "cell_type": "code",
      "metadata": {
        "id": "OJM7o5uAp471"
      },
      "source": [
        "def plotagrafico(f, xmin, xmax, niter):\n",
        "  x = np.linspace(xmin,xmax,niter)\n",
        "  y = f(x)\n",
        "  plt.grid()\n",
        "  plt.plot(x, y)"
      ],
      "execution_count": 6,
      "outputs": []
    },
    {
      "cell_type": "markdown",
      "metadata": {
        "id": "KrwQoPumqMyB"
      },
      "source": [
        "**QUESTÃO 1**"
      ]
    },
    {
      "cell_type": "code",
      "metadata": {
        "id": "Lhox1lUOqLdB"
      },
      "source": [
        "def f1(x):\n",
        "  return x**3 - x - 1"
      ],
      "execution_count": 7,
      "outputs": []
    },
    {
      "cell_type": "markdown",
      "metadata": {
        "id": "aE94V_5aqaT-"
      },
      "source": [
        "Vamos, primeiramente, utilizar o método da bissecção para calcular a raiz da função no intervalo [1,2]"
      ]
    },
    {
      "cell_type": "code",
      "metadata": {
        "id": "YQrt9_YAqWVP"
      },
      "source": [
        "x1_bissec, numiter1_bissec, verro1_bissec = bisseccao(1, 2, f1, 1e-06, 100)"
      ],
      "execution_count": 12,
      "outputs": []
    },
    {
      "cell_type": "code",
      "metadata": {
        "colab": {
          "base_uri": "https://localhost:8080/"
        },
        "id": "5twYwxp7qyRJ",
        "outputId": "4975f78a-ef32-4211-a6f3-d4d47a088403"
      },
      "source": [
        "x1_bissec"
      ],
      "execution_count": 13,
      "outputs": [
        {
          "output_type": "execute_result",
          "data": {
            "text/plain": [
              "1.3247175216674805"
            ]
          },
          "metadata": {},
          "execution_count": 13
        }
      ]
    },
    {
      "cell_type": "code",
      "metadata": {
        "colab": {
          "base_uri": "https://localhost:8080/"
        },
        "id": "N0T56vtvqzql",
        "outputId": "44955d7b-ab26-4839-9ff3-81aa6c8e1964"
      },
      "source": [
        "numiter1_bissec"
      ],
      "execution_count": 14,
      "outputs": [
        {
          "output_type": "execute_result",
          "data": {
            "text/plain": [
              "20"
            ]
          },
          "metadata": {},
          "execution_count": 14
        }
      ]
    },
    {
      "cell_type": "code",
      "metadata": {
        "colab": {
          "base_uri": "https://localhost:8080/"
        },
        "id": "rB_h10q6rHfu",
        "outputId": "74599783-25b3-47a4-97f1-2b208c888082"
      },
      "source": [
        "verro1_bissec[-1]"
      ],
      "execution_count": 15,
      "outputs": [
        {
          "output_type": "execute_result",
          "data": {
            "text/plain": [
              "7.1990767903924e-07"
            ]
          },
          "metadata": {},
          "execution_count": 15
        }
      ]
    },
    {
      "cell_type": "markdown",
      "metadata": {
        "id": "Jzr4ijEXrULv"
      },
      "source": [
        "Uma vez que verro possui todos os erros armazenados durante as iterações, do método, verro[-1] possuirá o erro final. Vamos agora comparar esse resultado com o método da falsa posição"
      ]
    },
    {
      "cell_type": "code",
      "metadata": {
        "id": "YMugq-16rL8g"
      },
      "source": [
        "x1_fp, numiter1_fp, verro1_fp = falsaposicao(1, 2, f1, 1e-06, 100)"
      ],
      "execution_count": 16,
      "outputs": []
    },
    {
      "cell_type": "code",
      "metadata": {
        "colab": {
          "base_uri": "https://localhost:8080/"
        },
        "id": "OIlTFwqRrpR9",
        "outputId": "667f764b-9ef7-4bff-c617-adc3ba4a90d5"
      },
      "source": [
        "x1_fp"
      ],
      "execution_count": 17,
      "outputs": [
        {
          "output_type": "execute_result",
          "data": {
            "text/plain": [
              "1.324717498779053"
            ]
          },
          "metadata": {},
          "execution_count": 17
        }
      ]
    },
    {
      "cell_type": "code",
      "metadata": {
        "colab": {
          "base_uri": "https://localhost:8080/"
        },
        "id": "-raqnoVHrqIK",
        "outputId": "1ea008cf-4d41-4f56-8873-fb0f905e2c0b"
      },
      "source": [
        "numiter1_fp"
      ],
      "execution_count": 18,
      "outputs": [
        {
          "output_type": "execute_result",
          "data": {
            "text/plain": [
              "16"
            ]
          },
          "metadata": {},
          "execution_count": 18
        }
      ]
    },
    {
      "cell_type": "code",
      "metadata": {
        "colab": {
          "base_uri": "https://localhost:8080/"
        },
        "id": "_nfzzbZErrC9",
        "outputId": "381b640e-d99a-4d1f-dff3-e68e4981462c"
      },
      "source": [
        "verro1_fp[-1]"
      ],
      "execution_count": 19,
      "outputs": [
        {
          "output_type": "execute_result",
          "data": {
            "text/plain": [
              "4.7008828617568334e-07"
            ]
          },
          "metadata": {},
          "execution_count": 19
        }
      ]
    },
    {
      "cell_type": "markdown",
      "metadata": {
        "id": "NONsbbaSrwLQ"
      },
      "source": [
        "Podemos observar que o número de iterações realizadas pelo método da falsa posição foi menor que o realizado pelo método da bissecção, além de ter obtido um erro menor. Portanto, o método da falsa posição foi mais efetivo para avaliar essa função no intervalo designado. Vamos analisar o gráfico da função para ter uma noção do desempenho dos métodos"
      ]
    },
    {
      "cell_type": "code",
      "metadata": {
        "colab": {
          "base_uri": "https://localhost:8080/",
          "height": 288
        },
        "id": "dUXXcNzKu17X",
        "outputId": "6f1ebdb7-7c6b-4f45-ad7a-a60a9d3bc962"
      },
      "source": [
        "plotagrafico(f1, 1.324717, 1.324718, 1000)"
      ],
      "execution_count": 31,
      "outputs": [
        {
          "output_type": "display_data",
          "data": {
            "image/png": "[encoded data removed]",
            "text/plain": [
              "<Figure size 432x288 with 1 Axes>"
            ]
          },
          "metadata": {
            "needs_background": "light"
          }
        }
      ]
    },
    {
      "cell_type": "markdown",
      "metadata": {
        "id": "MurRxx9evMcz"
      },
      "source": [
        "Apesar de tudo, o método da bissecção obteve um valor mais próximo da raiz real! (Lembrando que os erros encontrados com as funções são apenas aproximações, para calcularmos o erro real precisaríamos da raiz real, recurso do qual não dispomos)"
      ]
    },
    {
      "cell_type": "code",
      "metadata": {
        "id": "Tm6OrsydrtlK"
      },
      "source": [
        "#Programa que retorna o número de iterações e os erros de cada método\n",
        "def questao1():\n",
        "  x1_bissec, numiter1_bissec, verro1_bissec = bisseccao(1, 2, f1, 1e-06, 100)\n",
        "  x1_fp, numiter1_fp, verro1_fp = falsaposicao(1, 2, f1, 1e-06, 100)\n",
        "  return numiter1_bissec, verro1_bissec[-1], numiter1_fp, verro1_fp[-1]"
      ],
      "execution_count": 20,
      "outputs": []
    },
    {
      "cell_type": "code",
      "metadata": {
        "colab": {
          "base_uri": "https://localhost:8080/"
        },
        "id": "pvqDpXCRst64",
        "outputId": "e994e4b1-7fdc-41e4-d022-e54a6bd7487b"
      },
      "source": [
        "questao1()"
      ],
      "execution_count": 22,
      "outputs": [
        {
          "output_type": "execute_result",
          "data": {
            "text/plain": [
              "(20, 7.1990767903924e-07, 16, 4.7008828617568334e-07)"
            ]
          },
          "metadata": {},
          "execution_count": 22
        }
      ]
    },
    {
      "cell_type": "markdown",
      "metadata": {
        "id": "KVqTCte4szFS"
      },
      "source": [
        "**QUESTÃO 2**"
      ]
    },
    {
      "cell_type": "code",
      "metadata": {
        "id": "49WoSP3NswW_"
      },
      "source": [
        "def f2(x):\n",
        "  return x**3 - x**2 - 2*x + 1"
      ],
      "execution_count": 23,
      "outputs": []
    },
    {
      "cell_type": "markdown",
      "metadata": {
        "id": "yj4mnx4TtDYB"
      },
      "source": [
        "Para utilizar o método de Newton-Raphson, precisamos calcular f'(x) (chamaremos de g2(x)"
      ]
    },
    {
      "cell_type": "code",
      "metadata": {
        "id": "quKlbV5Ps9tg"
      },
      "source": [
        "def g2(x):\n",
        "  return 3*x**2 - 2*x - 2"
      ],
      "execution_count": 24,
      "outputs": []
    },
    {
      "cell_type": "markdown",
      "metadata": {
        "id": "HUN_VGXKtZFY"
      },
      "source": [
        "Como o intervalo a ser analisado é [1,2], vamos utilizar xk=1.5 como estimativa inicial."
      ]
    },
    {
      "cell_type": "code",
      "metadata": {
        "colab": {
          "base_uri": "https://localhost:8080/"
        },
        "id": "LYg2reiotRcT",
        "outputId": "c822802f-2f94-4c27-dc25-561f91608bd7"
      },
      "source": [
        "x2_nr, numiter2_nr, verro2_nr = newtonraphson(1.5, f2, g2, 0.0001)\n",
        "x2_nr"
      ],
      "execution_count": 28,
      "outputs": [
        {
          "output_type": "execute_result",
          "data": {
            "text/plain": [
              "1.801937735806029"
            ]
          },
          "metadata": {},
          "execution_count": 28
        }
      ]
    },
    {
      "cell_type": "markdown",
      "metadata": {
        "id": "3sBY3wgot2Jg"
      },
      "source": [
        "Para o método da secante, utilizaremos x-1 = 1 e x0=2"
      ]
    },
    {
      "cell_type": "code",
      "metadata": {
        "colab": {
          "base_uri": "https://localhost:8080/"
        },
        "id": "Q9kBJ8yGttMd",
        "outputId": "f126f3ef-baf6-4a33-89f4-866b1ad1eda4"
      },
      "source": [
        "x2_sec, numiter2_sec, verro2_sec = secante(1, 2, f2, 0.0001)\n",
        "x2_sec"
      ],
      "execution_count": 29,
      "outputs": [
        {
          "output_type": "execute_result",
          "data": {
            "text/plain": [
              "1.8019379399261022"
            ]
          },
          "metadata": {},
          "execution_count": 29
        }
      ]
    },
    {
      "cell_type": "markdown",
      "metadata": {
        "id": "JzuMH8AMuIWp"
      },
      "source": [
        "Os dois métodos convergiram para o mesmo valor, vamos observar o gráfico da função para avaliar seus desempenhos."
      ]
    },
    {
      "cell_type": "code",
      "metadata": {
        "colab": {
          "base_uri": "https://localhost:8080/",
          "height": 288
        },
        "id": "oSmxcy_NuGir",
        "outputId": "f6c7978c-cc84-43f5-8b80-bdd5636a2d8c"
      },
      "source": [
        "plotagrafico(f2, 1.801937, 1.801938, 1000)"
      ],
      "execution_count": 30,
      "outputs": [
        {
          "output_type": "display_data",
          "data": {
            "image/png": "[encoded data removed]",
            "text/plain": [
              "<Figure size 432x288 with 1 Axes>"
            ]
          },
          "metadata": {
            "needs_background": "light"
          }
        }
      ]
    },
    {
      "cell_type": "markdown",
      "metadata": {
        "id": "tzjdQD_Vuk91"
      },
      "source": [
        "Aparentemente, o método de Newton-Raphson aproximou-se mais da raiz real que o método da secante."
      ]
    },
    {
      "cell_type": "markdown",
      "metadata": {
        "id": "hEtq5SZRurqZ"
      },
      "source": [
        "**QUESTÃO 3**"
      ]
    },
    {
      "cell_type": "markdown",
      "metadata": {
        "id": "iIHM19HtvnOx"
      },
      "source": [
        "A igualdade cos^3(teta) = sen(teta) ocorrerá quando teta for a raiz da função f3(x) = cos^3(teta) - sen(teta)."
      ]
    },
    {
      "cell_type": "code",
      "metadata": {
        "id": "vZvUP-N1uYtn"
      },
      "source": [
        "def f3(x):\n",
        "  return np.cos(x)**3 - np.sin(x)"
      ],
      "execution_count": 32,
      "outputs": []
    },
    {
      "cell_type": "markdown",
      "metadata": {
        "id": "-l63WhfLwFzh"
      },
      "source": [
        "Vamos analisar o gráfico da função para escolher um método adequado e utilizar os melhores parâmetros iniciais."
      ]
    },
    {
      "cell_type": "code",
      "metadata": {
        "colab": {
          "base_uri": "https://localhost:8080/",
          "height": 264
        },
        "id": "ucC0L2NiwASO",
        "outputId": "2da12813-98a1-40a4-fe1b-a130f2b6a5e2"
      },
      "source": [
        "plotagrafico(f3, 0, 5, 1000)"
      ],
      "execution_count": 35,
      "outputs": [
        {
          "output_type": "display_data",
          "data": {
            "image/png": "[encoded data removed]",
            "text/plain": [
              "<Figure size 432x288 with 1 Axes>"
            ]
          },
          "metadata": {
            "needs_background": "light"
          }
        }
      ]
    },
    {
      "cell_type": "markdown",
      "metadata": {
        "id": "h3zvAxYXx1Hq"
      },
      "source": [
        "Aparentemente, o intervalo [0,1] parece suficientemente bom para ser analisado. Vamos utilizar o método da secante para encontrar a raiz."
      ]
    },
    {
      "cell_type": "code",
      "metadata": {
        "colab": {
          "base_uri": "https://localhost:8080/"
        },
        "id": "sDI2uYc3wC1a",
        "outputId": "dff7c398-5ba8-480b-fb5c-3d507feed796"
      },
      "source": [
        "x3_sec, numiter3_sec, verro3_sec = secante(0, 1, f3, 1e-06)\n",
        "x3_sec"
      ],
      "execution_count": 37,
      "outputs": [
        {
          "output_type": "execute_result",
          "data": {
            "text/plain": [
              "0.5987667052183364"
            ]
          },
          "metadata": {},
          "execution_count": 37
        }
      ]
    },
    {
      "cell_type": "code",
      "metadata": {
        "colab": {
          "base_uri": "https://localhost:8080/"
        },
        "id": "X0mTLCeUyKLh",
        "outputId": "e556bd74-8086-4bb0-f071-cad8be06c406"
      },
      "source": [
        "numiter3_sec"
      ],
      "execution_count": 38,
      "outputs": [
        {
          "output_type": "execute_result",
          "data": {
            "text/plain": [
              "4"
            ]
          },
          "metadata": {},
          "execution_count": 38
        }
      ]
    },
    {
      "cell_type": "markdown",
      "metadata": {
        "id": "SZJrqZ53yUTE"
      },
      "source": [
        "Um valor que concorda com o observado no gráfico, com alta precisão e obtido rapidamente! (Escolhemos o método da secante pois ele e o de Newton-Raphson parecem ser os mais adequados para investigar funções mais complexas, porém o método de Newton pode divergir quando analisa aproximações em ciclo para funções periódicas. Portanto, como f3(x) envolve senos e cossenos, evitamos que isso ocorra. O método da secante convergirá desde que escolhamos pontos com valores suficientemente distantes entre si)."
      ]
    },
    {
      "cell_type": "markdown",
      "metadata": {
        "id": "MIr61o69yfBJ"
      },
      "source": [
        "**QUESTÃO 4**"
      ]
    },
    {
      "cell_type": "code",
      "metadata": {
        "id": "-vgbZSoxyTNY"
      },
      "source": [
        "def encontraintervalos(f, num, min=-1000, max=1000):\n",
        "  intervalos = []\n",
        "  i = min\n",
        "  while len(intervalos) < num and i < max:\n",
        "    if f(i)*f(i+1) < 0:\n",
        "      intervalos.append([i, i+1])\n",
        "    i += 1\n",
        "  return intervalos"
      ],
      "execution_count": 45,
      "outputs": []
    },
    {
      "cell_type": "markdown",
      "metadata": {
        "id": "zSikhbDk0wkD"
      },
      "source": [
        "Com a função definida acima, podemos encontrar o número de zeros desejado dentro de um intervalo especificado"
      ]
    },
    {
      "cell_type": "markdown",
      "metadata": {
        "id": "guTTtED71Rei"
      },
      "source": [
        "ITEM A"
      ]
    },
    {
      "cell_type": "code",
      "metadata": {
        "id": "EQSaW90n0sfO"
      },
      "source": [
        "def f4a(x):\n",
        "  return 1.5*x**3 - 1.5*x**2 - 3**x + 2"
      ],
      "execution_count": 41,
      "outputs": []
    },
    {
      "cell_type": "code",
      "metadata": {
        "colab": {
          "base_uri": "https://localhost:8080/"
        },
        "id": "8nNf5Le91QFU",
        "outputId": "af84ba78-9011-4328-d0b9-13cc634c8886"
      },
      "source": [
        "encontraintervalos(f4a, 100, -500, 500)"
      ],
      "execution_count": 46,
      "outputs": [
        {
          "output_type": "execute_result",
          "data": {
            "text/plain": [
              "[[-1, 0], [0, 1], [2, 3], [3, 4]]"
            ]
          },
          "metadata": {},
          "execution_count": 46
        }
      ]
    },
    {
      "cell_type": "markdown",
      "metadata": {
        "id": "HKutSRYc2IpS"
      },
      "source": [
        "Vamos utilizar o método da bissecção para encontrar as raízes nesses intervalos e comparar com os gráficos."
      ]
    },
    {
      "cell_type": "code",
      "metadata": {
        "colab": {
          "base_uri": "https://localhost:8080/"
        },
        "id": "mzew3poV1pRQ",
        "outputId": "acf2b398-b298-4bbb-f1b4-62e9ee26473b"
      },
      "source": [
        "x41_bissec, numiter41_bissec, verro41_bissec = bisseccao(-1, 0, f4a, 1e-06)\n",
        "x41_bissec"
      ],
      "execution_count": 60,
      "outputs": [
        {
          "output_type": "execute_result",
          "data": {
            "text/plain": [
              "-0.7692656517028809"
            ]
          },
          "metadata": {},
          "execution_count": 60
        }
      ]
    },
    {
      "cell_type": "code",
      "metadata": {
        "colab": {
          "base_uri": "https://localhost:8080/",
          "height": 264
        },
        "id": "uAMNpxvc2zar",
        "outputId": "7df38988-d4a4-4537-959d-b014fc4ca485"
      },
      "source": [
        "plotagrafico(f4a, -1, 0, 1000)"
      ],
      "execution_count": 54,
      "outputs": [
        {
          "output_type": "display_data",
          "data": {
            "image/png": "[encoded data removed]",
            "text/plain": [
              "<Figure size 432x288 with 1 Axes>"
            ]
          },
          "metadata": {
            "needs_background": "light"
          }
        }
      ]
    },
    {
      "cell_type": "code",
      "metadata": {
        "colab": {
          "base_uri": "https://localhost:8080/"
        },
        "id": "Zlcsl-qF2dHQ",
        "outputId": "bc4a9be7-c640-47e6-b195-fd651df50654"
      },
      "source": [
        "x42_bissec, numiter42_bissec, verro42_bissec = bisseccao(0, 1, f4a, 1e-06)\n",
        "x42_bissec"
      ],
      "execution_count": 49,
      "outputs": [
        {
          "output_type": "execute_result",
          "data": {
            "text/plain": [
              "0.5351786613464355"
            ]
          },
          "metadata": {},
          "execution_count": 49
        }
      ]
    },
    {
      "cell_type": "code",
      "metadata": {
        "colab": {
          "base_uri": "https://localhost:8080/",
          "height": 264
        },
        "id": "Miw87bOL24VS",
        "outputId": "0166ceae-44b4-42fc-c746-0a402d432891"
      },
      "source": [
        "plotagrafico(f4a, 0, 1, 1000)"
      ],
      "execution_count": 55,
      "outputs": [
        {
          "output_type": "display_data",
          "data": {
            "image/png": "[encoded data removed]",
            "text/plain": [
              "<Figure size 432x288 with 1 Axes>"
            ]
          },
          "metadata": {
            "needs_background": "light"
          }
        }
      ]
    },
    {
      "cell_type": "code",
      "metadata": {
        "colab": {
          "base_uri": "https://localhost:8080/"
        },
        "id": "9yJd18jg2kcg",
        "outputId": "69adaf32-4054-4360-f1c3-3211379c22c0"
      },
      "source": [
        "x43_bissec, numiter43_bissec, verro43_bissec = bisseccao(2, 3, f4a, 1e-06)\n",
        "x43_bissec"
      ],
      "execution_count": 50,
      "outputs": [
        {
          "output_type": "execute_result",
          "data": {
            "text/plain": [
              "2.3612613677978516"
            ]
          },
          "metadata": {},
          "execution_count": 50
        }
      ]
    },
    {
      "cell_type": "code",
      "metadata": {
        "colab": {
          "base_uri": "https://localhost:8080/",
          "height": 264
        },
        "id": "xJ0MulBa26dR",
        "outputId": "15659c34-6e3e-4587-eede-546d494dd6de"
      },
      "source": [
        "plotagrafico(f4a, 2, 3, 1000)"
      ],
      "execution_count": 56,
      "outputs": [
        {
          "output_type": "display_data",
          "data": {
            "image/png": "[encoded data removed]",
            "text/plain": [
              "<Figure size 432x288 with 1 Axes>"
            ]
          },
          "metadata": {
            "needs_background": "light"
          }
        }
      ]
    },
    {
      "cell_type": "code",
      "metadata": {
        "colab": {
          "base_uri": "https://localhost:8080/"
        },
        "id": "KppvCLYb2oO5",
        "outputId": "b96bdac9-349e-41ae-ce8c-a674758c8722"
      },
      "source": [
        "x44_bissec, numiter44_bissec, verro44_bissec = bisseccao(3, 4, f4a, 1e-06)\n",
        "x44_bissec"
      ],
      "execution_count": 51,
      "outputs": [
        {
          "output_type": "execute_result",
          "data": {
            "text/plain": [
              "3.6334781646728516"
            ]
          },
          "metadata": {},
          "execution_count": 51
        }
      ]
    },
    {
      "cell_type": "code",
      "metadata": {
        "colab": {
          "base_uri": "https://localhost:8080/",
          "height": 264
        },
        "id": "CGsDACkk28hj",
        "outputId": "b506b2b7-a1c0-46d2-b0d6-ebe0967228eb"
      },
      "source": [
        "plotagrafico(f4a, 3, 4, 1000)"
      ],
      "execution_count": 57,
      "outputs": [
        {
          "output_type": "display_data",
          "data": {
            "image/png": "[encoded data removed]",
            "text/plain": [
              "<Figure size 432x288 with 1 Axes>"
            ]
          },
          "metadata": {
            "needs_background": "light"
          }
        }
      ]
    },
    {
      "cell_type": "markdown",
      "metadata": {
        "id": "ZI5xYcjs2tRc"
      },
      "source": [
        "Os gráficos mostram que as aproximações obtidas pelo método da bissecção foram muito boas."
      ]
    },
    {
      "cell_type": "markdown",
      "metadata": {
        "id": "cRP5mBFM3SPW"
      },
      "source": [
        "ITEM C"
      ]
    },
    {
      "cell_type": "code",
      "metadata": {
        "id": "aPLYsUeP2r4B"
      },
      "source": [
        "def f4c(x):\n",
        "  return x*np.log(x) - 1"
      ],
      "execution_count": 61,
      "outputs": []
    },
    {
      "cell_type": "code",
      "metadata": {
        "colab": {
          "base_uri": "https://localhost:8080/"
        },
        "id": "cXPR-Olk3myo",
        "outputId": "8165c935-2bbd-42f4-ebcb-d150b3ef1530"
      },
      "source": [
        "encontraintervalos(f4c, 100, 0, 10000)"
      ],
      "execution_count": 64,
      "outputs": [
        {
          "output_type": "stream",
          "name": "stderr",
          "text": [
            "/usr/local/lib/python3.7/dist-packages/ipykernel_launcher.py:2: RuntimeWarning: divide by zero encountered in log\n",
            "  \n",
            "/usr/local/lib/python3.7/dist-packages/ipykernel_launcher.py:2: RuntimeWarning: invalid value encountered in double_scalars\n",
            "  \n"
          ]
        },
        {
          "output_type": "execute_result",
          "data": {
            "text/plain": [
              "[[1, 2]]"
            ]
          },
          "metadata": {},
          "execution_count": 64
        }
      ]
    },
    {
      "cell_type": "markdown",
      "metadata": {
        "id": "OdS_jFQB36Cm"
      },
      "source": [
        "Foi encontrado um único intervalo pela função. Vamos analisá-lo com o método da falsa posição.}"
      ]
    },
    {
      "cell_type": "code",
      "metadata": {
        "colab": {
          "base_uri": "https://localhost:8080/"
        },
        "id": "uN2ZqN573r_b",
        "outputId": "586c284c-455e-4e73-dcc8-6e927ab3b3ca"
      },
      "source": [
        "x4_fp, numiter4_fp, verro4_fp = falsaposicao(1, 2, f4c, 1e-06, 100)\n",
        "x4_fp"
      ],
      "execution_count": 66,
      "outputs": [
        {
          "output_type": "execute_result",
          "data": {
            "text/plain": [
              "1.7632228302998445"
            ]
          },
          "metadata": {},
          "execution_count": 66
        }
      ]
    },
    {
      "cell_type": "code",
      "metadata": {
        "colab": {
          "base_uri": "https://localhost:8080/",
          "height": 264
        },
        "id": "olF-apwc4M6g",
        "outputId": "ae7ab625-8e53-4544-94af-ed16de89c278"
      },
      "source": [
        "plotagrafico(f4c, 1, 2, 1000)"
      ],
      "execution_count": 67,
      "outputs": [
        {
          "output_type": "display_data",
          "data": {
            "image/png": "[encoded data removed]",
            "text/plain": [
              "<Figure size 432x288 with 1 Axes>"
            ]
          },
          "metadata": {
            "needs_background": "light"
          }
        }
      ]
    },
    {
      "cell_type": "markdown",
      "metadata": {
        "id": "VdA-FUWN4UlP"
      },
      "source": [
        "O gráfico mostra uma boa aproximação para o valor encontrado da raiz."
      ]
    },
    {
      "cell_type": "markdown",
      "metadata": {
        "id": "jC2v214j4Zkb"
      },
      "source": [
        "**QUESTÃO 5**"
      ]
    },
    {
      "cell_type": "markdown",
      "metadata": {
        "id": "OsQKCj_m46tc"
      },
      "source": [
        "Vamos utilizar a Regra de Sinal de Descartes para analisar os polinômios solicitados:"
      ]
    },
    {
      "cell_type": "code",
      "metadata": {
        "id": "taZplAir4SdN"
      },
      "source": [
        "import itertools\n",
        "def regradesinal(parametros):\n",
        "  v = 0\n",
        "  tamanho = len(parametros)\n",
        "  for i in range(0, tamanho-1):\n",
        "    x = i+1\n",
        "    while(parametros[x]==0 and x<tamanho):\n",
        "      x += 1\n",
        "    if parametros[i]*parametros[x]<0:\n",
        "      v += 1\n",
        "  if v % 2 == 0:\n",
        "    p = list(range(0,v+1,2))\n",
        "  else:\n",
        "    p = list(range(1,v+1,2))\n",
        "\n",
        "  if tamanho % 2 == 0:\n",
        "    for i in range(0, tamanho, 2):\n",
        "      parametros[i]=-parametros[i]\n",
        "  else:\n",
        "    for i in range(1,tamanho,2):\n",
        "      parametros[i]=-parametros[i]\n",
        "  \n",
        "  v=0\n",
        "  for i in range(0, tamanho-1):\n",
        "    x = i+1\n",
        "    while(parametros[x]==0 and x<tamanho):\n",
        "      x += 1\n",
        "    if parametros[i]*parametros[x]<0:\n",
        "      v += 1\n",
        "  if v % 2 == 0:\n",
        "    n = list(range(0,v+1,2))\n",
        "  else:\n",
        "    n = list(range(1,v+1,2))\n",
        "  return p, n"
      ],
      "execution_count": 92,
      "outputs": []
    },
    {
      "cell_type": "markdown",
      "metadata": {
        "id": "RV-yTpZB_CY-"
      },
      "source": [
        "ITEM A"
      ]
    },
    {
      "cell_type": "code",
      "metadata": {
        "colab": {
          "base_uri": "https://localhost:8080/"
        },
        "id": "ockK1ypo45qh",
        "outputId": "25a57ba8-1cb1-4b6f-fbf5-aa2fbdb38b4e"
      },
      "source": [
        "regradesinal([2, 3, -2, 3, -1])"
      ],
      "execution_count": 96,
      "outputs": [
        {
          "output_type": "execute_result",
          "data": {
            "text/plain": [
              "([1, 3], [1])"
            ]
          },
          "metadata": {},
          "execution_count": 96
        }
      ]
    },
    {
      "cell_type": "markdown",
      "metadata": {
        "id": "035yOHVl_I7N"
      },
      "source": [
        "Há duas possibilidades:\n",
        "\n",
        "\n",
        "\n",
        "\n",
        "1) 3 raízes positivas e 1 negativa\n",
        "\n",
        "\n",
        "\n",
        "\n",
        "\n",
        "2) 1 raiz positiva, 1 negativa e 1 par complexo conjugado"
      ]
    },
    {
      "cell_type": "markdown",
      "metadata": {
        "id": "EZStlCO3_Zof"
      },
      "source": [
        "ITEM B"
      ]
    },
    {
      "cell_type": "code",
      "metadata": {
        "colab": {
          "base_uri": "https://localhost:8080/"
        },
        "id": "oCoPeW816coD",
        "outputId": "ceeae44f-6e58-49eb-ebc3-f48883f1cfd8"
      },
      "source": [
        "regradesinal([1,1,-9,-1,20,-12])"
      ],
      "execution_count": 97,
      "outputs": [
        {
          "output_type": "execute_result",
          "data": {
            "text/plain": [
              "([1, 3], [0, 2])"
            ]
          },
          "metadata": {},
          "execution_count": 97
        }
      ]
    },
    {
      "cell_type": "markdown",
      "metadata": {
        "id": "_jaav_s6_lpN"
      },
      "source": [
        "Há quatro possibilidades:\n",
        "\n",
        "\n",
        "\n",
        "\n",
        "1) 3 raízes positivas e 2 negativas\n",
        "\n",
        "\n",
        "\n",
        "\n",
        "\n",
        "2) 3 raízes positivas e 1 par complexo conjugado\n",
        "\n",
        "\n",
        "\n",
        "\n",
        "\n",
        "3) 1 raiz positiva, 2 negativas e 1 par complexo conjugado\n",
        "\n",
        "\n",
        "\n",
        "\n",
        "\n",
        "4) 1 raiz positiva 2 pares complexos conjugados"
      ]
    },
    {
      "cell_type": "markdown",
      "metadata": {
        "id": "F8MkGRyj_-5U"
      },
      "source": [
        "ITEM C"
      ]
    },
    {
      "cell_type": "code",
      "metadata": {
        "colab": {
          "base_uri": "https://localhost:8080/"
        },
        "id": "XtSw6VAT_jmM",
        "outputId": "47034a93-d881-42b7-880c-713d18a5e5fc"
      },
      "source": [
        "regradesinal([255,-254,253,-252])"
      ],
      "execution_count": 98,
      "outputs": [
        {
          "output_type": "execute_result",
          "data": {
            "text/plain": [
              "([1, 3], [0])"
            ]
          },
          "metadata": {},
          "execution_count": 98
        }
      ]
    },
    {
      "cell_type": "markdown",
      "metadata": {
        "id": "mgFNi-DoAGIN"
      },
      "source": [
        "Há duas possibilidades:\n",
        "\n",
        "\n",
        "\n",
        "\n",
        "1) 3 raízes positivas\n",
        "\n",
        "\n",
        "\n",
        "\n",
        "\n",
        "2) 1 raiz positiva e 1 par complexo conjugado"
      ]
    },
    {
      "cell_type": "markdown",
      "metadata": {
        "id": "O6A7KdCTAGLT"
      },
      "source": [
        "ITEM D"
      ]
    },
    {
      "cell_type": "code",
      "metadata": {
        "colab": {
          "base_uri": "https://localhost:8080/"
        },
        "id": "0vYdhWTSAFZK",
        "outputId": "d91a2adb-b0dc-4b6e-916b-f82230e55c35"
      },
      "source": [
        "regradesinal([3,-2,4,-26,-28,48])"
      ],
      "execution_count": 99,
      "outputs": [
        {
          "output_type": "execute_result",
          "data": {
            "text/plain": [
              "([0, 2, 4], [1])"
            ]
          },
          "metadata": {},
          "execution_count": 99
        }
      ]
    },
    {
      "cell_type": "markdown",
      "metadata": {
        "id": "lK9xKhOxAXzu"
      },
      "source": [
        "Há três possibilidades:\n",
        "\n",
        "\n",
        "\n",
        "\n",
        "1) 4 raízes positivas e 1 negativa\n",
        "\n",
        "\n",
        "\n",
        "\n",
        "\n",
        "2) 2 raízes positivas, 1 negativa e 1 par complexo conjugado\n",
        "\n",
        "\n",
        "\n",
        "\n",
        "\n",
        "3) 1 raiz negativa e 2 pares complexos conjugados"
      ]
    }
  ]
}